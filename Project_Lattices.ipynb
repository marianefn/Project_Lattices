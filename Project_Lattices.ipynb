{
  "nbformat": 4,
  "nbformat_minor": 0,
  "metadata": {
    "colab": {
      "provenance": [],
      "collapsed_sections": [
        "niNNsVcm5WG5",
        "OJvP9UX4I5Mj",
        "jUTAaGIeI-PL"
      ],
      "toc_visible": true,
      "authorship_tag": "ABX9TyPcm86wAEGDXGHuc+7QvEi1",
      "include_colab_link": true
    },
    "kernelspec": {
      "name": "python3",
      "display_name": "Python 3"
    },
    "language_info": {
      "name": "python"
    }
  },
  "cells": [
    {
      "cell_type": "markdown",
      "metadata": {
        "id": "view-in-github",
        "colab_type": "text"
      },
      "source": [
        "<a href=\"https://colab.research.google.com/github/marianefn/Project_Lattices/blob/main/Project_Lattices.ipynb\" target=\"_parent\"><img src=\"https://colab.research.google.com/assets/colab-badge.svg\" alt=\"Open In Colab\"/></a>"
      ]
    },
    {
      "cell_type": "markdown",
      "source": [
        "# Θέμα 8"
      ],
      "metadata": {
        "id": "niNNsVcm5WG5"
      }
    },
    {
      "cell_type": "markdown",
      "source": [
        "## Βρες αν το διάνυσμα (43, 69, 95, 110) ανήκει στο πλέγμα"
      ],
      "metadata": {
        "id": "5ZboC4M6IlB8"
      }
    },
    {
      "cell_type": "code",
      "execution_count": null,
      "metadata": {
        "colab": {
          "base_uri": "https://localhost:8080/"
        },
        "id": "umuyAC7g5Qvq",
        "outputId": "ed62d742-2bae-4236-9705-c41529780ba8"
      },
      "outputs": [
        {
          "output_type": "stream",
          "name": "stdout",
          "text": [
            "Συντελεστές για τις γραμμές του πίνακα A: [14. 11. 10. 11.]\n",
            "Υπόλοιπα για A: []\n",
            "\n",
            "Συντελεστές για τις γραμμές του πίνακα B: [ 3.00000000e+00  9.00000000e+00 -1.00000000e+00 -4.17443857e-14]\n",
            "Υπόλοιπα για B: []\n"
          ]
        }
      ],
      "source": [
        "import numpy as np\n",
        "\n",
        "# Ορισμός των πινάκων A και του διανύσματος v\n",
        "A = np.array([[1, 2, 3, 4],\n",
        "              [-1, 1, 2, 3],\n",
        "              [4, 3, 2, 1],\n",
        "              [0, 0, 1, 1]])\n",
        "\n",
        "B = np.array([[5, 8, 11, 13],\n",
        "              [4, 6, 8, 9],\n",
        "              [8, 9, 10, 10],\n",
        "              [4, 6, 9, 10]])\n",
        "\n",
        "v = np.array([43, 69, 95, 110])\n",
        "\n",
        "# Λύση για το σύστημα εξισώσεων A * x = v (γραμμικός συνδυασμός των γραμμών του A)\n",
        "coefficients_A, resids, rank, s = np.linalg.lstsq(A.T, v, rcond=None)\n",
        "\n",
        "# Έλεγχος αν το διάνυσμα ανήκει στο πλέγμα του A (αν τα υπόλοιπα είναι πολύ μικρά)\n",
        "print(\"Συντελεστές για τις γραμμές του πίνακα A:\", coefficients_A)\n",
        "print(\"Υπόλοιπα για A:\", resids)\n",
        "\n",
        "# Λύση για το σύστημα εξισώσεων B * x = v (γραμμικός συνδυασμός των γραμμών του B)\n",
        "coefficients_B, resids_b, rank_b, s_b = np.linalg.lstsq(B.T, v, rcond=None)\n",
        "\n",
        "# Έλεγχος αν το διάνυσμα ανήκει στο πλέγμα του B (αν τα υπόλοιπα είναι πολύ μικρά)\n",
        "print(\"\\nΣυντελεστές για τις γραμμές του πίνακα B:\", coefficients_B)\n",
        "print(\"Υπόλοιπα για B:\", resids_b)\n"
      ]
    },
    {
      "cell_type": "markdown",
      "source": [
        "## Βρες ορίζουσα πίνακα Α"
      ],
      "metadata": {
        "id": "OJvP9UX4I5Mj"
      }
    },
    {
      "cell_type": "code",
      "source": [
        "import numpy as np\n",
        "\n",
        "# Ορισμός του πίνακα A (ή B)\n",
        "A = np.array([[1, 2, 3, 4],\n",
        "              [-1, 1, 2, 3],\n",
        "              [4, 3, 2, 1],\n",
        "              [0, 0, 1, 1]])\n",
        "\n",
        "# Υπολογισμός του όγκου του πλέγματος (ορίζουσα του πίνακα A)\n",
        "volume_A = np.abs(np.linalg.det(A))\n",
        "\n",
        "print(\"Ο όγκος του πλέγματος που παράγεται από τις γραμμές του πίνακα A είναι:\", volume_A)"
      ],
      "metadata": {
        "colab": {
          "base_uri": "https://localhost:8080/"
        },
        "id": "2Mqh1ET09eNl",
        "outputId": "05bb288e-f87d-4f6f-f647-bb4896b3c994"
      },
      "execution_count": null,
      "outputs": [
        {
          "output_type": "stream",
          "name": "stdout",
          "text": [
            "Ο όγκος του πλέγματος που παράγεται από τις γραμμές του πίνακα A είναι: 5.000000000000001\n"
          ]
        }
      ]
    },
    {
      "cell_type": "markdown",
      "source": [
        "## Σημεία πλέγματος μέσα σε κύκλο και τετράγωνο"
      ],
      "metadata": {
        "id": "jUTAaGIeI-PL"
      }
    },
    {
      "cell_type": "code",
      "source": [
        "import numpy as np\n",
        "\n",
        "# Ορισμός του πίνακα A\n",
        "A = np.array([[1, 2, 3, 4],\n",
        "              [-1, 1, 2, 3],\n",
        "              [4, 3, 2, 1],\n",
        "              [0, 0, 1, 1]])\n",
        "\n",
        "B = np.array([[5, 8, 11, 13],\n",
        "              [4, 6, 8, 9],\n",
        "              [8, 9, 10, 10],\n",
        "              [4, 6, 9, 10]])\n",
        "\n",
        "\n",
        "# Συνάρτηση για να ελέγξουμε αν ένα διάνυσμα ανήκει στο πλέγμα\n",
        "def is_in_lattice(vector, matrix):\n",
        "    try:\n",
        "        # Λύνουμε το σύστημα A * c = vector\n",
        "        coefficients, resids, rank, s = np.linalg.lstsq(matrix.T, vector, rcond=None)\n",
        "        # Ελέγχουμε αν τα υπόλοιπα (resids) είναι κοντά στο μηδέν\n",
        "        if not np.allclose(np.dot(matrix.T, coefficients), vector):\n",
        "            return False\n",
        "\n",
        "        # Ελέγχουμε αν όλοι οι συντελεστές είναι ακέραιοι\n",
        "        return np.allclose(coefficients, np.round(coefficients))\n",
        "    except:\n",
        "        return False\n",
        "\n",
        "# Συνάρτηση για να υπολογίσουμε τα σημεία εντός του κύκλου\n",
        "def points_in_circle(radius, matrix):\n",
        "    count = 0\n",
        "    for x in range(-radius, radius + 1):\n",
        "        for y in range(-radius, radius + 1):\n",
        "            if x**2 + y**2 < radius**2:  # Εντός του κύκλου\n",
        "                vector = np.array([x, y, 0, 0])  # Μορφή (x, y, 0, 0)\n",
        "                if is_in_lattice(vector, matrix):\n",
        "                    count += 1\n",
        "    return count\n",
        "\n",
        "# Συνάρτηση για να υπολογίσουμε τα σημεία εντός του τετραγώνου\n",
        "def points_in_square(side_length, matrix):\n",
        "    count = 0\n",
        "    half_side = side_length // 2\n",
        "    for x in range(-half_side, half_side + 1):\n",
        "        for y in range(-half_side, half_side + 1):\n",
        "          if abs(x + y) + abs(x - y) < side_length:\n",
        "            vector = np.array([x, y, 0, 0])  # Μορφή (x, y, 0, 0)\n",
        "            if is_in_lattice(vector, matrix):\n",
        "                count += 1\n",
        "    return count\n",
        "\n",
        "# Ρυθμίσεις\n",
        "radius = 10  # Ακτίνα του κύκλου\n",
        "side_length = 10  # Πλευρά του τετραγώνου\n",
        "\n",
        "# Υπολογισμός\n",
        "points_circle = points_in_circle(radius, B)\n",
        "points_square = points_in_square(side_length, B)\n",
        "\n",
        "print(f\"Σημεία του πλέγματος μέσα στον κύκλο με ακτίνα 10: {points_circle}\")\n",
        "print(f\"Σημεία του πλέγματος μέσα στο τετράγωνο με πλευρά 10: {points_square}\")\n"
      ],
      "metadata": {
        "colab": {
          "base_uri": "https://localhost:8080/"
        },
        "id": "PaD9Yu974Pb3",
        "outputId": "c6651866-ac7c-4f69-d6cd-7298458b2e70"
      },
      "execution_count": null,
      "outputs": [
        {
          "output_type": "stream",
          "name": "stdout",
          "text": [
            "Σημεία του πλέγματος μέσα στον κύκλο με ακτίνα 10: 61\n",
            "Σημεία του πλέγματος μέσα στο τετράγωνο με πλευρά 10: 17\n"
          ]
        }
      ]
    },
    {
      "cell_type": "markdown",
      "source": [
        "# Θέμα 3"
      ],
      "metadata": {
        "id": "GHBYy0kxOZLh"
      }
    },
    {
      "cell_type": "code",
      "source": [
        "import numpy as np\n",
        "\n",
        "def are_linearly_independent(vec1, vec2):\n",
        "    \"\"\"\n",
        "    Ελέγχει αν δύο διανύσματα είναι γραμμικώς ανεξάρτητα.\n",
        "\n",
        "    :param vec1: Το πρώτο διάνυσμα (λίστα ή numpy array)\n",
        "    :param vec2: Το δεύτερο διάνυσμα (λίστα ή numpy array)\n",
        "    :return: True αν είναι γραμμικώς ανεξάρτητα, False αν όχι\n",
        "\n",
        "    ~~ function created with chatgpt\n",
        "    \"\"\"\n",
        "    # Μετατροπή σε numpy arrays για ευκολία\n",
        "    vec1 = np.array(vec1)\n",
        "    vec2 = np.array(vec2)\n",
        "\n",
        "    # Έλεγχος αν τα διανύσματα έχουν ίδιο μέγεθος\n",
        "    if vec1.shape != vec2.shape:\n",
        "        raise ValueError(\"Τα διανύσματα πρέπει να έχουν το ίδιο μέγεθος.\")\n",
        "\n",
        "    # Δημιουργία πίνακα από τα δύο διανύσματα\n",
        "    matrix = np.column_stack((vec1, vec2))\n",
        "\n",
        "    # Υπολογισμός ορίζουσας\n",
        "    determinant = np.linalg.det(matrix)\n",
        "\n",
        "    # Τα διανύσματα είναι γραμμικώς ανεξάρτητα αν η ορίζουσα δεν είναι 0\n",
        "    return not np.isclose(determinant, 0)\n",
        "\n",
        "# Παράδειγμα χρήσης\n",
        "vec1 = [1, 1]\n",
        "vec2 = [3, 4]\n",
        "\n",
        "print(are_linearly_independent(vec1, vec2))\n"
      ],
      "metadata": {
        "colab": {
          "base_uri": "https://localhost:8080/"
        },
        "id": "APPb6XhmOfcA",
        "outputId": "6e32db75-89c0-4aa0-bd53-8a9f80c60a72"
      },
      "execution_count": 23,
      "outputs": [
        {
          "output_type": "stream",
          "name": "stdout",
          "text": [
            "True\n"
          ]
        }
      ]
    },
    {
      "cell_type": "code",
      "source": [
        "import numpy as np\n",
        "\n",
        "def calc_norm_squared(vec):\n",
        "  \"\"\"Calculates the Euclidean norm of a vector squared up.\n",
        "  :param vec: A list or numpy array representing the vector.\n",
        "  :return: The Euclidean norm of the vector squared up.\n",
        "  \"\"\"\n",
        "  vector = np.array(vec)\n",
        "  return np.sum(vector**2)"
      ],
      "metadata": {
        "id": "_yucmDDVQcII"
      },
      "execution_count": 24,
      "outputs": []
    },
    {
      "cell_type": "code",
      "source": [
        "# prompt: create function to calculate the norm of a vector (gemini)\n",
        "\n",
        "def calc_norm(vec):\n",
        "  \"\"\"Calculates the Euclidean norm of a vector.\n",
        "  :param vec: A list or numpy array representing the vector.\n",
        "  :return: The Euclidean norm of the vector.\n",
        "  \"\"\"\n",
        "  vector = np.array(vec)\n",
        "  return np.linalg.norm(vector)"
      ],
      "metadata": {
        "id": "Axck_wlNRkai"
      },
      "execution_count": 25,
      "outputs": []
    },
    {
      "cell_type": "code",
      "source": [
        "# prompt: create function to swap vectors represented by numpy use an example to swap two vectors\n",
        "\n",
        "import numpy as np\n",
        "\n",
        "def swap_vectors(vec1, vec2):\n",
        "    \"\"\"Swaps two vectors represented by NumPy arrays.\n",
        "    :param vec1: The first vector (NumPy array).\n",
        "    :param vec2: The second vector (NumPy array).\n",
        "    :return: A tuple containing the swapped vectors (vec2, vec1).\n",
        "    \"\"\"\n",
        "    return vec2, vec1"
      ],
      "metadata": {
        "id": "BcOsHhheR9fB"
      },
      "execution_count": 26,
      "outputs": []
    },
    {
      "cell_type": "code",
      "source": [
        "import numpy as np\n",
        "\n",
        "def angle_between_vectors(vec1, vec2):\n",
        "    \"\"\" Calculates the angle between two vectors in Z^2.\n",
        "    :param v1: Το πρώτο διάνυσμα (λίστα ή numpy array)\n",
        "    :param v2: Το δεύτερο διάνυσμα (λίστα ή numpy array)\n",
        "    :return: Η γωνία σε μοίρες\n",
        "    \"\"\"\n",
        "    # Transform into numpy arrays\n",
        "    vec1 = np.array(vec1)\n",
        "    vec2 = np.array(vec2)\n",
        "\n",
        "    # Calculation of dot product\n",
        "    dot_product = np.dot(vec1, vec2)\n",
        "\n",
        "    # Calculation of norms of the two vectors\n",
        "    norm_v1 = np.linalg.norm(vec1)\n",
        "    norm_v2 = np.linalg.norm(vec2)\n",
        "\n",
        "    # Calculation of cos(θ)\n",
        "    cos_theta = dot_product / (norm_v1 * norm_v2)\n",
        "\n",
        "    # Check that cos(θ) in in [-1, 1] to avoid numeric errors\n",
        "    cos_theta = np.clip(cos_theta, -1, 1)\n",
        "\n",
        "    # Calculation in radians\n",
        "    theta_radians = np.arccos(cos_theta)\n",
        "\n",
        "    # Transformation in degrees\n",
        "    theta_degrees = np.degrees(theta_radians)\n",
        "\n",
        "    return theta_degrees\n",
        "\n",
        "# Παράδειγμα χρήσης\n",
        "v1 = [1, 2]\n",
        "v2 = [3, 4]\n",
        "\n",
        "angle = angle_between_vectors(v1, v2)\n",
        "print(f\"Η γωνία μεταξύ των διανυσμάτων είναι: {angle:.2f} μοίρες\")\n"
      ],
      "metadata": {
        "colab": {
          "base_uri": "https://localhost:8080/"
        },
        "id": "H_TVUQyztetg",
        "outputId": "5c92fa35-a6dc-4baa-a9bf-8abf38e06f43"
      },
      "execution_count": 27,
      "outputs": [
        {
          "output_type": "stream",
          "name": "stdout",
          "text": [
            "Η γωνία μεταξύ των διανυσμάτων είναι: 10.30 μοίρες\n"
          ]
        }
      ]
    },
    {
      "cell_type": "code",
      "source": [
        "# prompt: create function that generates a vector in Z^2 without limitations\n",
        "\n",
        "import numpy as np\n",
        "\n",
        "def generate_vector_z2():\n",
        "    \"\"\"Generates a random vector in Z^2.\"\"\"\n",
        "    x = np.random.randint(-100, 101)\n",
        "    y = np.random.randint(-100, 101)\n",
        "    return np.array([x, y])\n",
        "\n",
        "# Example usage\n",
        "vector = generate_vector_z2()\n",
        "vector"
      ],
      "metadata": {
        "colab": {
          "base_uri": "https://localhost:8080/"
        },
        "id": "Cqo2hCCbwRvC",
        "outputId": "a8b1b2a6-0bfe-4a61-c4e2-8c29d1a3d94a"
      },
      "execution_count": 21,
      "outputs": [
        {
          "output_type": "execute_result",
          "data": {
            "text/plain": [
              "array([-33, -14])"
            ]
          },
          "metadata": {},
          "execution_count": 21
        }
      ]
    },
    {
      "cell_type": "code",
      "source": [
        "def create_vector_pairs():\n",
        "  \"\"\" Finds two random linear independent vectors in Z^2\n",
        "  :return: vec1, vec2\"\"\"\n",
        "\n",
        "  found = False\n",
        "  vec1 = generate_vector_z2()\n",
        "  while not found:\n",
        "    vec2 = generate_vector_z2()\n",
        "    if are_linearly_independent(vec1,vec2):\n",
        "      found = True\n",
        "\n",
        "  return vec1, vec2\n",
        "\n",
        "vec1, vec2 = create_vector_pairs()\n",
        "print(vec1,vec2)"
      ],
      "metadata": {
        "colab": {
          "base_uri": "https://localhost:8080/"
        },
        "id": "Gt1wj_zLwoeT",
        "outputId": "ac9fce7a-308b-4ba2-a4b5-38a108db6eca"
      },
      "execution_count": 37,
      "outputs": [
        {
          "output_type": "stream",
          "name": "stdout",
          "text": [
            "[ 74 -50] [75 56]\n"
          ]
        }
      ]
    },
    {
      "cell_type": "markdown",
      "source": [
        "## Αλγόριθμος των Gauss-Lagrange"
      ],
      "metadata": {
        "id": "0DKZ_I7SRU35"
      }
    },
    {
      "cell_type": "code",
      "source": [
        "import math\n",
        "\n",
        "\n",
        "def gauss_lagrange(vec1, vec2):\n",
        "  \"\"\"Outputs a Lagrange-Gauss reduced basis for the lattice L.\n",
        "    :param vec1: The first vector (NumPy array).\n",
        "    :param vec2: The second vector (NumPy array).\n",
        "    :return: Basis (b1, b2) for L such that ||b_i|| = λ_i\n",
        "    \"\"\"\n",
        "\n",
        "  b1 = calc_norm_squared(vec1)\n",
        "  m = np.dot(vec1, vec2)/b1\n",
        "  vec2 = vec2 - math.ceil(m-0.5)*vec1\n",
        "  b2 = calc_norm_squared(vec2)\n",
        "\n",
        "  while calc_norm(vec2) < calc_norm(vec1):\n",
        "      vec1, vec2 = swap_vectors(vec1, vec2)\n",
        "      b1 = b2\n",
        "      m = np.dot(vec1, vec2)/b1\n",
        "      vec2 = vec2 - math.ceil(m-0.5)*vec1\n",
        "      b2 = calc_norm_squared(vec2)\n",
        "\n",
        "  return vec1, vec2\n",
        "\n",
        "\n",
        "# Requesting the vectors as input\n",
        "while True:\n",
        "    try:\n",
        "        vec1_str = input(\"Enter the first vector (e.g., 1,2,3): \")\n",
        "        vec1 = np.array([int(x) for x in vec1_str.split(',')])\n",
        "        vec2_str = input(\"Enter the second vector (e.g., 4,5,6): \")\n",
        "        vec2 = np.array([int(x) for x in vec2_str.split(',')])\n",
        "\n",
        "        if not are_linearly_independent(vec1,vec2):\n",
        "            print(\"Vectors must have the same dimension. Please enter again.\")\n",
        "            continue\n",
        "\n",
        "        break\n",
        "    except ValueError:\n",
        "        print(\"Invalid input. Please enter numbers separated by commas.\")\n",
        "\n",
        "# Checking linear independence\n",
        "if are_linearly_independent(vec1, vec2):\n",
        "    print(\"The vectors are linearly independent.\")\n",
        "else:\n",
        "    print(\"The vectors are linearly dependent.\")\n",
        "\n",
        "GL_vec1, GL_vec2 = gauss_lagrange(vec1, vec2)\n",
        "print(\"Gauss-Lagrange b1 =\",GL_vec1)\n",
        "print(\"Gauss-Lagrange b2 =\",GL_vec2)\n",
        "\n",
        "l1 = calc_norm(GL_vec1)\n",
        "print(\"l1 =\",l1)\n",
        "\n"
      ],
      "metadata": {
        "colab": {
          "base_uri": "https://localhost:8080/"
        },
        "id": "nyMug9OBRbAT",
        "outputId": "da91b7ae-bca8-490e-e7fa-9c2002548023"
      },
      "execution_count": 44,
      "outputs": [
        {
          "output_type": "stream",
          "name": "stdout",
          "text": [
            "Enter the first vector (e.g., 1,2,3): 1,3\n",
            "Enter the second vector (e.g., 4,5,6): 3,4\n",
            "The vectors are linearly independent.\n",
            "Gauss-Lagrange b1 = [2 1]\n",
            "Gauss-Lagrange b2 = [-1  2]\n",
            "l1 = 2.23606797749979\n"
          ]
        }
      ]
    },
    {
      "cell_type": "code",
      "source": [
        "angle_list = []\n",
        "\n",
        "for i in range(50):\n",
        "  # find two linearly independent vectors in Z^2\n",
        "  vec1, vec2 = create_vector_pairs()\n",
        "  # calculate the Gauss-Lagrange vectors\n",
        "  GL_vec1, GL_vec2 = gauss_lagrange(vec1, vec2)\n",
        "\n",
        "  # Calulate the angle between the two vectors\n",
        "  angle = angle_between_vectors(GL_vec1, GL_vec2)\n",
        "  angle_list.append(angle)\n",
        "\n",
        "\n",
        "angle_array = np.array(angle_list)\n",
        "print(angle_array)\n",
        "print(angle_array.mean())\n",
        "\n"
      ],
      "metadata": {
        "colab": {
          "base_uri": "https://localhost:8080/"
        },
        "id": "dqIpFsYnyZzT",
        "outputId": "08775261-a6d2-484d-b3b6-a3f7385d29e8"
      },
      "execution_count": null,
      "outputs": [
        {
          "output_type": "stream",
          "name": "stdout",
          "text": [
            "[ 94.81148364  93.44085692 114.71453102  91.39718103  90.\n",
            "  75.48573371 100.01469127  96.00900596  81.0342     101.63170046\n",
            " 114.35425641  92.51844016  91.73570459  80.71444145  70.29977509\n",
            "  94.72013693 105.09487611  87.51044708  89.56921278 111.66407567\n",
            "  85.68397248  76.97080519  97.97427377  77.86027484  90.\n",
            "  92.1210964  118.45591837  90.27381287 100.05153527  97.28985398\n",
            "  87.51044708  77.33998136  90.16884758  90.11725476  99.67091475\n",
            "  79.39351213  78.59540731  94.82468843  71.14576364  94.9778499\n",
            "  80.20270283 111.61477894  87.41643746  87.48312434  71.38983527\n",
            "  88.94478647  99.33232633  84.39290016  72.82206566  96.59991698]\n",
            "90.94691669633356\n"
          ]
        }
      ]
    },
    {
      "cell_type": "code",
      "source": [
        "# prompt: find average of numpy array\n",
        "\n",
        "import numpy as np\n",
        "\n",
        "angle_array = np.array(angle_list)\n",
        "print(angle_array.mean())"
      ],
      "metadata": {
        "id": "GuhQitU9zcHU"
      },
      "execution_count": null,
      "outputs": []
    },
    {
      "cell_type": "markdown",
      "source": [
        "# Θέμα 4"
      ],
      "metadata": {
        "id": "_sSSNYk1rZ8p"
      }
    },
    {
      "cell_type": "markdown",
      "source": [
        "## Αλγόριθμος Gram-Schmidt"
      ],
      "metadata": {
        "id": "fl7cux4hyqjd"
      }
    },
    {
      "cell_type": "code",
      "source": [
        "import numpy as np\n",
        "\n",
        "def gram_schmidt(basis):\n",
        "    \"\"\"\n",
        "    Gram-Schmidt Algorithm to create an orthogonal basis.\n",
        "    :param basis: a list of vecotrs (NumPy arrays) which create the basis B.\n",
        "    :return orthogonal_basis: list of orthogonal vectors\n",
        "    :return mu: Gram-Schmidt matrix (numpy array) with μ_ij cofacotrs\n",
        "\n",
        "    ~ used chatgpt as a reference\n",
        "    \"\"\"\n",
        "    # Initialize the orthogonal basis and the Gram-Schmidt matrix\n",
        "    n = len(basis)\n",
        "    orthogonal_basis = []\n",
        "    mu = np.zeros((n, n))\n",
        "\n",
        "    for i in range(n):\n",
        "      t1 = basis[i]\n",
        "      #t2 = t1.copy()\n",
        "      t2 = t1.astype(np.float64)\n",
        "\n",
        "      for j in range(i):\n",
        "        #mu[i, j] = np.dot(t1, orthogonal_basis[j]) / np.dot(orthogonal_basis[j], orthogonal_basis[j])\n",
        "        # Perform integer division and round to nearest integer\n",
        "        mu[i, j] = np.round(np.dot(t1, orthogonal_basis[j]) / np.dot(orthogonal_basis[j], orthogonal_basis[j])).astype(int)\n",
        "        t2 -= mu[i, j] * orthogonal_basis[j]\n",
        "\n",
        "      orthogonal_basis.append(t2)\n",
        "\n",
        "    return orthogonal_basis, mu\n",
        "\n",
        "# Παράδειγμα χρήσης\n",
        "basis = [\n",
        "    np.array([1.0, 1.0]),\n",
        "    np.array([1.0, 0.0])\n",
        "]\n",
        "\n",
        "orthogonal_basis, mu = gram_schmidt(basis)\n",
        "\n",
        "# Εκτύπωση αποτελεσμάτων\n",
        "print(\"Ορθογώνια βάση:\")\n",
        "for vec in orthogonal_basis:\n",
        "    print(vec)\n",
        "\n",
        "print(\"\\nGram-Schmidt πίνακας (μ):\")\n",
        "print(mu)\n"
      ],
      "metadata": {
        "colab": {
          "base_uri": "https://localhost:8080/"
        },
        "id": "4JNqCluP7x8i",
        "outputId": "1cad4bf5-be63-4d04-9342-f6edbf2722c2"
      },
      "execution_count": 11,
      "outputs": [
        {
          "output_type": "stream",
          "name": "stdout",
          "text": [
            "Ορθογώνια βάση:\n",
            "[1. 1.]\n",
            "[1. 0.]\n",
            "\n",
            "Gram-Schmidt πίνακας (μ):\n",
            "[[0. 0.]\n",
            " [0. 0.]]\n"
          ]
        }
      ]
    },
    {
      "cell_type": "markdown",
      "source": [
        "## Αλγόριθμος LLL"
      ],
      "metadata": {
        "id": "kwGY7cRV-Rgg"
      }
    },
    {
      "cell_type": "code",
      "source": [
        "import math\n",
        "import numpy as np\n",
        "\n",
        "def lll_algorithm(basis, delta):\n",
        "  \"\"\"\n",
        "    LLL algorithm with Euclidean norm\n",
        "    :param orthogonal_basis: a list of vecotrs (NumPy arrays) which the basis B.\n",
        "    :param delta: typically choose δ = 3/4\n",
        "    :return orthogonal_basis: list of orthogonal vectors\n",
        "    :return mu: LLL reduced basis b1, . . . , bn (numpy array)\n",
        "  \"\"\"\n",
        "  n = len(basis)\n",
        "  orthogonal_basis, mu = gram_schmidt(basis)\n",
        "  # Compute Bi = <{b_i}*,{b_i}*> = ||{b_i}*||^2\n",
        "  B = np.array([np.dot(orthogonal_basis[i], orthogonal_basis[i]) for i in range(n)])\n",
        "\n",
        "  k=1\n",
        "  while k < n:\n",
        "    # Perform size reduction\n",
        "    for j in range(k - 1, -1, -1):\n",
        "      q = math.floor(mu[k,j]+0.5)\n",
        "      basis[k] -= q*basis[j]\n",
        "      mu[k, :k + 1] -= q * mu[j, :k + 1]\n",
        "\n",
        "    orthogonal_basis, mu = gram_schmidt(basis)\n",
        "    B = np.array([np.dot(orthogonal_basis[i], orthogonal_basis[i]) for i in range(n)])\n",
        "\n",
        "    # Check Lov´asz condition\n",
        "    if k>0 and B[k] < (delta-mu[k,k-1]**2)*B[k-1]:\n",
        "        # Swap basis[k] and basis[k-1]\n",
        "        basis[k], basis[k-1] = basis[k-1], basis[k].copy()\n",
        "        orthogonal_basis, mu = gram_schmidt(basis)\n",
        "        B = np.array([np.dot(orthogonal_basis[i], orthogonal_basis[i]) for i in range(n)])\n",
        "        k = max(1, k - 1) # Changed from max(2, k - 1) to max(1, k - 1)\n",
        "    else:\n",
        "      k+=1\n",
        "\n",
        "  return basis\n",
        "\n",
        "\n",
        "\n",
        "# Examples\n",
        "delta = 0.75\n",
        "basis = np.array([[1, 1, 1], [1, 0, 2], [0, 1, 1]])\n",
        "lll_reduced_basis = lll_algorithm(basis,delta)\n",
        "print(\"LLL Reduced Basis:\")\n",
        "print(lll_reduced_basis)\n",
        "\n",
        "basis = np.array([[10,1], [1, 9]])\n",
        "lll_reduced_basis = lll_algorithm(basis,delta)\n",
        "print(\"LLL Reduced Basis:\")\n",
        "print(lll_reduced_basis)\n",
        "\n",
        "basis = np.array([[1, -1, 3], [1, 0, 5], [1, 2, 6]])\n",
        "lll_reduced_basis = lll_algorithm(basis,delta)\n",
        "print(\"LLL Reduced Basis:\")\n",
        "print(lll_reduced_basis)\n",
        "\n",
        "basis = np.array([[-36,32], [-32, -27]])\n",
        "lll_reduced_basis = lll_algorithm(basis,delta)\n",
        "print(\"LLL Reduced Basis:\")\n",
        "print(lll_reduced_basis)\n",
        "\n",
        "basis = np.array([[-1, -1, -2, -4, -1], [-2, -2, 4, -4, 2], [4, 2, -1, 1, 4], [1, -1, 1, -1, -1],[-1, 1, -1, 1, -30]])\n",
        "lll_reduced_basis = lll_algorithm(basis,delta)\n",
        "print(\"LLL Reduced Basis:\")\n",
        "print(lll_reduced_basis)\n",
        "\n",
        "basis = np.array([[42, -36, -5], [-13, 9, 30]])\n",
        "lll_reduced_basis = lll_algorithm(basis,delta)\n",
        "print(\"LLL Reduced Basis:\")\n",
        "print(lll_reduced_basis)\n"
      ],
      "metadata": {
        "colab": {
          "base_uri": "https://localhost:8080/"
        },
        "id": "l7pRMhGI-QfB",
        "outputId": "357a4e5f-03be-4441-9f48-b4ec4b1b80c0"
      },
      "execution_count": 50,
      "outputs": [
        {
          "output_type": "stream",
          "name": "stdout",
          "text": [
            "LLL Reduced Basis:\n",
            "[[-1  0  0]\n",
            " [ 0 -1  1]\n",
            " [ 0  1  1]]\n",
            "LLL Reduced Basis:\n",
            "[[10  1]\n",
            " [ 1  9]]\n",
            "LLL Reduced Basis:\n",
            "[[ 1 -1  0]\n",
            " [-1  0  1]\n",
            " [ 1  1  1]]\n",
            "LLL Reduced Basis:\n",
            "[[-36  32]\n",
            " [-32 -27]]\n",
            "LLL Reduced Basis:\n",
            "[[ 1 -1  1 -1 -1]\n",
            " [-2  0 -3 -3  0]\n",
            " [-3 -1  3 -3  3]\n",
            " [ 5  1  0  0  3]\n",
            " [ 0  6  3 -3 -7]]\n",
            "LLL Reduced Basis:\n",
            "[[-13   9  30]\n",
            " [ 29 -27  25]]\n"
          ]
        }
      ]
    },
    {
      "cell_type": "markdown",
      "source": [
        "## πρώτο διάνυσμα που δίνει ο LLL έχει μεγαλύτερο μήκος από το δεύτερο διάνυσμα"
      ],
      "metadata": {
        "id": "xOUAStZoKhUS"
      }
    },
    {
      "cell_type": "code",
      "source": [
        "def check_lll_norm_condition(max_iterations=100):\n",
        "  \"\"\"\n",
        "  Checks random lattices (up to max_iterations) until it finds one where the\n",
        "  norm of the first vector of the LLL-reduced lattice is greater than the second.\n",
        "  :parm max_iterations: The maximum number of iterations to perform.\n",
        "  :returns a tuple containing the original base, the LLL-reduced basis and the norms if the condition is met,\n",
        "    None otherwise.\n",
        "\n",
        "  ~ used Gemini as reference for naming\n",
        "  \"\"\"\n",
        "\n",
        "  for _ in range(max_iterations):\n",
        "    # Generate two random linearly independent vectors in Z^2\n",
        "    vec1, vec2 = create_vector_pairs()\n",
        "    basis = np.array([vec1, vec2])\n",
        "\n",
        "    # Apply the LLL algorithm\n",
        "    lll_basis = lll_algorithm(basis, delta=0.75)\n",
        "\n",
        "    # Check the condition\n",
        "    norm_first = calc_norm(lll_basis[0])\n",
        "    norm_second = calc_norm(lll_basis[1])\n",
        "\n",
        "    if norm_first > norm_second:\n",
        "        return  basis, lll_basis, (norm_first, norm_second)\n",
        "\n",
        "  return None\n",
        "\n",
        "\n",
        "result = check_lll_norm_condition()\n",
        "\n",
        "if result:\n",
        "    basis, lll_basis, norms = result\n",
        "    print(\"Original basis found satisfying the condition:\")\n",
        "    print(basis)\n",
        "    print(\"LLL-reduced basis found satisfying the condition:\")\n",
        "    print(lll_basis)\n",
        "    print(\"Norms:\", norms)\n",
        "else:\n",
        "    print(\"No LLL-reduced basis found satisfying the condition within the given iterations.\")"
      ],
      "metadata": {
        "colab": {
          "base_uri": "https://localhost:8080/"
        },
        "id": "LkJ3ZIQyKuIo",
        "outputId": "be17988f-f1f1-41fa-bff2-5989a72f1073"
      },
      "execution_count": 36,
      "outputs": [
        {
          "output_type": "stream",
          "name": "stdout",
          "text": [
            "Original basis found satisfying the condition:\n",
            "[[-42 -93]\n",
            " [ 93   1]]\n",
            "LLL-reduced basis found satisfying the condition:\n",
            "[[-42 -93]\n",
            " [ 93   1]]\n",
            "Norms: (102.04410811016969, 93.00537618869137)\n"
          ]
        }
      ]
    },
    {
      "cell_type": "markdown",
      "source": [
        "## Τυχαία εκτέλεση LLL και Gauss-Lagrange σε πλέγματα βαθμίδας 2"
      ],
      "metadata": {
        "id": "olfC5m2KQKZH"
      }
    },
    {
      "cell_type": "code",
      "source": [
        "def random_lll_executions(iterations):\n",
        "  \"\"\"\n",
        "  Checks <iterations> random lattices\n",
        "  :parm iterations: The number of iterations to perform.\n",
        "  :returns a tuple containing the original base, the LLL-reduced basis\n",
        "  \"\"\"\n",
        "\n",
        "  for _ in range(iterations):\n",
        "    # Generate two random linearly independent vectors in Z^2\n",
        "    vec1, vec2 = create_vector_pairs()\n",
        "    basis = np.array([vec1, vec2])\n",
        "\n",
        "    # Apply the LLL algorithm\n",
        "    lll_basis = lll_algorithm(basis, delta=0.75)\n",
        "    print(\"Original basis:\")\n",
        "    print(basis)\n",
        "    print(\"LLL-reduced basis:\")\n",
        "    print(lll_basis)\n",
        "\n",
        "  return None\n",
        "\n",
        "\n",
        "run = random_lll_executions(2)"
      ],
      "metadata": {
        "colab": {
          "base_uri": "https://localhost:8080/"
        },
        "id": "qqrg_EMHQJUQ",
        "outputId": "7cf1814e-d192-4378-f2d4-a3d12d869060"
      },
      "execution_count": 42,
      "outputs": [
        {
          "output_type": "stream",
          "name": "stdout",
          "text": [
            "Original basis:\n",
            "[[  8   6]\n",
            " [ 30 -32]]\n",
            "LLL-reduced basis:\n",
            "[[  8   6]\n",
            " [ 30 -32]]\n",
            "Original basis:\n",
            "[[ 22  47]\n",
            " [ 42 -24]]\n",
            "LLL-reduced basis:\n",
            "[[ 22  47]\n",
            " [ 42 -24]]\n"
          ]
        }
      ]
    },
    {
      "cell_type": "code",
      "source": [
        "def random_gauss_lagrange_executions(iterations):\n",
        "  \"\"\"\n",
        "  Checks <iterations> random lattices\n",
        "  :parm iterations: The number of iterations to perform.\n",
        "  :returns a tuple containing the original base, the Gauss-Lagrange basis\n",
        "  \"\"\"\n",
        "\n",
        "  for _ in range(iterations):\n",
        "    # Generate two random linearly independent vectors in Z^2\n",
        "    vec1, vec2 = create_vector_pairs()\n",
        "    basis = np.array([vec1, vec2])\n",
        "\n",
        "    # Apply the Gauss-Lagrance algorithm\n",
        "    GL_vec1, GL_vec2 = gauss_lagrange(vec1, vec2)\n",
        "    gauss_basis = np.array([GL_vec1, GL_vec2])\n",
        "    print(\"Original basis:\")\n",
        "    print(basis)\n",
        "    print(\"Gauss-Lagrange-reduced basis:\")\n",
        "    print(gauss_basis)\n",
        "\n",
        "  return None\n",
        "\n",
        "\n",
        "run = random_gauss_lagrange_executions(10)"
      ],
      "metadata": {
        "colab": {
          "base_uri": "https://localhost:8080/"
        },
        "id": "R5W0HLUwR4vv",
        "outputId": "fa5eb4ef-6292-47eb-a45b-671870eeb541"
      },
      "execution_count": 47,
      "outputs": [
        {
          "output_type": "stream",
          "name": "stdout",
          "text": [
            "Original basis:\n",
            "[[ 64  41]\n",
            " [ 27 -78]]\n",
            "Gauss-Lagrange-reduced basis:\n",
            "[[ 64  41]\n",
            " [ 27 -78]]\n",
            "Original basis:\n",
            "[[  0 -55]\n",
            " [ 55  16]]\n",
            "Gauss-Lagrange-reduced basis:\n",
            "[[  0 -55]\n",
            " [ 55  16]]\n",
            "Original basis:\n",
            "[[  29   62]\n",
            " [-100   79]]\n",
            "Gauss-Lagrange-reduced basis:\n",
            "[[  29   62]\n",
            " [-100   79]]\n",
            "Original basis:\n",
            "[[ 98 -21]\n",
            " [ 26  40]]\n",
            "Gauss-Lagrange-reduced basis:\n",
            "[[ 26  40]\n",
            " [ 72 -61]]\n",
            "Original basis:\n",
            "[[-40 -51]\n",
            " [-94  10]]\n",
            "Gauss-Lagrange-reduced basis:\n",
            "[[-40 -51]\n",
            " [-54  61]]\n",
            "Original basis:\n",
            "[[-31 -27]\n",
            " [-10 -66]]\n",
            "Gauss-Lagrange-reduced basis:\n",
            "[[-31 -27]\n",
            " [ 21 -39]]\n",
            "Original basis:\n",
            "[[-63 -82]\n",
            " [-70  14]]\n",
            "Gauss-Lagrange-reduced basis:\n",
            "[[-70  14]\n",
            " [  7 -96]]\n",
            "Original basis:\n",
            "[[ 10 -75]\n",
            " [-20  26]]\n",
            "Gauss-Lagrange-reduced basis:\n",
            "[[-20  26]\n",
            " [-30 -23]]\n",
            "Original basis:\n",
            "[[ -9 -13]\n",
            " [ -4 -75]]\n",
            "Gauss-Lagrange-reduced basis:\n",
            "[[ -9 -13]\n",
            " [ 32 -23]]\n",
            "Original basis:\n",
            "[[84 96]\n",
            " [90 46]]\n",
            "Gauss-Lagrange-reduced basis:\n",
            "[[  6 -50]\n",
            " [ 96  -4]]\n"
          ]
        }
      ]
    },
    {
      "cell_type": "markdown",
      "source": [],
      "metadata": {
        "id": "FSETPnCbWaHG"
      }
    }
  ]
}