{
  "nbformat": 4,
  "nbformat_minor": 0,
  "metadata": {
    "colab": {
      "provenance": [],
      "collapsed_sections": [
        "niNNsVcm5WG5",
        "OJvP9UX4I5Mj",
        "jUTAaGIeI-PL"
      ],
      "authorship_tag": "ABX9TyP9hcMiE+QFqhTBXaFNyPdf",
      "include_colab_link": true
    },
    "kernelspec": {
      "name": "python3",
      "display_name": "Python 3"
    },
    "language_info": {
      "name": "python"
    }
  },
  "cells": [
    {
      "cell_type": "markdown",
      "metadata": {
        "id": "view-in-github",
        "colab_type": "text"
      },
      "source": [
        "<a href=\"https://colab.research.google.com/github/marianefn/Project_Lattices/blob/main/Project_Lattices.ipynb\" target=\"_parent\"><img src=\"https://colab.research.google.com/assets/colab-badge.svg\" alt=\"Open In Colab\"/></a>"
      ]
    },
    {
      "cell_type": "markdown",
      "source": [
        "# Θέμα 8"
      ],
      "metadata": {
        "id": "niNNsVcm5WG5"
      }
    },
    {
      "cell_type": "markdown",
      "source": [
        "## Βρες αν το διάνυσμα (43, 69, 95, 110) ανήκει στο πλέγμα"
      ],
      "metadata": {
        "id": "5ZboC4M6IlB8"
      }
    },
    {
      "cell_type": "code",
      "execution_count": 1,
      "metadata": {
        "colab": {
          "base_uri": "https://localhost:8080/"
        },
        "id": "umuyAC7g5Qvq",
        "outputId": "9bad6606-a37a-4511-e694-3991397b70c9"
      },
      "outputs": [
        {
          "output_type": "stream",
          "name": "stdout",
          "text": [
            "Συντελεστές για τις γραμμές του πίνακα A: [14. 11. 10. 11.]\n",
            "Υπόλοιπα για A: []\n",
            "\n",
            "Συντελεστές για τις γραμμές του πίνακα B: [ 3.00000000e+00  9.00000000e+00 -1.00000000e+00 -4.17443857e-14]\n",
            "Υπόλοιπα για B: []\n"
          ]
        }
      ],
      "source": [
        "import numpy as np\n",
        "\n",
        "# Ορισμός των πινάκων A και του διανύσματος v\n",
        "A = np.array([[1, 2, 3, 4],\n",
        "              [-1, 1, 2, 3],\n",
        "              [4, 3, 2, 1],\n",
        "              [0, 0, 1, 1]])\n",
        "\n",
        "B = np.array([[5, 8, 11, 13],\n",
        "              [4, 6, 8, 9],\n",
        "              [8, 9, 10, 10],\n",
        "              [4, 6, 9, 10]])\n",
        "\n",
        "v = np.array([43, 69, 95, 110])\n",
        "\n",
        "# Λύση για το σύστημα εξισώσεων A * x = v (γραμμικός συνδυασμός των γραμμών του A)\n",
        "coefficients_A, resids, rank, s = np.linalg.lstsq(A.T, v, rcond=None)\n",
        "\n",
        "# Έλεγχος αν το διάνυσμα ανήκει στο πλέγμα του A (αν τα υπόλοιπα είναι πολύ μικρά)\n",
        "print(\"Συντελεστές για τις γραμμές του πίνακα A:\", coefficients_A)\n",
        "print(\"Υπόλοιπα για A:\", resids)\n",
        "\n",
        "# Λύση για το σύστημα εξισώσεων B * x = v (γραμμικός συνδυασμός των γραμμών του B)\n",
        "coefficients_B, resids_b, rank_b, s_b = np.linalg.lstsq(B.T, v, rcond=None)\n",
        "\n",
        "# Έλεγχος αν το διάνυσμα ανήκει στο πλέγμα του B (αν τα υπόλοιπα είναι πολύ μικρά)\n",
        "print(\"\\nΣυντελεστές για τις γραμμές του πίνακα B:\", coefficients_B)\n",
        "print(\"Υπόλοιπα για B:\", resids_b)\n"
      ]
    },
    {
      "cell_type": "markdown",
      "source": [
        "## Βρες ορίζουσα πίνακα Α"
      ],
      "metadata": {
        "id": "OJvP9UX4I5Mj"
      }
    },
    {
      "cell_type": "code",
      "source": [
        "import numpy as np\n",
        "\n",
        "# Ορισμός του πίνακα A (ή B)\n",
        "A = np.array([[1, 2, 3, 4],\n",
        "              [-1, 1, 2, 3],\n",
        "              [4, 3, 2, 1],\n",
        "              [0, 0, 1, 1]])\n",
        "\n",
        "# Υπολογισμός του όγκου του πλέγματος (ορίζουσα του πίνακα A)\n",
        "volume_A = np.abs(np.linalg.det(A))\n",
        "\n",
        "print(\"Ο όγκος του πλέγματος που παράγεται από τις γραμμές του πίνακα A είναι:\", volume_A)"
      ],
      "metadata": {
        "colab": {
          "base_uri": "https://localhost:8080/"
        },
        "id": "2Mqh1ET09eNl",
        "outputId": "0f88140b-545f-4937-8533-75ad3b837b24"
      },
      "execution_count": 2,
      "outputs": [
        {
          "output_type": "stream",
          "name": "stdout",
          "text": [
            "Ο όγκος του πλέγματος που παράγεται από τις γραμμές του πίνακα A είναι: 5.000000000000001\n"
          ]
        }
      ]
    },
    {
      "cell_type": "markdown",
      "source": [
        "## Σημεία πλέγματος μέσα σε κύκλο και τετράγωνο"
      ],
      "metadata": {
        "id": "jUTAaGIeI-PL"
      }
    },
    {
      "cell_type": "code",
      "source": [
        "import numpy as np\n",
        "\n",
        "# Ορισμός του πίνακα A\n",
        "A = np.array([[1, 2, 3, 4],\n",
        "              [-1, 1, 2, 3],\n",
        "              [4, 3, 2, 1],\n",
        "              [0, 0, 1, 1]])\n",
        "\n",
        "B = np.array([[5, 8, 11, 13],\n",
        "              [4, 6, 8, 9],\n",
        "              [8, 9, 10, 10],\n",
        "              [4, 6, 9, 10]])\n",
        "\n",
        "\n",
        "# Συνάρτηση για να ελέγξουμε αν ένα διάνυσμα ανήκει στο πλέγμα\n",
        "def is_in_lattice(vector, matrix):\n",
        "    try:\n",
        "        # Λύνουμε το σύστημα A * c = vector\n",
        "        coefficients, resids, rank, s = np.linalg.lstsq(matrix.T, vector, rcond=None)\n",
        "        # Ελέγχουμε αν τα υπόλοιπα (resids) είναι κοντά στο μηδέν\n",
        "        if not np.allclose(np.dot(matrix.T, coefficients), vector):\n",
        "            return False\n",
        "\n",
        "        # Ελέγχουμε αν όλοι οι συντελεστές είναι ακέραιοι\n",
        "        return np.allclose(coefficients, np.round(coefficients))\n",
        "    except:\n",
        "        return False\n",
        "\n",
        "# Συνάρτηση για να υπολογίσουμε τα σημεία εντός του κύκλου\n",
        "def points_in_circle(radius, matrix):\n",
        "    count = 0\n",
        "    for x in range(-radius, radius + 1):\n",
        "        for y in range(-radius, radius + 1):\n",
        "            if x**2 + y**2 < radius**2:  # Εντός του κύκλου\n",
        "                vector = np.array([x, y, 0, 0])  # Μορφή (x, y, 0, 0)\n",
        "                if is_in_lattice(vector, matrix):\n",
        "                    count += 1\n",
        "    return count\n",
        "\n",
        "# Συνάρτηση για να υπολογίσουμε τα σημεία εντός του τετραγώνου\n",
        "def points_in_square(side_length, matrix):\n",
        "    count = 0\n",
        "    half_side = side_length // 2\n",
        "    for x in range(-half_side, half_side + 1):\n",
        "        for y in range(-half_side, half_side + 1):\n",
        "          if abs(x + y) + abs(x - y) < side_length:\n",
        "            vector = np.array([x, y, 0, 0])  # Μορφή (x, y, 0, 0)\n",
        "            if is_in_lattice(vector, matrix):\n",
        "                count += 1\n",
        "    return count\n",
        "\n",
        "# Ρυθμίσεις\n",
        "radius = 10  # Ακτίνα του κύκλου\n",
        "side_length = 10  # Πλευρά του τετραγώνου\n",
        "\n",
        "# Υπολογισμός\n",
        "points_circle = points_in_circle(radius, B)\n",
        "points_square = points_in_square(side_length, B)\n",
        "\n",
        "print(f\"Σημεία του πλέγματος μέσα στον κύκλο με ακτίνα 10: {points_circle}\")\n",
        "print(f\"Σημεία του πλέγματος μέσα στο τετράγωνο με πλευρά 10: {points_square}\")\n"
      ],
      "metadata": {
        "colab": {
          "base_uri": "https://localhost:8080/"
        },
        "id": "PaD9Yu974Pb3",
        "outputId": "52a71e13-03ae-4e4b-f20e-8efc08422baf"
      },
      "execution_count": 3,
      "outputs": [
        {
          "output_type": "stream",
          "name": "stdout",
          "text": [
            "Σημεία του πλέγματος μέσα στον κύκλο με ακτίνα 10: 61\n",
            "Σημεία του πλέγματος μέσα στο τετράγωνο με πλευρά 10: 17\n"
          ]
        }
      ]
    },
    {
      "cell_type": "markdown",
      "source": [
        "# Θέμα 3"
      ],
      "metadata": {
        "id": "GHBYy0kxOZLh"
      }
    },
    {
      "cell_type": "code",
      "source": [
        "import numpy as np\n",
        "\n",
        "def are_linearly_independent(vec1, vec2):\n",
        "    \"\"\"\n",
        "    Ελέγχει αν δύο διανύσματα είναι γραμμικώς ανεξάρτητα.\n",
        "\n",
        "    :param vec1: Το πρώτο διάνυσμα (λίστα ή numpy array)\n",
        "    :param vec2: Το δεύτερο διάνυσμα (λίστα ή numpy array)\n",
        "    :return: True αν είναι γραμμικώς ανεξάρτητα, False αν όχι\n",
        "\n",
        "    ~~ function created with chatgpt\n",
        "    \"\"\"\n",
        "    # Μετατροπή σε numpy arrays για ευκολία\n",
        "    vec1 = np.array(vec1)\n",
        "    vec2 = np.array(vec2)\n",
        "\n",
        "    # Έλεγχος αν τα διανύσματα έχουν ίδιο μέγεθος\n",
        "    if vec1.shape != vec2.shape:\n",
        "        raise ValueError(\"Τα διανύσματα πρέπει να έχουν το ίδιο μέγεθος.\")\n",
        "\n",
        "    # Δημιουργία πίνακα από τα δύο διανύσματα\n",
        "    matrix = np.column_stack((vec1, vec2))\n",
        "\n",
        "    # Υπολογισμός ορίζουσας\n",
        "    determinant = np.linalg.det(matrix)\n",
        "\n",
        "    # Τα διανύσματα είναι γραμμικώς ανεξάρτητα αν η ορίζουσα δεν είναι 0\n",
        "    return not np.isclose(determinant, 0)\n",
        "\n",
        "# Παράδειγμα χρήσης\n",
        "vec1 = [1, 1]\n",
        "vec2 = [3, 4]\n",
        "\n",
        "print(are_linearly_independent(vec1, vec2))\n"
      ],
      "metadata": {
        "colab": {
          "base_uri": "https://localhost:8080/"
        },
        "id": "APPb6XhmOfcA",
        "outputId": "766089cf-99f0-43a7-df8f-37d5def5567b"
      },
      "execution_count": 4,
      "outputs": [
        {
          "output_type": "stream",
          "name": "stdout",
          "text": [
            "True\n"
          ]
        }
      ]
    },
    {
      "cell_type": "code",
      "source": [
        "import numpy as np\n",
        "\n",
        "def calc_norm_squared(vec):\n",
        "  \"\"\"Calculates the Euclidean norm of a vector squared up.\n",
        "  :param vec: A list or numpy array representing the vector.\n",
        "  :return: The Euclidean norm of the vector squared up.\n",
        "  \"\"\"\n",
        "  vector = np.array(vec)\n",
        "  return np.sum(vector**2)"
      ],
      "metadata": {
        "id": "_yucmDDVQcII"
      },
      "execution_count": 5,
      "outputs": []
    },
    {
      "cell_type": "code",
      "source": [
        "# prompt: create function to calculate the norm of a vector (gemini)\n",
        "\n",
        "def calc_norm(vec):\n",
        "  \"\"\"Calculates the Euclidean norm of a vector.\n",
        "  :param vec: A list or numpy array representing the vector.\n",
        "  :return: The Euclidean norm of the vector.\n",
        "  \"\"\"\n",
        "  vector = np.array(vec)\n",
        "  return np.linalg.norm(vector)"
      ],
      "metadata": {
        "id": "Axck_wlNRkai"
      },
      "execution_count": 6,
      "outputs": []
    },
    {
      "cell_type": "code",
      "source": [
        "# prompt: create function to swap vectors represented by numpy use an example to swap two vectors\n",
        "\n",
        "import numpy as np\n",
        "\n",
        "def swap_vectors(vec1, vec2):\n",
        "    \"\"\"Swaps two vectors represented by NumPy arrays.\n",
        "    :param vec1: The first vector (NumPy array).\n",
        "    :param vec2: The second vector (NumPy array).\n",
        "    :return: A tuple containing the swapped vectors (vec2, vec1).\n",
        "    \"\"\"\n",
        "    return vec2, vec1"
      ],
      "metadata": {
        "id": "BcOsHhheR9fB"
      },
      "execution_count": 7,
      "outputs": []
    },
    {
      "cell_type": "code",
      "source": [
        "import numpy as np\n",
        "\n",
        "def angle_between_vectors(vec1, vec2):\n",
        "    \"\"\" Calculates the angle between two vectors in Z^2.\n",
        "    :param v1: Το πρώτο διάνυσμα (λίστα ή numpy array)\n",
        "    :param v2: Το δεύτερο διάνυσμα (λίστα ή numpy array)\n",
        "    :return: Η γωνία σε μοίρες\n",
        "    \"\"\"\n",
        "    # Transform into numpy arrays\n",
        "    vec1 = np.array(vec1)\n",
        "    vec2 = np.array(vec2)\n",
        "\n",
        "    # Calculation of dot product\n",
        "    dot_product = np.dot(vec1, vec2)\n",
        "\n",
        "    # Calculation of norms of the two vectors\n",
        "    norm_v1 = np.linalg.norm(vec1)\n",
        "    norm_v2 = np.linalg.norm(vec2)\n",
        "\n",
        "    # Calculation of cos(θ)\n",
        "    cos_theta = dot_product / (norm_v1 * norm_v2)\n",
        "\n",
        "    # Check that cos(θ) in in [-1, 1] to avoid numeric errors\n",
        "    cos_theta = np.clip(cos_theta, -1, 1)\n",
        "\n",
        "    # Calculation in radians\n",
        "    theta_radians = np.arccos(cos_theta)\n",
        "\n",
        "    # Transformation in degrees\n",
        "    theta_degrees = np.degrees(theta_radians)\n",
        "\n",
        "    return theta_degrees\n",
        "\n",
        "# Παράδειγμα χρήσης\n",
        "v1 = [1, 2]\n",
        "v2 = [3, 4]\n",
        "\n",
        "angle = angle_between_vectors(v1, v2)\n",
        "print(f\"Η γωνία μεταξύ των διανυσμάτων είναι: {angle:.2f} μοίρες\")\n"
      ],
      "metadata": {
        "colab": {
          "base_uri": "https://localhost:8080/"
        },
        "id": "H_TVUQyztetg",
        "outputId": "e5a9d442-9f2e-4c48-d4a9-c2d6678dc1f4"
      },
      "execution_count": 8,
      "outputs": [
        {
          "output_type": "stream",
          "name": "stdout",
          "text": [
            "Η γωνία μεταξύ των διανυσμάτων είναι: 10.30 μοίρες\n"
          ]
        }
      ]
    },
    {
      "cell_type": "code",
      "source": [
        "# prompt: create function that generates a vector in Z^2 without limitations\n",
        "\n",
        "import numpy as np\n",
        "\n",
        "def generate_vector_z2():\n",
        "    \"\"\"Generates a random vector in Z^2.\"\"\"\n",
        "    x = np.random.randint(-100, 101)\n",
        "    y = np.random.randint(-100, 101)\n",
        "    return np.array([x, y])\n",
        "\n",
        "# Example usage\n",
        "vector = generate_vector_z2()\n",
        "vector"
      ],
      "metadata": {
        "colab": {
          "base_uri": "https://localhost:8080/"
        },
        "id": "Cqo2hCCbwRvC",
        "outputId": "3bedc62e-0acf-4656-9834-f0d4b8490002"
      },
      "execution_count": 9,
      "outputs": [
        {
          "output_type": "execute_result",
          "data": {
            "text/plain": [
              "array([67, 65])"
            ]
          },
          "metadata": {},
          "execution_count": 9
        }
      ]
    },
    {
      "cell_type": "code",
      "source": [
        "def create_vector_pairs():\n",
        "  \"\"\" Finds two random linear independent vectors in Z^2\n",
        "  :return: vec1, vec2\"\"\"\n",
        "\n",
        "  found = False\n",
        "  vec1 = generate_vector_z2()\n",
        "  while not found:\n",
        "    vec2 = generate_vector_z2()\n",
        "    if are_linearly_independent(vec1,vec2):\n",
        "      found = True\n",
        "\n",
        "  return vec1, vec2\n",
        "\n",
        "vec1, vec2 = create_vector_pairs()\n",
        "print(vec1,vec2)"
      ],
      "metadata": {
        "colab": {
          "base_uri": "https://localhost:8080/"
        },
        "id": "Gt1wj_zLwoeT",
        "outputId": "beeb826a-60ac-4edf-e6b7-e8458cd3fde1"
      },
      "execution_count": 10,
      "outputs": [
        {
          "output_type": "stream",
          "name": "stdout",
          "text": [
            "[-40   0] [ -25 -100]\n"
          ]
        }
      ]
    },
    {
      "cell_type": "markdown",
      "source": [
        "## Αλγόριθμος των Gauss-Lagrange"
      ],
      "metadata": {
        "id": "0DKZ_I7SRU35"
      }
    },
    {
      "cell_type": "code",
      "source": [
        "import math\n",
        "\n",
        "\n",
        "def gauss_lagrange(vec1, vec2):\n",
        "  \"\"\"Outputs a Lagrange-Gauss reduced basis for the lattice L.\n",
        "    :param vec1: The first vector (NumPy array).\n",
        "    :param vec2: The second vector (NumPy array).\n",
        "    :return: Basis (b1, b2) for L such that ||b_i|| = λ_i\n",
        "    \"\"\"\n",
        "\n",
        "  b1 = calc_norm_squared(vec1)\n",
        "  m = np.dot(vec1, vec2)/b1\n",
        "  vec2 = vec2 - math.ceil(m-0.5)*vec1\n",
        "  b2 = calc_norm_squared(vec2)\n",
        "\n",
        "  while calc_norm(vec2) < calc_norm(vec1):\n",
        "      vec1, vec2 = swap_vectors(vec1, vec2)\n",
        "      b1 = b2\n",
        "      m = np.dot(vec1, vec2)/b1\n",
        "      vec2 = vec2 - math.ceil(m-0.5)*vec1\n",
        "      b2 = calc_norm_squared(vec2)\n",
        "\n",
        "  return vec1, vec2\n",
        "\n",
        "\n",
        "# Requesting the vectors as input\n",
        "while True:\n",
        "    try:\n",
        "        vec1_str = input(\"Enter the first vector (e.g., 1,2,3): \")\n",
        "        vec1 = np.array([int(x) for x in vec1_str.split(',')])\n",
        "        vec2_str = input(\"Enter the second vector (e.g., 4,5,6): \")\n",
        "        vec2 = np.array([int(x) for x in vec2_str.split(',')])\n",
        "\n",
        "        if not are_linearly_independent(vec1,vec2):\n",
        "            print(\"Vectors must have the same dimension. Please enter again.\")\n",
        "            continue\n",
        "\n",
        "        break\n",
        "    except ValueError:\n",
        "        print(\"Invalid input. Please enter numbers separated by commas.\")\n",
        "\n",
        "# Checking linear independence\n",
        "if are_linearly_independent(vec1, vec2):\n",
        "    print(\"The vectors are linearly independent.\")\n",
        "else:\n",
        "    print(\"The vectors are linearly dependent.\")\n",
        "\n",
        "GL_vec1, GL_vec2 = gauss_lagrange(vec1, vec2)\n",
        "print(\"Gauss-Lagrange b1 =\",GL_vec1)\n",
        "print(\"Gauss-Lagrange b2 =\",GL_vec2)\n",
        "\n",
        "l1 = calc_norm(GL_vec1)\n",
        "print(\"l1 =\",l1)\n",
        "\n"
      ],
      "metadata": {
        "colab": {
          "base_uri": "https://localhost:8080/"
        },
        "id": "nyMug9OBRbAT",
        "outputId": "7395faed-c1d1-45bf-954a-b92bdc049a48"
      },
      "execution_count": 11,
      "outputs": [
        {
          "output_type": "stream",
          "name": "stdout",
          "text": [
            "Enter the first vector (e.g., 1,2,3): 1,1\n",
            "Enter the second vector (e.g., 4,5,6): 3,4\n",
            "The vectors are linearly independent.\n",
            "Gauss-Lagrange b1 = [0 1]\n",
            "Gauss-Lagrange b2 = [1 0]\n",
            "l1 = 1.0\n"
          ]
        }
      ]
    },
    {
      "cell_type": "code",
      "source": [
        "angle_list = []\n",
        "\n",
        "for i in range(50):\n",
        "  # find two linearly independent vectors in Z^2\n",
        "  vec1, vec2 = create_vector_pairs()\n",
        "  # calculate the Gauss-Lagrange vectors\n",
        "  GL_vec1, GL_vec2 = gauss_lagrange(vec1, vec2)\n",
        "\n",
        "  # Calulate the angle between the two vectors\n",
        "  angle = angle_between_vectors(GL_vec1, GL_vec2)\n",
        "  angle_list.append(angle)\n",
        "\n",
        "\n",
        "angle_array = np.array(angle_list)\n",
        "print(angle_array)\n",
        "print(angle_array.mean())\n",
        "\n"
      ],
      "metadata": {
        "colab": {
          "base_uri": "https://localhost:8080/"
        },
        "id": "dqIpFsYnyZzT",
        "outputId": "cad058a3-035d-4e56-b8a3-6ecf0d3da9f8"
      },
      "execution_count": 12,
      "outputs": [
        {
          "output_type": "stream",
          "name": "stdout",
          "text": [
            "[ 73.2805452   84.99747011  92.33730586 106.46001481  70.0240707\n",
            "  91.60140036 118.14886275  92.15391453  90.90758     82.01988625\n",
            "  77.71689456  70.71365954  88.54436669  90.8867627   75.42803405\n",
            "  88.04968358  92.69780563  93.52479233  96.72826073 109.37413977\n",
            "  91.96831749  80.3927384   96.27729849  89.13701786  82.03928601\n",
            "  66.76794588  94.86994172  99.40313237  86.61965601  96.3967194\n",
            "  88.78112476  88.19844903  84.40208636 112.12633481  91.14994333\n",
            "  77.85983797 100.18090647  96.54885527  70.98351646  88.0054307\n",
            "  90.98754122 103.42688421  85.29385683 106.85839877  85.48601154\n",
            "  85.79240819  94.19737545  78.31386952  90.          97.09935131]\n",
            "89.70319371989066\n"
          ]
        }
      ]
    },
    {
      "cell_type": "code",
      "source": [
        "# prompt: find average of numpy array\n",
        "\n",
        "import numpy as np\n",
        "\n",
        "angle_array = np.array(angle_list)\n",
        "print(angle_array.mean())"
      ],
      "metadata": {
        "id": "GuhQitU9zcHU",
        "colab": {
          "base_uri": "https://localhost:8080/"
        },
        "outputId": "bea72520-f7d6-420d-813b-0d06528b460e"
      },
      "execution_count": 13,
      "outputs": [
        {
          "output_type": "stream",
          "name": "stdout",
          "text": [
            "89.70319371989066\n"
          ]
        }
      ]
    },
    {
      "cell_type": "markdown",
      "source": [
        "# Θέμα 4"
      ],
      "metadata": {
        "id": "_sSSNYk1rZ8p"
      }
    },
    {
      "cell_type": "markdown",
      "source": [
        "## Αλγόριθμος Gram-Schmidt"
      ],
      "metadata": {
        "id": "fl7cux4hyqjd"
      }
    },
    {
      "cell_type": "code",
      "source": [
        "import numpy as np\n",
        "\n",
        "def gram_schmidt(basis):\n",
        "    \"\"\"\n",
        "    Gram-Schmidt Algorithm to create an orthogonal basis.\n",
        "    :param basis: a list of vecotrs (NumPy arrays) which create the basis B.\n",
        "    :return orthogonal_basis: list of orthogonal vectors\n",
        "    :return mu: Gram-Schmidt matrix (numpy array) with μ_ij cofacotrs\n",
        "\n",
        "    ~ used chatgpt as a reference based on Alrgorithm 24 from Chapter 17\n",
        "    Lattice Basis Reduction  of the book “Mathematics of Public Key Cryptography” by Steven Galbraithv\n",
        "    \"\"\"\n",
        "    n = len(basis)\n",
        "    # Initialize the orthogonal basis and the Gram-Schmidt matrix\n",
        "    b_star = np.zeros_like(basis, dtype=float)\n",
        "    mu = np.zeros((n, n), dtype=float)\n",
        "\n",
        "    for i in range(n):\n",
        "        b_star[i] = basis[i]\n",
        "        for j in range(i):\n",
        "            mu[i, j] = np.dot(basis[i], b_star[j]) / np.dot(b_star[j], b_star[j])\n",
        "            b_star[i] -= mu[i, j] * b_star[j]\n",
        "\n",
        "    return b_star, mu\n",
        "\n",
        "# Παράδειγμα χρήσης\n",
        "basis = [\n",
        "    np.array([1.0, 1.0]),\n",
        "    np.array([1.0, 0.0])\n",
        "]\n",
        "\n",
        "orthogonal_basis, mu = gram_schmidt(basis)\n",
        "\n",
        "# Εκτύπωση αποτελεσμάτων\n",
        "print(\"Ορθογώνια βάση:\")\n",
        "for vec in orthogonal_basis:\n",
        "    print(vec)\n",
        "\n",
        "print(\"\\nGram-Schmidt πίνακας (μ):\")\n",
        "print(mu)\n"
      ],
      "metadata": {
        "colab": {
          "base_uri": "https://localhost:8080/"
        },
        "id": "ylfNhYCobLhU",
        "outputId": "1f83ce61-f4a4-4a7d-c4d4-0dd1ee42ed0e"
      },
      "execution_count": 14,
      "outputs": [
        {
          "output_type": "stream",
          "name": "stdout",
          "text": [
            "Ορθογώνια βάση:\n",
            "[1. 1.]\n",
            "[ 0.5 -0.5]\n",
            "\n",
            "Gram-Schmidt πίνακας (μ):\n",
            "[[0.  0. ]\n",
            " [0.5 0. ]]\n"
          ]
        }
      ]
    },
    {
      "cell_type": "markdown",
      "source": [
        "## Αλγόριθμος LLL"
      ],
      "metadata": {
        "id": "kwGY7cRV-Rgg"
      }
    },
    {
      "cell_type": "code",
      "source": [
        "import math\n",
        "import numpy as np\n",
        "\n",
        "def lll_algorithm(basis, delta):\n",
        "  \"\"\"\n",
        "    LLL algorithm with Euclidean norm\n",
        "    :param orthogonal_basis: a list of vecotrs (NumPy arrays) which the basis B.\n",
        "    :param delta: typically choose δ = 3/4\n",
        "    :return basis: LLL reduced basis b1, . . . , bn (numpy array)\n",
        "  \"\"\"\n",
        "  n = len(basis)\n",
        "  orthogonal_basis, mu = gram_schmidt(basis)\n",
        "  # Compute Bi = <{b_i}*,{b_i}*> = ||{b_i}*||^2\n",
        "  B = np.array([np.dot(orthogonal_basis[i], orthogonal_basis[i]) for i in range(n)])\n",
        "\n",
        "  k=1\n",
        "  while k < n:\n",
        "    # Perform size reduction\n",
        "    for j in range(k - 1, -1, -1):\n",
        "      # q = math.floor(mu[k,j]+0.5)\n",
        "      q = round(mu[k, j])\n",
        "      basis[k] -= q*basis[j]\n",
        "      mu[k, :k + 1] -= q * mu[j, :k + 1]\n",
        "\n",
        "    orthogonal_basis, mu = gram_schmidt(basis)\n",
        "    B = np.array([np.dot(orthogonal_basis[i], orthogonal_basis[i]) for i in range(n)])\n",
        "\n",
        "    # Check Lov´asz condition\n",
        "    if B[k] < (delta-mu[k,k-1]**2)*B[k-1]:\n",
        "        # Swap basis[k] and basis[k-1]\n",
        "        basis[k], basis[k-1] = basis[k-1], basis[k].copy()\n",
        "        orthogonal_basis, mu = gram_schmidt(basis)\n",
        "        B = np.array([np.dot(orthogonal_basis[i], orthogonal_basis[i]) for i in range(n)])\n",
        "        k = max(1, k - 1)\n",
        "    else:\n",
        "      k+=1\n",
        "\n",
        "  return basis\n",
        "\n",
        "\n",
        "\n",
        "# Examples\n",
        "delta = 0.75\n",
        "basis = np.array([[1, 1, 1], [1, 0, 2], [0, 1, 1]])\n",
        "lll_reduced_basis = lll_algorithm(basis,delta)\n",
        "print(\"LLL Reduced Basis:\")\n",
        "print(lll_reduced_basis)\n",
        "\n",
        "basis = np.array([[10,1], [1, 9]])\n",
        "lll_reduced_basis = lll_algorithm(basis,delta)\n",
        "print(\"LLL Reduced Basis:\")\n",
        "print(lll_reduced_basis)\n",
        "\n",
        "basis = np.array([[1, -1, 3], [1, 0, 5], [1, 2, 6]])\n",
        "lll_reduced_basis = lll_algorithm(basis,delta)\n",
        "print(\"LLL Reduced Basis:\")\n",
        "print(lll_reduced_basis)\n",
        "\n",
        "basis = np.array([[-36,32], [-32, -27]])\n",
        "lll_reduced_basis = lll_algorithm(basis,delta)\n",
        "print(\"LLL Reduced Basis:\")\n",
        "print(lll_reduced_basis)\n",
        "\n",
        "basis = np.array([[-1, -1, -2, -4, -1], [-2, -2, 4, -4, 2], [4, 2, -1, 1, 4], [1, -1, 1, -1, -1],[-1, 1, -1, 1, -30]])\n",
        "lll_reduced_basis = lll_algorithm(basis,delta)\n",
        "print(\"LLL Reduced Basis:\")\n",
        "print(lll_reduced_basis)\n",
        "\n",
        "basis = np.array([[42, -36, -5], [-13, 9, 30]])\n",
        "lll_reduced_basis = lll_algorithm(basis,delta)\n",
        "print(\"LLL Reduced Basis:\")\n",
        "print(lll_reduced_basis)\n"
      ],
      "metadata": {
        "colab": {
          "base_uri": "https://localhost:8080/"
        },
        "id": "l7pRMhGI-QfB",
        "outputId": "3897ab26-64ec-45c7-a96a-bd755b5acfde"
      },
      "execution_count": 15,
      "outputs": [
        {
          "output_type": "stream",
          "name": "stdout",
          "text": [
            "LLL Reduced Basis:\n",
            "[[-1  0  0]\n",
            " [ 0 -1  1]\n",
            " [ 0  1  1]]\n",
            "LLL Reduced Basis:\n",
            "[[10  1]\n",
            " [ 1  9]]\n",
            "LLL Reduced Basis:\n",
            "[[ 1 -1  0]\n",
            " [-1  0  1]\n",
            " [ 1  1  1]]\n",
            "LLL Reduced Basis:\n",
            "[[-36  32]\n",
            " [-32 -27]]\n",
            "LLL Reduced Basis:\n",
            "[[ 1 -1  1 -1 -1]\n",
            " [-2  0 -3 -3  0]\n",
            " [-3 -1  3 -3  3]\n",
            " [ 5  1  0  0  3]\n",
            " [ 3  9  1 -1 -2]]\n",
            "LLL Reduced Basis:\n",
            "[[-13   9  30]\n",
            " [ 29 -27  25]]\n"
          ]
        }
      ]
    },
    {
      "cell_type": "markdown",
      "source": [
        "## πρώτο διάνυσμα που δίνει ο LLL έχει μεγαλύτερο μήκος από το δεύτερο διάνυσμα"
      ],
      "metadata": {
        "id": "xOUAStZoKhUS"
      }
    },
    {
      "cell_type": "code",
      "source": [
        "def generate_random_lattice(dim, seed=None):\n",
        "    \"\"\"\n",
        "    Create a ranom dimxdim lattice\n",
        "    :parm dim: dimention of the lattice.\n",
        "    :parm seed:optional seed (default None).\n",
        "    :returns a numpy array representing the lattice.\n",
        "    ~ created with chatgpt\n",
        "    \"\"\"\n",
        "    if seed is not None:\n",
        "        np.random.seed(seed)\n",
        "    return np.random.randint(-10, 10, size=(dim, dim))\n",
        "\n",
        "def check_lll_norm_condition(max_iterations=100):\n",
        "  \"\"\"\n",
        "  Checks random lattices (up to max_iterations) until it finds one where the\n",
        "  norm of the first vector of the LLL-reduced lattice is greater than the second.\n",
        "  :parm max_iterations: The maximum number of iterations to perform.\n",
        "  :returns a tuple containing the original base, the LLL-reduced basis and the norms if the condition is met,\n",
        "    None otherwise.\n",
        "\n",
        "  ~ used Gemini as reference for naming\n",
        "  \"\"\"\n",
        "\n",
        "  for _ in range(max_iterations):\n",
        "    basis = generate_random_lattice(4)\n",
        "\n",
        "    # Apply the LLL algorithm\n",
        "    lll_basis = lll_algorithm(basis.copy(), delta=0.75)\n",
        "\n",
        "    # Check the condition\n",
        "    norm_first = calc_norm(lll_basis[0])\n",
        "    norm_second = calc_norm(lll_basis[1])\n",
        "\n",
        "    if norm_first > norm_second:\n",
        "        return  basis, lll_basis, (norm_first, norm_second)\n",
        "\n",
        "  return None\n",
        "\n",
        "\n",
        "result = check_lll_norm_condition()\n",
        "\n",
        "if result:\n",
        "    basis, lll_basis, norms = result\n",
        "    print(\"Original basis found satisfying the condition:\")\n",
        "    print(basis)\n",
        "    print(\"LLL-reduced basis found satisfying the condition:\")\n",
        "    print(lll_basis)\n",
        "    print(\"Norms:\", norms)\n",
        "else:\n",
        "    print(\"No LLL-reduced basis found satisfying the condition within the given iterations.\")"
      ],
      "metadata": {
        "colab": {
          "base_uri": "https://localhost:8080/"
        },
        "id": "LkJ3ZIQyKuIo",
        "outputId": "8cbe9937-41a8-4ab5-c9df-7787d481a93b"
      },
      "execution_count": 16,
      "outputs": [
        {
          "output_type": "stream",
          "name": "stdout",
          "text": [
            "Original basis found satisfying the condition:\n",
            "[[ -3   0  -8   6]\n",
            " [ -6  -7   5   5]\n",
            " [  5  -5   3  -4]\n",
            " [  2 -10   7   7]]\n",
            "LLL-reduced basis found satisfying the condition:\n",
            "[[ 2 -5 -5  2]\n",
            " [ 3  2 -1  6]\n",
            " [-8  3 -2 -2]\n",
            " [-6 -7  5  5]]\n",
            "Norms: (7.615773105863909, 7.0710678118654755)\n"
          ]
        }
      ]
    },
    {
      "cell_type": "markdown",
      "source": [
        "## Τυχαία εκτέλεση LLL και Gauss-Lagrange σε πλέγματα βαθμίδας 2"
      ],
      "metadata": {
        "id": "olfC5m2KQKZH"
      }
    },
    {
      "cell_type": "code",
      "source": [
        "def random_executions(iterations):\n",
        "  \"\"\"\n",
        "  Checks <iterations> random lattices\n",
        "  :parm iterations: The number of iterations to perform.\n",
        "  \"\"\"\n",
        "  counter = 0\n",
        "  for _ in range(iterations):\n",
        "    # Generate two random linearly independent vectors in Z^2\n",
        "    vec1, vec2 = create_vector_pairs()\n",
        "    basis = np.array([vec1, vec2])\n",
        "\n",
        "    # Apply the LLL algorithm\n",
        "    lll_basis = lll_algorithm(basis.copy(), delta=0.75)\n",
        "\n",
        "    # Apply the Gauss-Lagrance algorithm\n",
        "    GL_vec1, GL_vec2 = gauss_lagrange(vec1, vec2)\n",
        "    gauss_basis = np.array([GL_vec1, GL_vec2])\n",
        "\n",
        "    \"\"\"\n",
        "    print(\"Original basis:\")\n",
        "    print(basis)\n",
        "    print(\"LLL-reduced basis:\")\n",
        "    print(lll_basis)\n",
        "    print(\"Gauss-Lagrange-reduced basis:\")\n",
        "    print(gauss_basis)\n",
        "    \"\"\"\n",
        "    if  np.array_equal(lll_basis, gauss_basis):\n",
        "      #print(\"The reduced bases are the same\")\n",
        "      counter += 1\n",
        "    #else:\n",
        "      #print(\"The reduced bases are NOT the same\")\n",
        "    #print(\"----------------------------------------\")\n",
        "  print(counter, \"out of \",iterations, \"exapmles were the same\")\n",
        "\n",
        "  return None\n",
        "\n",
        "\n",
        "run = random_executions(100)"
      ],
      "metadata": {
        "colab": {
          "base_uri": "https://localhost:8080/"
        },
        "id": "qqrg_EMHQJUQ",
        "outputId": "38b28957-532e-4f62-aaed-5b1708c4fd65"
      },
      "execution_count": 17,
      "outputs": [
        {
          "output_type": "stream",
          "name": "stdout",
          "text": [
            "89 out of  100 exapmles were the same\n"
          ]
        }
      ]
    },
    {
      "cell_type": "markdown",
      "source": [
        "# Θέμα 10\n",
        "## Αλγόριθμος του Bambai"
      ],
      "metadata": {
        "id": "3gJYIMk7tuOr"
      }
    },
    {
      "cell_type": "code",
      "source": [
        "def bambai_algorithm(basis, t):\n",
        "  \"\"\"\n",
        "  Babai’s nearest plane algorithm\n",
        "\n",
        "  :param basis: Basis matrix (n x m) (NumPy arrays) describing the lattice.\n",
        "  :param t: Target vector (NumPy arrays), m-dimensional\n",
        "  :return x: The closest lattice point to t.\n",
        "  \"\"\"\n",
        "  n = len(basis)\n",
        "  # Apply the LLL algorithm\n",
        "  lll_basis = lll_algorithm(basis.copy(), delta=0.75)\n",
        "\n",
        "  # Apply Gram-Schmidt Algorithm to create an orthogonal basis\n",
        "  orthogonal_basis, mu = gram_schmidt(lll_basis.copy())\n",
        "\n",
        "  b = t.copy()\n",
        "  for j in range(n - 1, -1, -1):\n",
        "    c_j = round(np.dot(b,orthogonal_basis[j])/np.dot(orthogonal_basis[j],orthogonal_basis[j]))\n",
        "    b -= c_j* lll_basis[j]\n",
        "  return t-b\n",
        "\n",
        "\n",
        "# Examples\n",
        "#B = np.array([[1, 0], [0, 1]])\n",
        "#t = np.array([2.7, 3.4])\n",
        "#closest_point = bambai_algorithm(B, t)\n",
        "#print(\"The closest lattice point is:\", closest_point)\n",
        "\n",
        "B = np.array([[137, 312], [215, -187]])\n",
        "t = np.array([53172, 81743])\n",
        "closest_point = bambai_algorithm(B, t)\n",
        "print(\"The closest lattice point is:\", closest_point)\n"
      ],
      "metadata": {
        "colab": {
          "base_uri": "https://localhost:8080/"
        },
        "id": "jJn5-U15t4sG",
        "outputId": "1d18abce-804e-4a07-9b33-da94bab41ea9"
      },
      "execution_count": 18,
      "outputs": [
        {
          "output_type": "stream",
          "name": "stdout",
          "text": [
            "The closest lattice point is: [53159 81818]\n"
          ]
        }
      ]
    },
    {
      "cell_type": "markdown",
      "source": [
        "# Θέμα 11\n",
        "## Αλγόριθμος KFP"
      ],
      "metadata": {
        "id": "h48MwKvicFy4"
      }
    },
    {
      "cell_type": "code",
      "source": [
        "def kfp_enumeration(basis, R):\n",
        "    \"\"\"\n",
        "    KFP enumeration algorithm returns all vectors of L which are smaller than R\n",
        "\n",
        "    :param basis: Basis matrix (n x n) (NumPy arrays) describing the lattice.\n",
        "    :param R: possitive number constraint for the norm\n",
        "    :return:  A set of lattice vectors satisfying ||x|| <= R\n",
        "    \"\"\"\n",
        "    n = len(basis)\n",
        "    # compute {μ_{ij}}\n",
        "    b_star, mu = gram_schmidt(basis.copy())\n",
        "    # Compute Bi = ||{b_i}*||^2\n",
        "    B = np.array([np.dot(b_star[i], b_star[i]) for i in range(n)])\n",
        "\n",
        "    x = np.zeros(n, dtype=int)      # Initialize x vector\n",
        "    c = np.zeros(n, dtype=float)    # Initialize c vector\n",
        "    l = np.zeros(n, dtype=float)    # Initialize l vector\n",
        "    sumli = 0\n",
        "    S = set()                       # Set to store lattice vectors\n",
        "    i = 0\n",
        "\n",
        "    while i < n:\n",
        "        # Update c[i] as the summation of μ[j, i] * x[j] for j=i+1 to n\n",
        "        c[i] = -sum(x[j] * mu[j][i] for j in range(i+1, n))\n",
        "\n",
        "        l[i] = B[i] * ((x[i] - c[i])**2)\n",
        "        sumli = sum(l[i:n])\n",
        "\n",
        "        if sumli <= R**2:\n",
        "            if i == 0:\n",
        "                S.add(tuple(sum(x[j] * basis[j] for j in range(n))))\n",
        "                x[0] += 1\n",
        "            else:\n",
        "                i -= 1\n",
        "                summation = sum(mu[j, i] * x[j] for j in range(i + 1, n))\n",
        "                # xi ← left part of the interval Ii\n",
        "                x[i] = math.ceil(-summation - np.sqrt((R**2 - sum(l[i+1:n])) / B[i]))\n",
        "        else:\n",
        "            i += 1\n",
        "            if i < n:\n",
        "              x[i] += 1\n",
        "    return S\n",
        "\n",
        "# Example\n",
        "basis = np.array([[3, 6, 13], [11, 3, 15], [12, 12, 0]])\n",
        "R = np.sqrt(214)\n",
        "\n",
        "result = kfp_enumeration(basis, R)\n",
        "print(\"Lattice vectors satisfying ||x|| <= R:\")\n",
        "for vector in result:\n",
        "    print(vector)\n"
      ],
      "metadata": {
        "colab": {
          "base_uri": "https://localhost:8080/"
        },
        "id": "rZuBYn22zxhp",
        "outputId": "948acb8a-5a3b-430e-fefb-ab7171563b99"
      },
      "execution_count": null,
      "outputs": [
        {
          "output_type": "stream",
          "name": "stdout",
          "text": [
            "Lattice vectors satisfying ||x|| <= R:\n",
            "(8, -3, 2)\n",
            "(0, 0, 0)\n",
            "(3, 6, 13)\n"
          ]
        }
      ]
    },
    {
      "cell_type": "code",
      "source": [
        "# Παράδειγμα χρήσης\n",
        "basis = np.array([[-1, -1, -2, -4, -1], [-2, -2, 4, -4, 2], [4, 2, -1, 1, 4], [1, -1, 1, -1, -1], [-1, 1, -1, 1, 30]])\n",
        "R = np.sqrt(40)\n",
        "\n",
        "result = kfp_enumeration(basis, R)\n",
        "print(\"Vectors satisfying the condition:\")\n",
        "for vector in result:\n",
        "    print(vector)"
      ],
      "metadata": {
        "colab": {
          "base_uri": "https://localhost:8080/"
        },
        "id": "i6AU_YtPV9AH",
        "outputId": "40465765-75c4-49d4-fd87-454170ac9751"
      },
      "execution_count": null,
      "outputs": [
        {
          "output_type": "stream",
          "name": "stdout",
          "text": [
            "Vectors satisfying the condition:\n",
            "(5, 1, 0, 0, 3)\n",
            "(3, 1, -3, -3, 3)\n",
            "(1, -1, 1, -1, -1)\n",
            "(0, -2, -1, -5, -2)\n",
            "(2, 0, 3, 3, 0)\n",
            "(3, -1, 4, 2, -1)\n",
            "(-1, -1, -2, -4, -1)\n",
            "(4, 2, -1, 1, 4)\n",
            "(0, 0, 0, 0, 0)\n",
            "(4, 0, -2, 2, -4)\n",
            "(2, -2, 2, -2, -2)\n",
            "(4, 0, -2, -4, 2)\n",
            "(3, 1, -3, 3, -3)\n"
          ]
        }
      ]
    },
    {
      "cell_type": "markdown",
      "source": [
        "# Θέμα 12\n",
        "## ́Αλγόριθμος Schnorr-Euchner"
      ],
      "metadata": {
        "id": "m_40KjPvd_I-"
      }
    },
    {
      "cell_type": "code",
      "source": [
        "def schnorr_euchner_algorithm(basis, R):\n",
        "  \"\"\"\n",
        "  KFP enumeration algorithm returns all vectors of L which are smaller than R\n",
        "\n",
        "    :param basis: Basis matrix (n x n) (NumPy arrays) describing the lattice.\n",
        "    :param R: possitive number constraint for the norm\n",
        "    :return:  A set of lattice vectors satisfying ||x|| <= R\n",
        "  \"\"\"\n",
        "  n = len(basis)\n",
        "  # compute {μ_{ij}}\n",
        "  b_star, mu = gram_schmidt(basis.copy())\n",
        "  # Compute Bi = ||{b_i}*||^2\n",
        "  B = np.array([np.dot(b_star[i], b_star[i]) for i in range(n)])\n",
        "\n",
        "  x = np.zeros(n, dtype=int)      # Initialize x vector\n",
        "  c = np.zeros(n, dtype=float)    # Initialize c vector\n",
        "  l = np.zeros(n, dtype=float)    # Initialize l vector\n",
        "\n",
        "  # Δx ← (1, 0n−1)\n",
        "  delta_x = np.zeros(n)\n",
        "  delta_x[0] = 1\n",
        "\n",
        "  # Δ2x ← (1, (−1)n−1)\n",
        "  delta_2x = np.ones(n)\n",
        "  delta_2x[1:] = -1\n",
        "\n",
        "  sumli = 0\n",
        "  S = set()                       # Set to store lattice vectors\n",
        "  i = 0\n",
        "\n",
        "  while i < n:\n",
        "    c[i] = -sum(x[j]*mu[j][i] for j in range(i+1, n))\n",
        "    l[i] = B[i]*((x[i]-c[i])**2)\n",
        "    sumli = sum(l[i:n])\n",
        "    if sumli <= R**2 and i == 0:\n",
        "      S.add(tuple(sum(x[j]*basis[j] for j in range(n))))\n",
        "    if sumli <= R**2 and i > 0:\n",
        "      i -= 1\n",
        "      c[i] = -sum(x[j]*mu[j][i] for j in range(i+1, n)) # center of the interval In+1−i\n",
        "      x[i] = round(c[i])\n",
        "      delta_x[i] = 0\n",
        "      if c[i] < x[i]:\n",
        "        delta_2x[i] = 1\n",
        "      else:\n",
        "        delta_2x[i] = -1\n",
        "    elif i ==n:         # i.e. if sumli > R2 and i = n\n",
        "      break\n",
        "    else:               # i.e. if sumli > R2 or i = 1\n",
        "      i +=1\n",
        "      if i < n:\n",
        "        delta_2x[i] = -delta_2x[i]\n",
        "        delta_x[i] = -delta_x[i] + delta_2x[i]\n",
        "        x[i] = x[i] + delta_x[i]\n",
        "  return S\n",
        "\n",
        "\n",
        "# Example\n",
        "basis = np.array([[3, 6, 13], [11, 3, 15], [12, 12, 0]])\n",
        "R = np.sqrt(214)\n",
        "\n",
        "result = schnorr_euchner_algorithm(basis, R)\n",
        "print(\"Lattice vectors satisfying ||x|| <= R:\")\n",
        "for vector in result:\n",
        "    print(vector)\n"
      ],
      "metadata": {
        "colab": {
          "base_uri": "https://localhost:8080/"
        },
        "id": "g8y46mIsd9vO",
        "outputId": "1c8a7555-9ccc-462c-e48a-97fe0aadb31f"
      },
      "execution_count": null,
      "outputs": [
        {
          "output_type": "stream",
          "name": "stdout",
          "text": [
            "Lattice vectors satisfying ||x|| <= R:\n",
            "(8, -3, 2)\n",
            "(0, 0, 0)\n",
            "(-8, 3, -2)\n"
          ]
        }
      ]
    },
    {
      "cell_type": "code",
      "source": [
        "# Παράδειγμα χρήσης\n",
        "basis = np.array([[-1, -1, -2, -4, -1], [-2, -2, 4, -4, 2], [4, 2, -1, 1, 4], [1, -1, 1, -1, -1], [-1, 1, -1, 1, 30]])\n",
        "R = np.sqrt(40)\n",
        "\n",
        "result = schnorr_euchner_algorithm(basis, R)\n",
        "print(\"Vectors satisfying the condition:\")\n",
        "for vector in result:\n",
        "    print(vector)"
      ],
      "metadata": {
        "colab": {
          "base_uri": "https://localhost:8080/"
        },
        "id": "BH3IOa6SlWxw",
        "outputId": "6c7c19ae-32c3-4381-eaf6-82cf3ba9ae21"
      },
      "execution_count": null,
      "outputs": [
        {
          "output_type": "stream",
          "name": "stdout",
          "text": [
            "Vectors satisfying the condition:\n",
            "(-1, 1, -1, 1, 1)\n",
            "(-3, -1, 3, 3, -3)\n",
            "(5, 1, 0, 0, 3)\n",
            "(1, -1, 1, -1, -1)\n",
            "(3, 1, -3, -3, 3)\n",
            "(-2, 2, -2, 2, 2)\n",
            "(-4, 0, 2, -2, 4)\n",
            "(-5, -1, 0, 0, -3)\n",
            "(-3, -1, 3, -3, 3)\n",
            "(0, 0, 0, 0, 0)\n",
            "(4, 0, -2, 2, -4)\n",
            "(2, -2, 2, -2, -2)\n",
            "(3, 1, -3, 3, -3)\n"
          ]
        }
      ]
    },
    {
      "cell_type": "markdown",
      "source": [
        "## enumeration with prunning και prunning vector"
      ],
      "metadata": {
        "id": "csWMNjawXqXT"
      }
    },
    {
      "cell_type": "code",
      "source": [
        "import math\n",
        "\n",
        "def compute_pruning_vector(n):\n",
        "    \"\"\"\n",
        "    Computes the pruning vector a_i = min(1, sqrt(1.05^(i/n))).\n",
        "        :param n (int): Dimension of the lattice.\n",
        "        :return: list of float: Pruning vector.\n",
        "    \"\"\"\n",
        "    return [min(1, math.sqrt(1.05**(i/n))) for i in range(n)]\n",
        "\n",
        "def schnorr_euchner_algorithm_with_prunning(basis, R):\n",
        "  \"\"\"\n",
        "  KFP enumeration algorithm returns all vectors of L which are smaller than R\n",
        "\n",
        "    :param basis: Basis matrix (n x n) (NumPy arrays) describing the lattice.\n",
        "    :param R: possitive number constraint for the norm\n",
        "    :return:  A set of lattice vectors satisfying ||x|| <= R\n",
        "  \"\"\"\n",
        "  n = len(basis)\n",
        "  # compute {μ_{ij}}\n",
        "  b_star, mu = gram_schmidt(basis.copy())\n",
        "  # Compute Bi = ||{b_i}*||^2\n",
        "  B = np.array([np.dot(b_star[i], b_star[i]) for i in range(n)])\n",
        "\n",
        "  x = np.zeros(n, dtype=int)      # Initialize x vector\n",
        "  c = np.zeros(n)                 # Initialize c vector\n",
        "  l = np.zeros(n)                 # Initialize l vector\n",
        "\n",
        "  # Δx ← (1, 0n−1)\n",
        "  delta_x = np.zeros(n)\n",
        "  delta_x[0] = 1\n",
        "\n",
        "  # Δ2x ← (1, (−1)n−1)\n",
        "  delta_2x = np.ones(n)\n",
        "  delta_2x[1:] = -1\n",
        "\n",
        "  sumli = 0\n",
        "  S = set()                       # Set to store lattice vectors\n",
        "  i = 0\n",
        "\n",
        "  # compute prunning vvector\n",
        "  a = compute_pruning_vector(n)\n",
        "\n",
        "  while i < n:\n",
        "    c[i] = -sum(x[j]*mu[j][i] for j in range(i+1, n))\n",
        "    l[i] = B[i]*((x[i]-c[i])**2)\n",
        "    sumli = sum(l[i:n])\n",
        "    if sumli <= (a[n-1-i]*R)**2 and i == 0:\n",
        "      S.add(tuple(sum(x[j]*basis[j] for j in range(n))))\n",
        "    if sumli <= (a[n-1-i]*R)**2 and i > 0:\n",
        "      i -= 1\n",
        "      c[i] = -sum(x[j]*mu[j][i] for j in range(i+1, n)) # center of the interval In+1−i\n",
        "      x[i] = round(c[i])\n",
        "      delta_x[i] = 0\n",
        "      if c[i] < x[i]:\n",
        "        delta_2x[i] = 1\n",
        "      else:\n",
        "        delta_2x[i] = -1\n",
        "    elif i ==n:         # i.e. if sumli > R2 and i = n\n",
        "      break\n",
        "    else:               # i.e. if sumli > R2 or i = 1\n",
        "      i +=1\n",
        "      if i < n:\n",
        "        delta_2x[i] = -delta_2x[i]\n",
        "        delta_x[i] = -delta_x[i] + delta_2x[i]\n",
        "        x[i] = x[i] + delta_x[i]\n",
        "  return S\n",
        "\n",
        "\n",
        "# Example\n",
        "basis = np.array([[3, 6, 13], [11, 3, 15], [12, 12, 0]])\n",
        "R = np.sqrt(214)\n",
        "\n",
        "result = schnorr_euchner_algorithm_with_prunning(basis, R)\n",
        "print(\"Lattice vectors satisfying ||x|| <= R:\")\n",
        "for vector in result:\n",
        "    print(vector)\n"
      ],
      "metadata": {
        "colab": {
          "base_uri": "https://localhost:8080/"
        },
        "id": "Wj8qP1zhXxO7",
        "outputId": "338ab9e8-efa0-4882-e59d-1c97be59a9c0"
      },
      "execution_count": 25,
      "outputs": [
        {
          "output_type": "stream",
          "name": "stdout",
          "text": [
            "Lattice vectors satisfying ||x|| <= R:\n",
            "(8, -3, 2)\n",
            "(0, 0, 0)\n",
            "(-8, 3, -2)\n"
          ]
        }
      ]
    }
  ]
}