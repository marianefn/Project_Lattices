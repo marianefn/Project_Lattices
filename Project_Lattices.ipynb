{
  "nbformat": 4,
  "nbformat_minor": 0,
  "metadata": {
    "colab": {
      "provenance": [],
      "collapsed_sections": [
        "niNNsVcm5WG5",
        "3gJYIMk7tuOr",
        "h48MwKvicFy4",
        "m_40KjPvd_I-"
      ],
      "authorship_tag": "ABX9TyOr6ENqR/eUGxKMqsY3UA5s",
      "include_colab_link": true
    },
    "kernelspec": {
      "name": "python3",
      "display_name": "Python 3"
    },
    "language_info": {
      "name": "python"
    }
  },
  "cells": [
    {
      "cell_type": "markdown",
      "metadata": {
        "id": "view-in-github",
        "colab_type": "text"
      },
      "source": [
        "<a href=\"https://colab.research.google.com/github/marianefn/Project_Lattices/blob/main/Project_Lattices.ipynb\" target=\"_parent\"><img src=\"https://colab.research.google.com/assets/colab-badge.svg\" alt=\"Open In Colab\"/></a>"
      ]
    },
    {
      "cell_type": "markdown",
      "source": [
        "# Θέμα 8"
      ],
      "metadata": {
        "id": "niNNsVcm5WG5"
      }
    },
    {
      "cell_type": "markdown",
      "source": [
        "## Βρες αν το διάνυσμα (43, 69, 95, 110) ανήκει στο πλέγμα"
      ],
      "metadata": {
        "id": "5ZboC4M6IlB8"
      }
    },
    {
      "cell_type": "code",
      "execution_count": 1,
      "metadata": {
        "colab": {
          "base_uri": "https://localhost:8080/"
        },
        "id": "umuyAC7g5Qvq",
        "outputId": "8b3f5f4e-4961-4bf7-f424-c83addcfaa12"
      },
      "outputs": [
        {
          "output_type": "stream",
          "name": "stdout",
          "text": [
            "Συντελεστές για τις γραμμές του πίνακα A: [14. 11. 10. 11.]\n",
            "Υπόλοιπα για A: []\n",
            "\n",
            "Συντελεστές για τις γραμμές του πίνακα B: [ 3.00000000e+00  9.00000000e+00 -1.00000000e+00 -4.17443857e-14]\n",
            "Υπόλοιπα για B: []\n"
          ]
        }
      ],
      "source": [
        "import numpy as np\n",
        "\n",
        "# Ορισμός των πινάκων A και του διανύσματος v\n",
        "A = np.array([[1, 2, 3, 4],\n",
        "              [-1, 1, 2, 3],\n",
        "              [4, 3, 2, 1],\n",
        "              [0, 0, 1, 1]])\n",
        "\n",
        "B = np.array([[5, 8, 11, 13],\n",
        "              [4, 6, 8, 9],\n",
        "              [8, 9, 10, 10],\n",
        "              [4, 6, 9, 10]])\n",
        "\n",
        "v = np.array([43, 69, 95, 110])\n",
        "\n",
        "# Λύση για το σύστημα εξισώσεων A * x = v (γραμμικός συνδυασμός των γραμμών του A)\n",
        "coefficients_A, resids, rank, s = np.linalg.lstsq(A.T, v, rcond=None)\n",
        "\n",
        "# Έλεγχος αν το διάνυσμα ανήκει στο πλέγμα του A (αν τα υπόλοιπα είναι πολύ μικρά)\n",
        "print(\"Συντελεστές για τις γραμμές του πίνακα A:\", coefficients_A)\n",
        "print(\"Υπόλοιπα για A:\", resids)\n",
        "\n",
        "# Λύση για το σύστημα εξισώσεων B * x = v (γραμμικός συνδυασμός των γραμμών του B)\n",
        "coefficients_B, resids_b, rank_b, s_b = np.linalg.lstsq(B.T, v, rcond=None)\n",
        "\n",
        "# Έλεγχος αν το διάνυσμα ανήκει στο πλέγμα του B (αν τα υπόλοιπα είναι πολύ μικρά)\n",
        "print(\"\\nΣυντελεστές για τις γραμμές του πίνακα B:\", coefficients_B)\n",
        "print(\"Υπόλοιπα για B:\", resids_b)\n"
      ]
    },
    {
      "cell_type": "markdown",
      "source": [
        "## Βρες ορίζουσα πίνακα Α"
      ],
      "metadata": {
        "id": "OJvP9UX4I5Mj"
      }
    },
    {
      "cell_type": "code",
      "source": [
        "import numpy as np\n",
        "\n",
        "# Ορισμός του πίνακα A (ή B)\n",
        "A = np.array([[1, 2, 3, 4],\n",
        "              [-1, 1, 2, 3],\n",
        "              [4, 3, 2, 1],\n",
        "              [0, 0, 1, 1]])\n",
        "\n",
        "# Υπολογισμός του όγκου του πλέγματος (ορίζουσα του πίνακα A)\n",
        "volume_A = np.abs(np.linalg.det(A))\n",
        "\n",
        "print(\"Ο όγκος του πλέγματος που παράγεται από τις γραμμές του πίνακα A είναι:\", volume_A)"
      ],
      "metadata": {
        "colab": {
          "base_uri": "https://localhost:8080/"
        },
        "id": "2Mqh1ET09eNl",
        "outputId": "bca1d5e8-b04e-4366-8e0b-7c6282d5d013"
      },
      "execution_count": 2,
      "outputs": [
        {
          "output_type": "stream",
          "name": "stdout",
          "text": [
            "Ο όγκος του πλέγματος που παράγεται από τις γραμμές του πίνακα A είναι: 5.000000000000001\n"
          ]
        }
      ]
    },
    {
      "cell_type": "markdown",
      "source": [
        "## Σημεία πλέγματος μέσα σε κύκλο και τετράγωνο"
      ],
      "metadata": {
        "id": "jUTAaGIeI-PL"
      }
    },
    {
      "cell_type": "code",
      "source": [
        "import numpy as np\n",
        "\n",
        "# Ορισμός του πίνακα A\n",
        "A = np.array([[1, 2, 3, 4],\n",
        "              [-1, 1, 2, 3],\n",
        "              [4, 3, 2, 1],\n",
        "              [0, 0, 1, 1]])\n",
        "\n",
        "B = np.array([[5, 8, 11, 13],\n",
        "              [4, 6, 8, 9],\n",
        "              [8, 9, 10, 10],\n",
        "              [4, 6, 9, 10]])\n",
        "\n",
        "\n",
        "# Συνάρτηση για να ελέγξουμε αν ένα διάνυσμα ανήκει στο πλέγμα\n",
        "def is_in_lattice(vector, matrix):\n",
        "    try:\n",
        "        # Λύνουμε το σύστημα A * c = vector\n",
        "        coefficients, resids, rank, s = np.linalg.lstsq(matrix.T, vector, rcond=None)\n",
        "        # Ελέγχουμε αν τα υπόλοιπα (resids) είναι κοντά στο μηδέν\n",
        "        if not np.allclose(np.dot(matrix.T, coefficients), vector):\n",
        "            return False\n",
        "\n",
        "        # Ελέγχουμε αν όλοι οι συντελεστές είναι ακέραιοι\n",
        "        return np.allclose(coefficients, np.round(coefficients))\n",
        "    except:\n",
        "        return False\n",
        "\n",
        "# Συνάρτηση για να υπολογίσουμε τα σημεία εντός του κύκλου\n",
        "def points_in_circle(radius, matrix):\n",
        "    count = 0\n",
        "    for x in range(-radius, radius + 1):\n",
        "        for y in range(-radius, radius + 1):\n",
        "            if x**2 + y**2 < radius**2:  # Εντός του κύκλου\n",
        "                vector = np.array([x, y, 0, 0])  # Μορφή (x, y, 0, 0)\n",
        "                if is_in_lattice(vector, matrix):\n",
        "                    count += 1\n",
        "    return count\n",
        "\n",
        "# Συνάρτηση για να υπολογίσουμε τα σημεία εντός του τετραγώνου\n",
        "def points_in_square(side_length, matrix):\n",
        "    count = 0\n",
        "    half_side = side_length // 2\n",
        "    for x in range(-half_side, half_side + 1):\n",
        "        for y in range(-half_side, half_side + 1):\n",
        "          if abs(x + y) + abs(x - y) < side_length:\n",
        "            vector = np.array([x, y, 0, 0])  # Μορφή (x, y, 0, 0)\n",
        "            if is_in_lattice(vector, matrix):\n",
        "                count += 1\n",
        "    return count\n",
        "\n",
        "# Ρυθμίσεις\n",
        "radius = 10  # Ακτίνα του κύκλου\n",
        "side_length = 10  # Πλευρά του τετραγώνου\n",
        "\n",
        "# Υπολογισμός\n",
        "points_circle = points_in_circle(radius, B)\n",
        "points_square = points_in_square(side_length, B)\n",
        "\n",
        "print(f\"Σημεία του πλέγματος μέσα στον κύκλο με ακτίνα 10: {points_circle}\")\n",
        "print(f\"Σημεία του πλέγματος μέσα στο τετράγωνο με πλευρά 10: {points_square}\")\n"
      ],
      "metadata": {
        "colab": {
          "base_uri": "https://localhost:8080/"
        },
        "id": "PaD9Yu974Pb3",
        "outputId": "51aaf885-9d3d-48a6-f0c4-89600d53f228"
      },
      "execution_count": 3,
      "outputs": [
        {
          "output_type": "stream",
          "name": "stdout",
          "text": [
            "Σημεία του πλέγματος μέσα στον κύκλο με ακτίνα 10: 61\n",
            "Σημεία του πλέγματος μέσα στο τετράγωνο με πλευρά 10: 17\n"
          ]
        }
      ]
    },
    {
      "cell_type": "markdown",
      "source": [
        "# Θέμα 3"
      ],
      "metadata": {
        "id": "GHBYy0kxOZLh"
      }
    },
    {
      "cell_type": "code",
      "source": [
        "import numpy as np\n",
        "\n",
        "def are_linearly_independent(vec1, vec2):\n",
        "    \"\"\"\n",
        "    Ελέγχει αν δύο διανύσματα είναι γραμμικώς ανεξάρτητα.\n",
        "\n",
        "    :param vec1: Το πρώτο διάνυσμα (λίστα ή numpy array)\n",
        "    :param vec2: Το δεύτερο διάνυσμα (λίστα ή numpy array)\n",
        "    :return: True αν είναι γραμμικώς ανεξάρτητα, False αν όχι\n",
        "\n",
        "    ~~ function created with chatgpt\n",
        "    \"\"\"\n",
        "    # Μετατροπή σε numpy arrays για ευκολία\n",
        "    vec1 = np.array(vec1)\n",
        "    vec2 = np.array(vec2)\n",
        "\n",
        "    # Έλεγχος αν τα διανύσματα έχουν ίδιο μέγεθος\n",
        "    if vec1.shape != vec2.shape:\n",
        "        raise ValueError(\"Τα διανύσματα πρέπει να έχουν το ίδιο μέγεθος.\")\n",
        "\n",
        "    # Δημιουργία πίνακα από τα δύο διανύσματα\n",
        "    matrix = np.column_stack((vec1, vec2))\n",
        "\n",
        "    # Υπολογισμός ορίζουσας\n",
        "    determinant = np.linalg.det(matrix)\n",
        "\n",
        "    # Τα διανύσματα είναι γραμμικώς ανεξάρτητα αν η ορίζουσα δεν είναι 0\n",
        "    return not np.isclose(determinant, 0)\n",
        "\n",
        "# Παράδειγμα χρήσης\n",
        "vec1 = [1, 1]\n",
        "vec2 = [3, 4]\n",
        "\n",
        "print(are_linearly_independent(vec1, vec2))\n"
      ],
      "metadata": {
        "colab": {
          "base_uri": "https://localhost:8080/"
        },
        "id": "APPb6XhmOfcA",
        "outputId": "1df614e3-9d66-4748-e1d4-044717427b6c"
      },
      "execution_count": 4,
      "outputs": [
        {
          "output_type": "stream",
          "name": "stdout",
          "text": [
            "True\n"
          ]
        }
      ]
    },
    {
      "cell_type": "code",
      "source": [
        "import numpy as np\n",
        "\n",
        "def calc_norm_squared(vec):\n",
        "  \"\"\"Calculates the Euclidean norm of a vector squared up.\n",
        "  :param vec: A list or numpy array representing the vector.\n",
        "  :return: The Euclidean norm of the vector squared up.\n",
        "  \"\"\"\n",
        "  vector = np.array(vec)\n",
        "  return np.sum(vector**2)"
      ],
      "metadata": {
        "id": "_yucmDDVQcII"
      },
      "execution_count": 5,
      "outputs": []
    },
    {
      "cell_type": "code",
      "source": [
        "# prompt: create function to calculate the norm of a vector (gemini)\n",
        "\n",
        "def calc_norm(vec):\n",
        "  \"\"\"Calculates the Euclidean norm of a vector.\n",
        "  :param vec: A list or numpy array representing the vector.\n",
        "  :return: The Euclidean norm of the vector.\n",
        "  \"\"\"\n",
        "  vector = np.array(vec)\n",
        "  return np.linalg.norm(vector)"
      ],
      "metadata": {
        "id": "Axck_wlNRkai"
      },
      "execution_count": 6,
      "outputs": []
    },
    {
      "cell_type": "code",
      "source": [
        "# prompt: create function to swap vectors represented by numpy use an example to swap two vectors\n",
        "\n",
        "import numpy as np\n",
        "\n",
        "def swap_vectors(vec1, vec2):\n",
        "    \"\"\"Swaps two vectors represented by NumPy arrays.\n",
        "    :param vec1: The first vector (NumPy array).\n",
        "    :param vec2: The second vector (NumPy array).\n",
        "    :return: A tuple containing the swapped vectors (vec2, vec1).\n",
        "    \"\"\"\n",
        "    return vec2, vec1"
      ],
      "metadata": {
        "id": "BcOsHhheR9fB"
      },
      "execution_count": 7,
      "outputs": []
    },
    {
      "cell_type": "code",
      "source": [
        "import numpy as np\n",
        "\n",
        "def angle_between_vectors(vec1, vec2):\n",
        "    \"\"\" Calculates the angle between two vectors in Z^2.\n",
        "    :param v1: Το πρώτο διάνυσμα (λίστα ή numpy array)\n",
        "    :param v2: Το δεύτερο διάνυσμα (λίστα ή numpy array)\n",
        "    :return: Η γωνία σε μοίρες\n",
        "    \"\"\"\n",
        "    # Transform into numpy arrays\n",
        "    vec1 = np.array(vec1)\n",
        "    vec2 = np.array(vec2)\n",
        "\n",
        "    # Calculation of dot product\n",
        "    dot_product = np.dot(vec1, vec2)\n",
        "\n",
        "    # Calculation of norms of the two vectors\n",
        "    norm_v1 = np.linalg.norm(vec1)\n",
        "    norm_v2 = np.linalg.norm(vec2)\n",
        "\n",
        "    # Calculation of cos(θ)\n",
        "    cos_theta = dot_product / (norm_v1 * norm_v2)\n",
        "\n",
        "    # Check that cos(θ) in in [-1, 1] to avoid numeric errors\n",
        "    cos_theta = np.clip(cos_theta, -1, 1)\n",
        "\n",
        "    # Calculation in radians\n",
        "    theta_radians = np.arccos(cos_theta)\n",
        "\n",
        "    # Transformation in degrees\n",
        "    theta_degrees = np.degrees(theta_radians)\n",
        "\n",
        "    return theta_degrees\n",
        "\n",
        "# Παράδειγμα χρήσης\n",
        "v1 = [1, 2]\n",
        "v2 = [3, 4]\n",
        "\n",
        "angle = angle_between_vectors(v1, v2)\n",
        "print(f\"Η γωνία μεταξύ των διανυσμάτων είναι: {angle:.2f} μοίρες\")\n"
      ],
      "metadata": {
        "colab": {
          "base_uri": "https://localhost:8080/"
        },
        "id": "H_TVUQyztetg",
        "outputId": "4ed6b5ac-5c83-4d6b-a020-7ce95406fa40"
      },
      "execution_count": 8,
      "outputs": [
        {
          "output_type": "stream",
          "name": "stdout",
          "text": [
            "Η γωνία μεταξύ των διανυσμάτων είναι: 10.30 μοίρες\n"
          ]
        }
      ]
    },
    {
      "cell_type": "code",
      "source": [
        "# prompt: create function that generates a vector in Z^2 without limitations\n",
        "\n",
        "import numpy as np\n",
        "\n",
        "def generate_vector_z2():\n",
        "    \"\"\"Generates a random vector in Z^2.\"\"\"\n",
        "    x = np.random.randint(-100, 101)\n",
        "    y = np.random.randint(-100, 101)\n",
        "    return np.array([x, y])\n",
        "\n",
        "# Example usage\n",
        "vector = generate_vector_z2()\n",
        "vector"
      ],
      "metadata": {
        "colab": {
          "base_uri": "https://localhost:8080/"
        },
        "id": "Cqo2hCCbwRvC",
        "outputId": "1f97086a-5ab0-4fa1-a644-086f11fe2ef6"
      },
      "execution_count": 9,
      "outputs": [
        {
          "output_type": "execute_result",
          "data": {
            "text/plain": [
              "array([ 70, -94])"
            ]
          },
          "metadata": {},
          "execution_count": 9
        }
      ]
    },
    {
      "cell_type": "code",
      "source": [
        "def create_vector_pairs():\n",
        "  \"\"\" Finds two random linear independent vectors in Z^2\n",
        "  :return: vec1, vec2\"\"\"\n",
        "\n",
        "  found = False\n",
        "  vec1 = generate_vector_z2()\n",
        "  while not found:\n",
        "    vec2 = generate_vector_z2()\n",
        "    if are_linearly_independent(vec1,vec2):\n",
        "      found = True\n",
        "\n",
        "  return vec1, vec2\n",
        "\n",
        "vec1, vec2 = create_vector_pairs()\n",
        "print(vec1,vec2)"
      ],
      "metadata": {
        "colab": {
          "base_uri": "https://localhost:8080/"
        },
        "id": "Gt1wj_zLwoeT",
        "outputId": "c1f2124c-36a2-48ee-f16b-22a5a080c539"
      },
      "execution_count": 10,
      "outputs": [
        {
          "output_type": "stream",
          "name": "stdout",
          "text": [
            "[-69 -95] [-85  71]\n"
          ]
        }
      ]
    },
    {
      "cell_type": "markdown",
      "source": [
        "## Αλγόριθμος των Gauss-Lagrange"
      ],
      "metadata": {
        "id": "0DKZ_I7SRU35"
      }
    },
    {
      "cell_type": "code",
      "source": [
        "import math\n",
        "\n",
        "\n",
        "def gauss_lagrange(vec1, vec2):\n",
        "  \"\"\"Outputs a Lagrange-Gauss reduced basis for the lattice L.\n",
        "    :param vec1: The first vector (NumPy array).\n",
        "    :param vec2: The second vector (NumPy array).\n",
        "    :return: Basis (b1, b2) for L such that ||b_i|| = λ_i\n",
        "    \"\"\"\n",
        "\n",
        "  b1 = calc_norm_squared(vec1)\n",
        "  m = np.dot(vec1, vec2)/b1\n",
        "  vec2 = vec2 - math.ceil(m-0.5)*vec1\n",
        "  b2 = calc_norm_squared(vec2)\n",
        "\n",
        "  while calc_norm(vec2) < calc_norm(vec1):\n",
        "      vec1, vec2 = swap_vectors(vec1, vec2)\n",
        "      b1 = b2\n",
        "      m = np.dot(vec1, vec2)/b1\n",
        "      vec2 = vec2 - math.ceil(m-0.5)*vec1\n",
        "      b2 = calc_norm_squared(vec2)\n",
        "\n",
        "  return vec1, vec2\n",
        "\n",
        "\n",
        "# Requesting the vectors as input\n",
        "while True:\n",
        "    try:\n",
        "        vec1_str = input(\"Enter the first vector (e.g., 1,2,3): \")\n",
        "        vec1 = np.array([int(x) for x in vec1_str.split(',')])\n",
        "        vec2_str = input(\"Enter the second vector (e.g., 4,5,6): \")\n",
        "        vec2 = np.array([int(x) for x in vec2_str.split(',')])\n",
        "\n",
        "        if not are_linearly_independent(vec1,vec2):\n",
        "            print(\"Vectors must have the same dimension. Please enter again.\")\n",
        "            continue\n",
        "\n",
        "        break\n",
        "    except ValueError:\n",
        "        print(\"Invalid input. Please enter numbers separated by commas.\")\n",
        "\n",
        "# Checking linear independence\n",
        "if are_linearly_independent(vec1, vec2):\n",
        "    print(\"The vectors are linearly independent.\")\n",
        "else:\n",
        "    print(\"The vectors are linearly dependent.\")\n",
        "\n",
        "GL_vec1, GL_vec2 = gauss_lagrange(vec1, vec2)\n",
        "print(\"Gauss-Lagrange b1 =\",GL_vec1)\n",
        "print(\"Gauss-Lagrange b2 =\",GL_vec2)\n",
        "\n",
        "l1 = calc_norm(GL_vec1)\n",
        "print(\"l1 =\",l1)\n",
        "\n"
      ],
      "metadata": {
        "colab": {
          "base_uri": "https://localhost:8080/"
        },
        "id": "nyMug9OBRbAT",
        "outputId": "6f9e0635-f750-4a48-c797-babb14db33b9"
      },
      "execution_count": 11,
      "outputs": [
        {
          "output_type": "stream",
          "name": "stdout",
          "text": [
            "Enter the first vector (e.g., 1,2,3): 1,1\n",
            "Enter the second vector (e.g., 4,5,6): 3,4\n",
            "The vectors are linearly independent.\n",
            "Gauss-Lagrange b1 = [0 1]\n",
            "Gauss-Lagrange b2 = [1 0]\n",
            "l1 = 1.0\n"
          ]
        }
      ]
    },
    {
      "cell_type": "code",
      "source": [
        "angle_list = []\n",
        "\n",
        "for i in range(50):\n",
        "  # find two linearly independent vectors in Z^2\n",
        "  vec1, vec2 = create_vector_pairs()\n",
        "  # calculate the Gauss-Lagrange vectors\n",
        "  GL_vec1, GL_vec2 = gauss_lagrange(vec1, vec2)\n",
        "\n",
        "  # Calulate the angle between the two vectors\n",
        "  angle = angle_between_vectors(GL_vec1, GL_vec2)\n",
        "  angle_list.append(angle)\n",
        "\n",
        "\n",
        "angle_array = np.array(angle_list)\n",
        "print(angle_array)\n",
        "print(angle_array.mean())\n",
        "\n"
      ],
      "metadata": {
        "colab": {
          "base_uri": "https://localhost:8080/"
        },
        "id": "dqIpFsYnyZzT",
        "outputId": "2e5e6638-b4bd-4f8d-f878-3ea9d5272ca4"
      },
      "execution_count": 12,
      "outputs": [
        {
          "output_type": "stream",
          "name": "stdout",
          "text": [
            "[ 94.9099352   71.4170004   71.8275199   80.7633394   94.13918926\n",
            "  84.60787882  79.42821512  94.71035983  89.42127443  75.45439029\n",
            "  79.91844376  88.29744203  78.53979794  75.8887179   87.72239104\n",
            "  90.48820542  89.46371717  70.80813159  89.69780987  88.4654541\n",
            "  86.63353934  92.93567345 100.99157806  96.53772255  97.56866949\n",
            "  95.44033203 102.31751507  96.66665989  73.1995067  103.04563706\n",
            "  73.14819985  95.7696391   82.57721701 105.79240353  99.09517735\n",
            " 102.26649099  94.60392778  90.0610829   66.74813588  94.00121871\n",
            "  93.18786374 114.6182923  105.40174674  91.26123288  77.77382042\n",
            "  84.5061682   88.52850542  84.80557109  85.956849    86.60801783]\n",
            "88.7603521564629\n"
          ]
        }
      ]
    },
    {
      "cell_type": "code",
      "source": [
        "# prompt: find average of numpy array\n",
        "\n",
        "import numpy as np\n",
        "\n",
        "angle_array = np.array(angle_list)\n",
        "print(angle_array.mean())"
      ],
      "metadata": {
        "id": "GuhQitU9zcHU",
        "colab": {
          "base_uri": "https://localhost:8080/"
        },
        "outputId": "1d6ea64a-300f-4a48-aef5-0bf86d0b784a"
      },
      "execution_count": 13,
      "outputs": [
        {
          "output_type": "stream",
          "name": "stdout",
          "text": [
            "88.7603521564629\n"
          ]
        }
      ]
    },
    {
      "cell_type": "markdown",
      "source": [
        "# Θέμα 4"
      ],
      "metadata": {
        "id": "_sSSNYk1rZ8p"
      }
    },
    {
      "cell_type": "markdown",
      "source": [
        "## Αλγόριθμος Gram-Schmidt"
      ],
      "metadata": {
        "id": "fl7cux4hyqjd"
      }
    },
    {
      "cell_type": "code",
      "source": [
        "import numpy as np\n",
        "\n",
        "def gram_schmidt(basis):\n",
        "    \"\"\"\n",
        "    Gram-Schmidt Algorithm to create an orthogonal basis.\n",
        "    :param basis: a list of vecotrs (NumPy arrays) which create the basis B.\n",
        "    :return orthogonal_basis: list of orthogonal vectors\n",
        "    :return mu: Gram-Schmidt matrix (numpy array) with μ_ij cofacotrs\n",
        "\n",
        "    ~ used chatgpt as a reference based on Alrgorithm 24 from Chapter 17\n",
        "    Lattice Basis Reduction  of the book “Mathematics of Public Key Cryptography” by Steven Galbraithv\n",
        "    \"\"\"\n",
        "    n = len(basis)\n",
        "    # Initialize the orthogonal basis and the Gram-Schmidt matrix\n",
        "    b_star = np.zeros_like(basis, dtype=float)\n",
        "    mu = np.zeros((n, n), dtype=float)\n",
        "\n",
        "    for i in range(n):\n",
        "        b_star[i] = basis[i]\n",
        "        for j in range(i):\n",
        "          # Check for small norms to avoid division by zero added with chatgpt after debugging\n",
        "          norm_b_star_j = np.dot(b_star[j], b_star[j])\n",
        "          if np.abs(norm_b_star_j) < 1e-10:\n",
        "            raise ValueError(f\"Basis vector {j} is too small or degenerate.\")\n",
        "          mu[i, j] = np.dot(basis[i], b_star[j]) / np.dot(b_star[j], b_star[j])\n",
        "          b_star[i] -= mu[i, j] * b_star[j]\n",
        "\n",
        "    return b_star, mu\n",
        "\n",
        "# Παράδειγμα χρήσης\n",
        "basis = [\n",
        "    np.array([1.0, 1.0]),\n",
        "    np.array([1.0, 0.0])\n",
        "]\n",
        "\n",
        "orthogonal_basis, mu = gram_schmidt(basis)\n",
        "\n",
        "# Εκτύπωση αποτελεσμάτων\n",
        "print(\"Ορθογώνια βάση:\")\n",
        "for vec in orthogonal_basis:\n",
        "    print(vec)\n",
        "\n",
        "print(\"\\nGram-Schmidt πίνακας (μ):\")\n",
        "print(mu)\n"
      ],
      "metadata": {
        "colab": {
          "base_uri": "https://localhost:8080/"
        },
        "id": "ylfNhYCobLhU",
        "outputId": "6d9d23f9-6713-4069-a0c5-305ba84a98f8"
      },
      "execution_count": 29,
      "outputs": [
        {
          "output_type": "stream",
          "name": "stdout",
          "text": [
            "Ορθογώνια βάση:\n",
            "[1. 1.]\n",
            "[ 0.5 -0.5]\n",
            "\n",
            "Gram-Schmidt πίνακας (μ):\n",
            "[[0.  0. ]\n",
            " [0.5 0. ]]\n"
          ]
        }
      ]
    },
    {
      "cell_type": "markdown",
      "source": [
        "## Αλγόριθμος LLL"
      ],
      "metadata": {
        "id": "kwGY7cRV-Rgg"
      }
    },
    {
      "cell_type": "code",
      "source": [
        "import math\n",
        "import numpy as np\n",
        "\n",
        "def lll_algorithm(basis, delta):\n",
        "  \"\"\"\n",
        "    LLL algorithm with Euclidean norm\n",
        "    :param orthogonal_basis: a list of vecotrs (NumPy arrays) which the basis B.\n",
        "    :param delta: typically choose δ = 3/4\n",
        "    :return basis: LLL reduced basis b1, . . . , bn (numpy array)\n",
        "  \"\"\"\n",
        "  n = len(basis)\n",
        "  orthogonal_basis, mu = gram_schmidt(basis)\n",
        "  # Compute Bi = <{b_i}*,{b_i}*> = ||{b_i}*||^2\n",
        "  B = np.array([np.dot(orthogonal_basis[i], orthogonal_basis[i]) for i in range(n)])\n",
        "\n",
        "  k=1\n",
        "  while k < n:\n",
        "    # Perform size reduction\n",
        "    for j in range(k - 1, -1, -1):\n",
        "      q = round(mu[k, j])\n",
        "      basis[k] -= q * basis[j]\n",
        "      orthogonal_basis, mu = gram_schmidt(basis)\n",
        "      #B = np.array([np.dot(orthogonal_basis[i], orthogonal_basis[i]) for i in range(n)])\n",
        "\n",
        "    # Check Lov´asz condition\n",
        "    if B[k] < (delta-mu[k,k-1]**2)*B[k-1]:\n",
        "        # Swap basis[k] and basis[k-1]\n",
        "        basis[k], basis[k-1] = basis[k-1], basis[k].copy()\n",
        "        orthogonal_basis, mu = gram_schmidt(basis)\n",
        "        B = np.array([np.dot(orthogonal_basis[i], orthogonal_basis[i]) for i in range(n)])\n",
        "        k = max(1, k - 1)\n",
        "    else:\n",
        "      k+=1\n",
        "  return basis\n",
        "\n",
        "\n",
        "delta = 0.99\n",
        "basis = np.array([[10,1], [1, 9]])\n",
        "lll_reduced_basis = lll_algorithm(basis.copy(),delta)\n",
        "print(\"LLL Reduced Basis:\")\n",
        "print(lll_reduced_basis)"
      ],
      "metadata": {
        "colab": {
          "base_uri": "https://localhost:8080/"
        },
        "id": "l7pRMhGI-QfB",
        "outputId": "36c03cf8-4a68-4e5a-92ac-e5adf49376c7"
      },
      "execution_count": 30,
      "outputs": [
        {
          "output_type": "stream",
          "name": "stdout",
          "text": [
            "LLL Reduced Basis:\n",
            "[[ 1  9]\n",
            " [10  1]]\n"
          ]
        }
      ]
    },
    {
      "cell_type": "code",
      "source": [
        "# Examples\n",
        "delta = 0.99\n",
        "basis = np.array([[1, 1, 1], [1, 0, 2], [0, 1, 1]])\n",
        "lll_reduced_basis = lll_algorithm(basis.copy(),delta)\n",
        "print(\"LLL Reduced Basis:\")\n",
        "print(lll_reduced_basis)\n",
        "\n",
        "basis = np.array([[10,1], [1, 9]])\n",
        "lll_reduced_basis = lll_algorithm(basis.copy(),delta)\n",
        "print(\"LLL Reduced Basis:\")\n",
        "print(lll_reduced_basis)\n",
        "\n",
        "basis = np.array([[1, -1, 3], [1, 0, 5], [1, 2, 6]])\n",
        "lll_reduced_basis = lll_algorithm(basis.copy(),delta)\n",
        "print(\"LLL Reduced Basis:\")\n",
        "print(lll_reduced_basis)\n",
        "\n",
        "basis = np.array([[-36,32], [-32, -27]])\n",
        "lll_reduced_basis = lll_algorithm(basis.copy(),delta)\n",
        "print(\"LLL Reduced Basis:\")\n",
        "print(lll_reduced_basis)\n",
        "\n",
        "basis = np.array([[-1, -1, -2, -4, -1], [-2, -2, 4, -4, 2], [4, 2, -1, 1, 4], [1, -1, 1, -1, -1],[-1, 1, -1, 1, -30]])\n",
        "lll_reduced_basis = lll_algorithm(basis.copy(),delta)\n",
        "print(\"LLL Reduced Basis:\")\n",
        "print(lll_reduced_basis)\n",
        "\n",
        "basis = np.array([[42, -36, -5], [-13, 9, 30]])\n",
        "lll_reduced_basis = lll_algorithm(basis.copy(),delta)\n",
        "print(\"LLL Reduced Basis:\")\n",
        "print(lll_reduced_basis)\n",
        "\n"
      ],
      "metadata": {
        "colab": {
          "base_uri": "https://localhost:8080/"
        },
        "id": "vh_Ao3EjUc3w",
        "outputId": "89caefc8-2f6e-4061-a197-f99c8870a3ec"
      },
      "execution_count": 31,
      "outputs": [
        {
          "output_type": "stream",
          "name": "stdout",
          "text": [
            "LLL Reduced Basis:\n",
            "[[-1  0  0]\n",
            " [ 0 -1  1]\n",
            " [ 0  1  1]]\n",
            "LLL Reduced Basis:\n",
            "[[ 1  9]\n",
            " [10  1]]\n",
            "LLL Reduced Basis:\n",
            "[[ 1 -1  0]\n",
            " [-1  0  1]\n",
            " [ 1  1  1]]\n",
            "LLL Reduced Basis:\n",
            "[[-32 -27]\n",
            " [-36  32]]\n",
            "LLL Reduced Basis:\n",
            "[[ 1 -1  1 -1 -1]\n",
            " [-2  0 -3 -3  0]\n",
            " [ 5  1  0  0  3]\n",
            " [-3 -1  3 -3  3]\n",
            " [-1  7  2 -2 -6]]\n",
            "LLL Reduced Basis:\n",
            "[[-13   9  30]\n",
            " [ 29 -27  25]]\n"
          ]
        }
      ]
    },
    {
      "cell_type": "markdown",
      "source": [
        "## πρώτο διάνυσμα που δίνει ο LLL έχει μεγαλύτερο μήκος από το δεύτερο διάνυσμα"
      ],
      "metadata": {
        "id": "xOUAStZoKhUS"
      }
    },
    {
      "cell_type": "code",
      "source": [
        "def generate_random_lattice(dim, max_val=10000):\n",
        "    \"\"\"\n",
        "    Generates a random basis for an dim-dimensional lattice.\n",
        "    :parm dim: dimention of the lattice.\n",
        "    :parm max_val (int): The maximum absolute value of the elements in the basis matrix.\n",
        "    :returns a numpy array representing the lattice basis.\n",
        "    ~ created with chatgpt\n",
        "    \"\"\"\n",
        "    while True:\n",
        "      # Generate a random n x n matrix with integers\n",
        "      basis = np.random.randint(-max_val, max_val + 1, size=(dim, dim))\n",
        "\n",
        "      # Check if the rows are linearly independent (determinant is non-zero)\n",
        "      if np.linalg.det(basis) != 0:\n",
        "        return basis\n",
        "\n",
        "def check_lll_norm_condition(max_iterations=100):\n",
        "  \"\"\"\n",
        "  Checks random lattices (up to max_iterations) until it finds one where the\n",
        "  norm of the first vector of the LLL-reduced lattice is greater than the second.\n",
        "  :parm max_iterations: The maximum number of iterations to perform.\n",
        "  :returns a tuple containing the original base, the LLL-reduced basis and the norms if the condition is met,\n",
        "    None otherwise.\n",
        "\n",
        "  ~ used Gemini as reference for naming\n",
        "  \"\"\"\n",
        "\n",
        "  for _ in range(max_iterations):\n",
        "    basis = generate_random_lattice(4)\n",
        "\n",
        "    # Apply the LLL algorithm\n",
        "    lll_basis = lll_algorithm(basis.copy(), delta=0.75)\n",
        "\n",
        "    # Check the condition\n",
        "    norm_first = calc_norm(lll_basis[0])\n",
        "    norm_second = calc_norm(lll_basis[1])\n",
        "\n",
        "    if norm_first > norm_second:\n",
        "        return  basis, lll_basis, (norm_first, norm_second)\n",
        "\n",
        "  return None\n",
        "\n",
        "\n",
        "result = check_lll_norm_condition()\n",
        "\n",
        "if result:\n",
        "    basis, lll_basis, norms = result\n",
        "    print(\"Original basis found satisfying the condition:\")\n",
        "    print(basis)\n",
        "    print(\"LLL-reduced basis found satisfying the condition:\")\n",
        "    print(lll_basis)\n",
        "    print(\"Norms:\", norms)\n",
        "else:\n",
        "    print(\"No LLL-reduced basis found satisfying the condition within the given iterations.\")"
      ],
      "metadata": {
        "colab": {
          "base_uri": "https://localhost:8080/"
        },
        "id": "LkJ3ZIQyKuIo",
        "outputId": "e72eb27b-8e0a-4fe1-faaf-8880857b2e11"
      },
      "execution_count": 32,
      "outputs": [
        {
          "output_type": "stream",
          "name": "stdout",
          "text": [
            "Original basis found satisfying the condition:\n",
            "[[ 6106 -7095 -4969 -7703]\n",
            " [ 3066 -7286 -8146 -9631]\n",
            " [ 4924 -2277  2182 -5491]\n",
            " [   85 -5967  -219 -8626]]\n",
            "LLL-reduced basis found satisfying the condition:\n",
            "[[-3040  -191 -3177 -1928]\n",
            " [-1799 -3499   776 -1207]\n",
            " [-4222  4627  3974   284]\n",
            " [ 3683  1031 -1771 -6212]]\n",
            "Norms: (4805.059208792333, 4187.89051910386)\n"
          ]
        }
      ]
    },
    {
      "cell_type": "markdown",
      "source": [
        "## Τυχαία εκτέλεση LLL και Gauss-Lagrange σε πλέγματα βαθμίδας 2"
      ],
      "metadata": {
        "id": "olfC5m2KQKZH"
      }
    },
    {
      "cell_type": "code",
      "source": [
        "def random_executions(iterations):\n",
        "  \"\"\"\n",
        "  Checks <iterations> random lattices\n",
        "  :parm iterations: The number of iterations to perform.\n",
        "  \"\"\"\n",
        "  counter = 0\n",
        "  for _ in range(iterations):\n",
        "    # Generate two random linearly independent vectors in Z^2\n",
        "    vec1, vec2 = create_vector_pairs()\n",
        "    basis = np.array([vec1, vec2])\n",
        "\n",
        "    # Apply the LLL algorithm\n",
        "    lll_basis = lll_algorithm(basis.copy(), delta=0.75)\n",
        "\n",
        "    # Apply the Gauss-Lagrance algorithm\n",
        "    GL_vec1, GL_vec2 = gauss_lagrange(vec1, vec2)\n",
        "    gauss_basis = np.array([GL_vec1, GL_vec2])\n",
        "\n",
        "    \"\"\"\n",
        "    print(\"Original basis:\")\n",
        "    print(basis)\n",
        "    print(\"LLL-reduced basis:\")\n",
        "    print(lll_basis)\n",
        "    print(\"Gauss-Lagrange-reduced basis:\")\n",
        "    print(gauss_basis)\n",
        "    \"\"\"\n",
        "    if  np.array_equal(lll_basis, gauss_basis):\n",
        "      #print(\"The reduced bases are the same\")\n",
        "      counter += 1\n",
        "    #else:\n",
        "      #print(\"The reduced bases are NOT the same\")\n",
        "    #print(\"----------------------------------------\")\n",
        "  print(counter, \"out of \",iterations, \"exapmles were the same\")\n",
        "\n",
        "  return None\n",
        "\n",
        "\n",
        "run = random_executions(100)"
      ],
      "metadata": {
        "colab": {
          "base_uri": "https://localhost:8080/"
        },
        "id": "qqrg_EMHQJUQ",
        "outputId": "e002904e-945e-4308-83bf-fd4aa7c87632"
      },
      "execution_count": 33,
      "outputs": [
        {
          "output_type": "stream",
          "name": "stdout",
          "text": [
            "86 out of  100 exapmles were the same\n"
          ]
        }
      ]
    },
    {
      "cell_type": "markdown",
      "source": [
        "# Θέμα 10\n",
        "## Αλγόριθμος του Bambai"
      ],
      "metadata": {
        "id": "3gJYIMk7tuOr"
      }
    },
    {
      "cell_type": "code",
      "source": [
        "def bambai_algorithm(basis, t):\n",
        "  \"\"\"\n",
        "  Babai’s nearest plane algorithm\n",
        "\n",
        "  :param basis: Basis matrix (n x m) (NumPy arrays) describing the lattice.\n",
        "  :param t: Target vector (NumPy arrays), m-dimensional\n",
        "  :return x: The closest lattice point to t.\n",
        "  \"\"\"\n",
        "  n = len(basis)\n",
        "  # Apply the LLL algorithm\n",
        "  lll_basis = lll_algorithm(basis.copy(), delta=0.75)\n",
        "\n",
        "  # Apply Gram-Schmidt Algorithm to create an orthogonal basis\n",
        "  orthogonal_basis, mu = gram_schmidt(lll_basis.copy())\n",
        "\n",
        "  b = t.copy()\n",
        "  for j in range(n - 1, -1, -1):\n",
        "    c_j = round(np.dot(b,orthogonal_basis[j])/np.dot(orthogonal_basis[j],orthogonal_basis[j]))\n",
        "    b -= c_j* lll_basis[j]\n",
        "  return t-b\n",
        "\n",
        "\n",
        "# Examples\n",
        "#B = np.array([[1, 0], [0, 1]])\n",
        "#t = np.array([2.7, 3.4])\n",
        "#closest_point = bambai_algorithm(B, t)\n",
        "#print(\"The closest lattice point is:\", closest_point)\n",
        "\n",
        "B = np.array([[137, 312], [215, -187]])\n",
        "t = np.array([53172, 81743])\n",
        "closest_point = bambai_algorithm(B, t)\n",
        "print(\"The closest lattice point is:\", closest_point)\n"
      ],
      "metadata": {
        "colab": {
          "base_uri": "https://localhost:8080/"
        },
        "id": "jJn5-U15t4sG",
        "outputId": "18f8e9af-e3c4-4c96-cac9-acdc91917629"
      },
      "execution_count": 34,
      "outputs": [
        {
          "output_type": "stream",
          "name": "stdout",
          "text": [
            "The closest lattice point is: [53159 81818]\n"
          ]
        }
      ]
    },
    {
      "cell_type": "markdown",
      "source": [
        "# Θέμα 11\n",
        "## Αλγόριθμος KFP"
      ],
      "metadata": {
        "id": "h48MwKvicFy4"
      }
    },
    {
      "cell_type": "code",
      "source": [
        "def kfp_enumeration(basis, R):\n",
        "    \"\"\"\n",
        "    KFP enumeration algorithm returns all vectors of L which are smaller than R\n",
        "\n",
        "    :param basis: Basis matrix (n x n) (NumPy arrays) describing the lattice.\n",
        "    :param R: possitive number constraint for the norm\n",
        "    :return:  A set of lattice vectors satisfying ||x|| <= R\n",
        "    \"\"\"\n",
        "    n = len(basis)\n",
        "    # compute {μ_{ij}}\n",
        "    b_star, mu = gram_schmidt(basis.copy())\n",
        "    # Compute Bi = ||{b_i}*||^2\n",
        "    B = np.array([np.dot(b_star[i], b_star[i]) for i in range(n)])\n",
        "\n",
        "    x = np.zeros(n, dtype=int)      # Initialize x vector\n",
        "    c = np.zeros(n, dtype=float)    # Initialize c vector\n",
        "    l = np.zeros(n, dtype=float)    # Initialize l vector\n",
        "    sumli = 0\n",
        "    S = set()                       # Set to store lattice vectors\n",
        "    i = 0\n",
        "\n",
        "    while i < n:\n",
        "        # Update c[i] as the summation of μ[j, i] * x[j] for j=i+1 to n\n",
        "        c[i] = -sum(x[j] * mu[j][i] for j in range(i+1, n))\n",
        "\n",
        "        l[i] = B[i] * ((x[i] - c[i])**2)\n",
        "        sumli = sum(l[i:n])\n",
        "\n",
        "        if sumli <= R**2:\n",
        "            if i == 0:\n",
        "                S.add(tuple(sum(x[j] * basis[j] for j in range(n))))\n",
        "                x[0] += 1\n",
        "            else:\n",
        "                i -= 1\n",
        "                summation = sum(mu[j, i] * x[j] for j in range(i + 1, n))\n",
        "                # xi ← left part of the interval Ii\n",
        "                x[i] = math.ceil(-summation - np.sqrt((R**2 - sum(l[i+1:n])) / B[i]))\n",
        "        else:\n",
        "            i += 1\n",
        "            if i < n:\n",
        "              x[i] += 1\n",
        "    return S\n",
        "\n",
        "# Example\n",
        "basis = np.array([[3, 6, 13], [11, 3, 15], [12, 12, 0]])\n",
        "R = np.sqrt(214)\n",
        "\n",
        "result = kfp_enumeration(basis, R)\n",
        "print(\"Lattice vectors satisfying ||x|| <= R:\")\n",
        "for vector in result:\n",
        "    print(vector)\n"
      ],
      "metadata": {
        "colab": {
          "base_uri": "https://localhost:8080/"
        },
        "id": "rZuBYn22zxhp",
        "outputId": "22240a1e-9e4a-4de3-c6e2-48396e1e4b7e"
      },
      "execution_count": 35,
      "outputs": [
        {
          "output_type": "stream",
          "name": "stdout",
          "text": [
            "Lattice vectors satisfying ||x|| <= R:\n",
            "(8, -3, 2)\n",
            "(0, 0, 0)\n",
            "(3, 6, 13)\n"
          ]
        }
      ]
    },
    {
      "cell_type": "code",
      "source": [
        "# Παράδειγμα χρήσης\n",
        "basis = np.array([[-1, -1, -2, -4, -1], [-2, -2, 4, -4, 2], [4, 2, -1, 1, 4], [1, -1, 1, -1, -1], [-1, 1, -1, 1, 30]])\n",
        "R = np.sqrt(40)\n",
        "\n",
        "result = kfp_enumeration(basis, R)\n",
        "print(\"Vectors satisfying the condition:\")\n",
        "for vector in result:\n",
        "    print(vector)"
      ],
      "metadata": {
        "colab": {
          "base_uri": "https://localhost:8080/"
        },
        "id": "i6AU_YtPV9AH",
        "outputId": "32c10601-848b-4146-e9b6-222f7d5ddd19"
      },
      "execution_count": 36,
      "outputs": [
        {
          "output_type": "stream",
          "name": "stdout",
          "text": [
            "Vectors satisfying the condition:\n",
            "(5, 1, 0, 0, 3)\n",
            "(3, 1, -3, -3, 3)\n",
            "(1, -1, 1, -1, -1)\n",
            "(0, -2, -1, -5, -2)\n",
            "(2, 0, 3, 3, 0)\n",
            "(3, -1, 4, 2, -1)\n",
            "(-1, -1, -2, -4, -1)\n",
            "(4, 2, -1, 1, 4)\n",
            "(0, 0, 0, 0, 0)\n",
            "(4, 0, -2, 2, -4)\n",
            "(2, -2, 2, -2, -2)\n",
            "(4, 0, -2, -4, 2)\n",
            "(3, 1, -3, 3, -3)\n"
          ]
        }
      ]
    },
    {
      "cell_type": "markdown",
      "source": [
        "# Θέμα 12\n",
        "## ́Αλγόριθμος Schnorr-Euchner"
      ],
      "metadata": {
        "id": "m_40KjPvd_I-"
      }
    },
    {
      "cell_type": "code",
      "source": [
        "def schnorr_euchner_algorithm(basis, R):\n",
        "  \"\"\"\n",
        "  KFP enumeration algorithm returns all vectors of L which are smaller than R\n",
        "\n",
        "    :param basis: Basis matrix (n x n) (NumPy arrays) describing the lattice.\n",
        "    :param R: possitive number constraint for the norm\n",
        "    :return:  A set of lattice vectors satisfying ||x|| <= R\n",
        "  \"\"\"\n",
        "  n = len(basis)\n",
        "  # compute {μ_{ij}}\n",
        "  b_star, mu = gram_schmidt(basis.copy())\n",
        "  # Compute Bi = ||{b_i}*||^2\n",
        "  B = np.array([np.dot(b_star[i], b_star[i]) for i in range(n)])\n",
        "\n",
        "  x = np.zeros(n, dtype=int)      # Initialize x vector\n",
        "  c = np.zeros(n, dtype=float)    # Initialize c vector\n",
        "  l = np.zeros(n, dtype=float)    # Initialize l vector\n",
        "\n",
        "  # Δx ← (1, 0n−1)\n",
        "  delta_x = np.zeros(n)\n",
        "  delta_x[0] = 1\n",
        "\n",
        "  # Δ2x ← (1, (−1)n−1)\n",
        "  delta_2x = np.ones(n)\n",
        "  delta_2x[1:] = -1\n",
        "\n",
        "  sumli = 0\n",
        "  S = set()                       # Set to store lattice vectors\n",
        "  i = 0\n",
        "\n",
        "  while i < n:\n",
        "    c[i] = -sum(x[j]*mu[j][i] for j in range(i+1, n))\n",
        "    l[i] = B[i]*((x[i]-c[i])**2)\n",
        "    sumli = sum(l[i:n])\n",
        "    if sumli <= R**2 and i == 0:\n",
        "      S.add(tuple(sum(x[j]*basis[j] for j in range(n))))\n",
        "    if sumli <= R**2 and i > 0:\n",
        "      i -= 1\n",
        "      c[i] = -sum(x[j]*mu[j][i] for j in range(i+1, n)) # center of the interval In+1−i\n",
        "      x[i] = round(c[i])\n",
        "      delta_x[i] = 0\n",
        "      if c[i] < x[i]:\n",
        "        delta_2x[i] = 1\n",
        "      else:\n",
        "        delta_2x[i] = -1\n",
        "    elif i ==n:         # i.e. if sumli > R2 and i = n\n",
        "      break\n",
        "    else:               # i.e. if sumli > R2 or i = 1\n",
        "      i +=1\n",
        "      if i < n:\n",
        "        delta_2x[i] = -delta_2x[i]\n",
        "        delta_x[i] = -delta_x[i] + delta_2x[i]\n",
        "        x[i] = x[i] + delta_x[i]\n",
        "  return S\n",
        "\n",
        "\n",
        "# Example\n",
        "basis = np.array([[3, 6, 13], [11, 3, 15], [12, 12, 0]])\n",
        "R = np.sqrt(214)\n",
        "\n",
        "result = schnorr_euchner_algorithm(basis, R)\n",
        "print(\"Lattice vectors satisfying ||x|| <= R:\")\n",
        "for vector in result:\n",
        "    print(vector)\n"
      ],
      "metadata": {
        "colab": {
          "base_uri": "https://localhost:8080/"
        },
        "id": "g8y46mIsd9vO",
        "outputId": "f509920f-7ea2-4b1a-e4b5-d73d1c580d31"
      },
      "execution_count": 37,
      "outputs": [
        {
          "output_type": "stream",
          "name": "stdout",
          "text": [
            "Lattice vectors satisfying ||x|| <= R:\n",
            "(8, -3, 2)\n",
            "(0, 0, 0)\n",
            "(-8, 3, -2)\n"
          ]
        }
      ]
    },
    {
      "cell_type": "code",
      "source": [
        "# Παράδειγμα χρήσης\n",
        "basis = np.array([[-1, -1, -2, -4, -1], [-2, -2, 4, -4, 2], [4, 2, -1, 1, 4], [1, -1, 1, -1, -1], [-1, 1, -1, 1, 30]])\n",
        "R = np.sqrt(40)\n",
        "\n",
        "result = schnorr_euchner_algorithm(basis, R)\n",
        "print(\"Vectors satisfying the condition:\")\n",
        "for vector in result:\n",
        "    print(vector)"
      ],
      "metadata": {
        "colab": {
          "base_uri": "https://localhost:8080/"
        },
        "id": "BH3IOa6SlWxw",
        "outputId": "4f986bbf-31e6-40f2-c7bc-aa4af53b6616"
      },
      "execution_count": 38,
      "outputs": [
        {
          "output_type": "stream",
          "name": "stdout",
          "text": [
            "Vectors satisfying the condition:\n",
            "(-1, 1, -1, 1, 1)\n",
            "(-3, -1, 3, 3, -3)\n",
            "(5, 1, 0, 0, 3)\n",
            "(1, -1, 1, -1, -1)\n",
            "(3, 1, -3, -3, 3)\n",
            "(-2, 2, -2, 2, 2)\n",
            "(-4, 0, 2, -2, 4)\n",
            "(-5, -1, 0, 0, -3)\n",
            "(-3, -1, 3, -3, 3)\n",
            "(0, 0, 0, 0, 0)\n",
            "(4, 0, -2, 2, -4)\n",
            "(2, -2, 2, -2, -2)\n",
            "(3, 1, -3, 3, -3)\n"
          ]
        }
      ]
    },
    {
      "cell_type": "markdown",
      "source": [
        "## enumeration with prunning και prunning vector"
      ],
      "metadata": {
        "id": "csWMNjawXqXT"
      }
    },
    {
      "cell_type": "code",
      "source": [
        "import math\n",
        "\n",
        "def compute_pruning_vector(n):\n",
        "    \"\"\"\n",
        "    Computes the pruning vector a_i = min(1, sqrt(1.05^(i/n))).\n",
        "        :param n (int): Dimension of the lattice.\n",
        "        :return: list of float: Pruning vector.\n",
        "    \"\"\"\n",
        "    return [min(1, math.sqrt(1.05**(i/n))) for i in range(n)]\n",
        "\n",
        "def schnorr_euchner_algorithm_with_prunning(basis, R):\n",
        "  \"\"\"\n",
        "  KFP enumeration algorithm returns all vectors of L which are smaller than R\n",
        "\n",
        "    :param basis: Basis matrix (n x n) (NumPy arrays) describing the lattice.\n",
        "    :param R: possitive number constraint for the norm\n",
        "    :return:  A set of lattice vectors satisfying ||x|| <= R\n",
        "  \"\"\"\n",
        "  n = len(basis)\n",
        "  # compute {μ_{ij}}\n",
        "  b_star, mu = gram_schmidt(basis.copy())\n",
        "  # Compute Bi = ||{b_i}*||^2\n",
        "  B = np.array([np.dot(b_star[i], b_star[i]) for i in range(n)])\n",
        "\n",
        "  x = np.zeros(n, dtype=int)      # Initialize x vector\n",
        "  c = np.zeros(n)                 # Initialize c vector\n",
        "  l = np.zeros(n)                 # Initialize l vector\n",
        "\n",
        "  # Δx ← (1, 0n−1)\n",
        "  delta_x = np.zeros(n)\n",
        "  delta_x[0] = 1\n",
        "\n",
        "  # Δ2x ← (1, (−1)n−1)\n",
        "  delta_2x = np.ones(n)\n",
        "  delta_2x[1:] = -1\n",
        "\n",
        "  sumli = 0\n",
        "  S = set()                       # Set to store lattice vectors\n",
        "  i = 0\n",
        "\n",
        "  # compute prunning vvector\n",
        "  a = compute_pruning_vector(n)\n",
        "\n",
        "  while i < n:\n",
        "    c[i] = -sum(x[j]*mu[j][i] for j in range(i+1, n))\n",
        "    l[i] = B[i]*((x[i]-c[i])**2)\n",
        "    sumli = sum(l[i:n])\n",
        "    if sumli <= (a[n-1-i]*R)**2 and i == 0:\n",
        "      S.add(tuple(sum(x[j]*basis[j] for j in range(n))))\n",
        "    if sumli <= (a[n-1-i]*R)**2 and i > 0:\n",
        "      i -= 1\n",
        "      c[i] = -sum(x[j]*mu[j][i] for j in range(i+1, n)) # center of the interval In+1−i\n",
        "      x[i] = round(c[i])\n",
        "      delta_x[i] = 0\n",
        "      if c[i] < x[i]:\n",
        "        delta_2x[i] = 1\n",
        "      else:\n",
        "        delta_2x[i] = -1\n",
        "    elif i ==n:         # i.e. if sumli > R2 and i = n\n",
        "      break\n",
        "    else:               # i.e. if sumli > R2 or i = 1\n",
        "      i +=1\n",
        "      if i < n:\n",
        "        delta_2x[i] = -delta_2x[i]\n",
        "        delta_x[i] = -delta_x[i] + delta_2x[i]\n",
        "        x[i] = x[i] + delta_x[i]\n",
        "  return S\n",
        "\n",
        "\n",
        "# Example\n",
        "basis = np.array([[3, 6, 13], [11, 3, 15], [12, 12, 0]])\n",
        "R = np.sqrt(214)\n",
        "\n",
        "result = schnorr_euchner_algorithm_with_prunning(basis, R)\n",
        "print(\"Lattice vectors satisfying ||x|| <= R:\")\n",
        "for vector in result:\n",
        "    print(vector)\n"
      ],
      "metadata": {
        "colab": {
          "base_uri": "https://localhost:8080/"
        },
        "id": "Wj8qP1zhXxO7",
        "outputId": "4634f9be-7daa-4939-8d1e-4d739940f49d"
      },
      "execution_count": 39,
      "outputs": [
        {
          "output_type": "stream",
          "name": "stdout",
          "text": [
            "Lattice vectors satisfying ||x|| <= R:\n",
            "(8, -3, 2)\n",
            "(0, 0, 0)\n",
            "(-8, 3, -2)\n"
          ]
        }
      ]
    },
    {
      "cell_type": "markdown",
      "source": [
        "# Θέμα 4 - vol.2"
      ],
      "metadata": {
        "id": "QRYWWK0j1tS7"
      }
    },
    {
      "cell_type": "code",
      "source": [
        "import numpy as np\n",
        "import random\n",
        "\n",
        "iterations = 1\n",
        "\n",
        "def is_lll_first_vector_lambda1(basis, delta=0.75):\n",
        "    \"\"\"\n",
        "    Check if the first vector of the LLL-reduced basis is λ1(L).\n",
        "\n",
        "      :param basis: Input lattice basis (numpy array).\n",
        "      :param delta: Delta parameter for LLL (default 0.75).\n",
        "      :return: True if the first vector is λ1(L), otherwise False.\n",
        "    \"\"\"\n",
        "    # Compute the LLL-reduced basis\n",
        "    lll_reduced_basis = lll_algorithm(basis.copy(),delta)\n",
        "    lll_shortest_norm = np.linalg.norm(lll_reduced_basis[0])\n",
        "    #print(\"LLL Reduced Basis:\")\n",
        "    #print(lll_reduced_basis)\n",
        "    #print(\"LLL First Vector Norm:\", lll_shortest_norm)\n",
        "\n",
        "    # Use KFP to find λ1(L)\n",
        "    R = lll_shortest_norm + 0.01  # Slightly above the LLL first vector's norm\n",
        "    enumerated_vectors  = kfp_enumeration(basis, R)\n",
        "\n",
        "    # Find the shortest norm among enumerated vectors ~ used chatgpt\n",
        "    min_enumerated_norm = float('inf')\n",
        "    for vec in enumerated_vectors:\n",
        "      norm = np.linalg.norm(vec)\n",
        "      if norm > 0:  # Exclude the zero vector\n",
        "        min_enumerated_norm = min(min_enumerated_norm, norm)\n",
        "\n",
        "    # Compare norms\n",
        "    return np.isclose(lll_shortest_norm, min_enumerated_norm), lll_reduced_basis[0], min_enumerated_norm\n"
      ],
      "metadata": {
        "id": "aRcNghb97Xgf"
      },
      "execution_count": 52,
      "outputs": []
    },
    {
      "cell_type": "code",
      "source": [
        "# Example\n",
        "true_counter = 0\n",
        "iterations = 50\n",
        "for _ in range(iterations):\n",
        "  lattice = generate_random_lattice(4)\n",
        "  result, lll_vector, lambda1 = is_lll_first_vector_lambda1(lattice)\n",
        "  if result:\n",
        "    true_counter += 1\n",
        "  #print(\"Lattice:\")\n",
        "  #print(lattice)\n",
        "  #print(\"LLL First Vector:\", lll_vector)\n",
        "  print(\"λ1(L) from Enumeration:\", lambda1)\n",
        "  print(\"Is LLL first vector λ1(L)?\", result)\n",
        "  print(\"-\" * 50)\n",
        "print(true_counter, \"cases out of \", iterations, \"were correct\")"
      ],
      "metadata": {
        "id": "j9ZhjYlJ0FDj"
      },
      "execution_count": null,
      "outputs": []
    },
    {
      "cell_type": "code",
      "source": [
        "import numpy as np\n",
        "\n",
        "# Example to find approximation\n",
        "counter_list = []\n",
        "iterations = 50\n",
        "for _ in range(10):\n",
        "  true_counter = 0\n",
        "  for _ in range(iterations):\n",
        "    # Generate random Lattice of max dimention 4\n",
        "    lattice = generate_random_lattice(random.randint(2, 4))\n",
        "    result, lll_vector, lambda1 = is_lll_first_vector_lambda1(lattice)\n",
        "    if result:\n",
        "      true_counter += 1\n",
        "  counter_list.append(true_counter)\n",
        "  print(true_counter, \"cases out of \", iterations, \"were correct\")\n",
        "counter_list=np.array(counter_list)\n",
        "#print(counter_list)\n",
        "print(\"Average:\", np.mean(counter_list))\n"
      ],
      "metadata": {
        "colab": {
          "base_uri": "https://localhost:8080/"
        },
        "id": "HVNgfzce0JJx",
        "outputId": "f6ba105b-d392-437a-fd6c-c9045280bb30"
      },
      "execution_count": 70,
      "outputs": [
        {
          "output_type": "stream",
          "name": "stdout",
          "text": [
            "39 cases out of  50 were correct\n",
            "41 cases out of  50 were correct\n",
            "44 cases out of  50 were correct\n",
            "43 cases out of  50 were correct\n",
            "42 cases out of  50 were correct\n",
            "43 cases out of  50 were correct\n",
            "42 cases out of  50 were correct\n",
            "43 cases out of  50 were correct\n",
            "43 cases out of  50 were correct\n",
            "41 cases out of  50 were correct\n",
            "Average: 42.1\n"
          ]
        }
      ]
    }
  ]
}