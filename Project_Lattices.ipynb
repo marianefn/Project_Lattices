{
  "nbformat": 4,
  "nbformat_minor": 0,
  "metadata": {
    "colab": {
      "provenance": [],
      "collapsed_sections": [
        "niNNsVcm5WG5",
        "3gJYIMk7tuOr",
        "h48MwKvicFy4",
        "m_40KjPvd_I-"
      ],
      "toc_visible": true,
      "authorship_tag": "ABX9TyPJB4cz28pxTySLR1NrNjRw",
      "include_colab_link": true
    },
    "kernelspec": {
      "name": "python3",
      "display_name": "Python 3"
    },
    "language_info": {
      "name": "python"
    }
  },
  "cells": [
    {
      "cell_type": "markdown",
      "metadata": {
        "id": "view-in-github",
        "colab_type": "text"
      },
      "source": [
        "<a href=\"https://colab.research.google.com/github/marianefn/Project_Lattices/blob/main/Project_Lattices.ipynb\" target=\"_parent\"><img src=\"https://colab.research.google.com/assets/colab-badge.svg\" alt=\"Open In Colab\"/></a>"
      ]
    },
    {
      "cell_type": "markdown",
      "source": [
        "# Θέμα 2"
      ],
      "metadata": {
        "id": "lPOXYYPzJE3J"
      }
    },
    {
      "cell_type": "markdown",
      "source": [
        "## Πρόβλημα 1"
      ],
      "metadata": {
        "id": "uejbmIxwJMx2"
      }
    },
    {
      "cell_type": "markdown",
      "source": [
        "Είσοδος: Lattice L (πίνακας m x n), σημείο P (διάνυσμα m)\n",
        "Έξοδος: True αν P ανήκει στο L, αλλιώς False\n",
        "\n",
        "1. Υπολόγισε τη βάση του πλέγματος L (B).\n",
        "2. Επίλυσε τη γραμμική εξίσωση Bx = P για το x.\n",
        "3. Αν το x περιέχει μόνο ακέραιους αριθμούς:\n",
        "       Επιστροφή True\n",
        "   Αλλιώς:\n",
        "       Επιστροφή False"
      ],
      "metadata": {
        "id": "RTTCSUwZJVTl"
      }
    },
    {
      "cell_type": "code",
      "source": [
        "import numpy as np\n",
        "\n",
        "def is_point_in_lattice(L, P):\n",
        "    \"\"\"\n",
        "    Checks if a point P is in a given lattice L.\n",
        "\n",
        "    :param L: numpy array (m x n) representing the lattice.\n",
        "    :param P: vector to be checked (m-dimensional).\n",
        "    :return: True if P is in L, False otherwise.\n",
        "    \"\"\"\n",
        "    print(\"Checks if a point P:\",P,\"is in a given lattice L:\")\n",
        "    print(L)\n",
        "    try:\n",
        "        # solve L(B)x = P\n",
        "        x = np.linalg.lstsq(L, P, rcond=None)[0]\n",
        "\n",
        "        # Check is solution x is int\n",
        "        if np.allclose(x, np.round(x)):\n",
        "            return True\n",
        "        else:\n",
        "            return False\n",
        "    except np.linalg.LinAlgError:\n",
        "        return False\n",
        "\n",
        "# Example\n",
        "L = np.array([[1, 0], [0, 2]])\n",
        "P = np.array([2, 3])\n",
        "\n",
        "result = is_point_in_lattice(L, P)\n",
        "print(f\"Result is: {result}\")\n",
        "print(\"-\" * 50)\n",
        "\n",
        "L = np.array([[1, 0], [0, 1]])\n",
        "P = np.array([2, 3])\n",
        "\n",
        "result = is_point_in_lattice(L, P)\n",
        "print(f\"Result is: {result}\")\n"
      ],
      "metadata": {
        "colab": {
          "base_uri": "https://localhost:8080/"
        },
        "id": "llcug2EzJFdF",
        "outputId": "9816aa4a-0351-44b6-a813-9a028b24fa44"
      },
      "execution_count": 6,
      "outputs": [
        {
          "output_type": "stream",
          "name": "stdout",
          "text": [
            "Checks if a point P: [2 3] is in a given lattice L:\n",
            "[[1 0]\n",
            " [0 2]]\n",
            "Result is: False\n",
            "--------------------------------------------------\n",
            "Checks if a point P: [2 3] is in a given lattice L:\n",
            "[[1 0]\n",
            " [0 1]]\n",
            "Result is: True\n"
          ]
        }
      ]
    },
    {
      "cell_type": "markdown",
      "source": [
        "## Πρόβλημα 2"
      ],
      "metadata": {
        "id": "sKRYs1_ML9JV"
      }
    },
    {
      "cell_type": "markdown",
      "source": [
        "Είσοδος: Πλέγματα L1 (πίνακας m x n1) και L2 (πίνακας m x n2).\n",
        "Έξοδος: Βάση της τομής L1 ∩ L2.\n",
        "\n",
        "1. Κατασκεύασε έναν νέο πίνακα L = [L1 | L2] (συνένωση των στηλών των L1 και L2).\n",
        "2. Υπολόγισε το μηδενοχώρο του L.\n",
        "4. Εξέτασε τους ακέραιους συνδυασμούς που ικανοποιούν και τις δύο βάσεις.\n",
        "5. Επιστροφή: Οι στήλες του πίνακα που αντιστοιχούν σε βάσεις της τομής."
      ],
      "metadata": {
        "id": "zkKEGv5rMBpL"
      }
    },
    {
      "cell_type": "code",
      "source": [
        "import numpy as np\n",
        "from scipy.linalg import null_space\n",
        "\n",
        "def lattice_intersection(L1, L2):\n",
        "    \"\"\"\n",
        "    Computes the basis for the intersection of lattices L1 and L2.\n",
        "\n",
        "    :param L1: numpy array (m x n1) representing the first lattice.\n",
        "    :param L2: numpy array (m x n2) representing the second lattice.\n",
        "    :return: numpy array (m x n) representing the basis for the intersection.\n",
        "    \"\"\"\n",
        "    # Create [L1 | L2]\n",
        "    L = np.hstack((L1, -L2))\n",
        "\n",
        "    # Compute null space of L\n",
        "    N = null_space(L)\n",
        "\n",
        "    # Round for integers\n",
        "    N = np.round(N).astype(int)\n",
        "\n",
        "    # Compute intersection\n",
        "    intersection_basis = np.dot(L1, N[:L1.shape[1], :])\n",
        "\n",
        "    return intersection_basis\n",
        "\n",
        "\n",
        "# Example\n",
        "L1 = np.array([[1, 0], [0, 1]])\n",
        "L2 = np.array([[2, 0], [0, 2]])\n",
        "\n",
        "intersection = lattice_intersection(L1, L2)\n",
        "print(\"A basis for the intersection L1 ∩ L2:\")\n",
        "print(intersection)"
      ],
      "metadata": {
        "colab": {
          "base_uri": "https://localhost:8080/"
        },
        "id": "S0HKALz8NKzk",
        "outputId": "33c31969-8c87-4975-c59b-7779892bbd64"
      },
      "execution_count": 7,
      "outputs": [
        {
          "output_type": "stream",
          "name": "stdout",
          "text": [
            "A basis for the intersection L1 ∩ L2:\n",
            "[[1 0]\n",
            " [0 1]]\n"
          ]
        }
      ]
    },
    {
      "cell_type": "markdown",
      "source": [
        "## Πρόβλημα 3"
      ],
      "metadata": {
        "id": "vrumMEZDitvp"
      }
    },
    {
      "cell_type": "markdown",
      "source": [
        "Input: a ∈ Z^m\n",
        "Output: A basis of the lattice L\n",
        "\n",
        "1. Let v=(v1,...,vn).\n",
        "2. If n=2, then your basis is just (v2,−v1)\n",
        "3. If n>2: Set the first vector of your basis to be b1=(−vn∗a1,−vn∗a2,...,−vn∗an−1,gcd(v1,...vn−1)), where the ai come from Bézout's Identity\n",
        "4. Then complete your basis using the same algorithm with v=(v1,...vn−1)."
      ],
      "metadata": {
        "id": "BDnA_WH8ixIz"
      }
    },
    {
      "cell_type": "code",
      "source": [
        "from math import gcd\n",
        "from functools import reduce\n",
        "import numpy as np\n",
        "\n",
        "def extended_euclidean(a, b):\n",
        "    \"\"\"Perform the Extended Euclidean Algorithm from geeksforgeeks\"\"\"\n",
        "    # Base Case\n",
        "    if a == 0 :\n",
        "        return b,0,1\n",
        "\n",
        "    gcd,x1,y1 = extended_euclidean(b%a, a)\n",
        "\n",
        "    # Update x and y using results of recursive call\n",
        "    x = y1 - (b//a) * x1\n",
        "    y = x1\n",
        "\n",
        "    return gcd,x,y\n",
        "\n",
        "def bezout_coefficients(numbers):\n",
        "    \"\"\"\n",
        "    Calculates Bézout coefficients for a list of integers.\n",
        "    :param numbers: A list of integers.\n",
        "    :return: A tuple containing the Bézout coefficients and the greatest common divisor.\n",
        "    ~ used chatgpt\n",
        "    \"\"\"\n",
        "    if len(numbers) < 2:\n",
        "        raise ValueError(\"At least two integers are required.\")\n",
        "\n",
        "    # Pairwise computation of gcd and coefficients\n",
        "    gcd_, x, y = extended_euclidean(numbers[0], numbers[1])\n",
        "    coefficients = [x, y]\n",
        "\n",
        "    for i in range(2, len(numbers)):\n",
        "        gcd_, x, y = extended_euclidean(gcd_, numbers[i])\n",
        "        coefficients = [coeff * x for coeff in coefficients] + [y]\n",
        "\n",
        "    return coefficients, gcd_\n",
        "\n",
        "\n",
        "def basis_verification(v,basis):\n",
        "  \"\"\"\n",
        "  Verifies that v*basis=0\n",
        "  The product of each row of the basis with given vector v must equal to zero\n",
        "  \"\"\"\n",
        "  sum = 0\n",
        "  for basis_vector in basis:\n",
        "    sum +=np.dot(v, basis_vector)\n",
        "  if(sum==0):\n",
        "    return True\n",
        "  else:\n",
        "    return False\n",
        "\n",
        "\n",
        "def lattice_basis(v):\n",
        "  \"\"\"Compute a basis of the lattice orthogonal to v.\n",
        "  :param v: A list or numpy array representing the vector.\n",
        "  :return: A numpry array of basis vectors for L = {x ∈ Z: v · x = 0}\n",
        "  \"\"\"\n",
        "  v = np.array(v, dtype=int)\n",
        "  basis = []\n",
        "  n = 2\n",
        "  while n<=len(v):\n",
        "    v_temp = v[:n].copy()\n",
        "    g = reduce(gcd, v_temp)\n",
        "    if g != 1:\n",
        "      v_temp //= g\n",
        "\n",
        "    if n==2:\n",
        "      # If n=2, then your basis is just (v2,−v1)\n",
        "      basis_vector = np.array([v_temp[1], -v_temp[0]])\n",
        "\n",
        "    else:\n",
        "      # for n>2 basis_vec=(−vn∗a1,−vn∗a2,...,−vn∗an−1,gcd(v1,...vn−1))\n",
        "      bezout_coeffs, g_last = bezout_coefficients(v_temp[:-1])\n",
        "      basis_vector = [-v_temp[-1] * coeff for coeff in bezout_coeffs] + [g_last]\n",
        "      basis_vector = np.array(basis_vector)\n",
        "\n",
        "\n",
        "    # Add padding to the vector\n",
        "    padding_length = len(v) - n\n",
        "    if padding_length > 0:\n",
        "      padding = np.zeros(padding_length, dtype=int)\n",
        "      basis_vector = np.concatenate((basis_vector, padding))\n",
        "\n",
        "    basis.append(basis_vector)\n",
        "    n+=1\n",
        "\n",
        "  basis = np.array(basis)\n",
        "  return basis\n",
        "\n",
        "# Example usage\n",
        "v = [125, -75, 45, -27]\n",
        "print(\"Input vector:\",v)\n",
        "\n",
        "# Compute the basis\n",
        "basis = lattice_basis(v)\n",
        "print(\"Basis L:\")\n",
        "print(basis)\n",
        "\n",
        "# Verify the basis\n",
        "print(\"Verification:\", basis_verification(v,basis))\n"
      ],
      "metadata": {
        "colab": {
          "base_uri": "https://localhost:8080/"
        },
        "id": "tgE1Eq0_iIFk",
        "outputId": "ecd96976-5c06-44ef-d075-3f4dbc71c705"
      },
      "execution_count": 11,
      "outputs": [
        {
          "output_type": "stream",
          "name": "stdout",
          "text": [
            "Input vector: [125, -75, 45, -27]\n",
            "Basis L:\n",
            "[[  -3   -5    0    0]\n",
            " [   9   18    5    0]\n",
            " [ -54 -108  -27    5]]\n",
            "Verification: True\n"
          ]
        }
      ]
    },
    {
      "cell_type": "markdown",
      "source": [
        "# Θέμα 8"
      ],
      "metadata": {
        "id": "niNNsVcm5WG5"
      }
    },
    {
      "cell_type": "markdown",
      "source": [
        "## Βρες αν το διάνυσμα (43, 69, 95, 110) ανήκει στο πλέγμα"
      ],
      "metadata": {
        "id": "5ZboC4M6IlB8"
      }
    },
    {
      "cell_type": "code",
      "execution_count": 37,
      "metadata": {
        "colab": {
          "base_uri": "https://localhost:8080/"
        },
        "id": "umuyAC7g5Qvq",
        "outputId": "aa8a8714-b667-44fb-eb26-35cae8678c6c"
      },
      "outputs": [
        {
          "output_type": "stream",
          "name": "stdout",
          "text": [
            "Συντελεστές για τις γραμμές του πίνακα A: [14. 11. 10. 11.]\n",
            "Υπόλοιπα για A: []\n",
            "\n",
            "Συντελεστές για τις γραμμές του πίνακα B: [ 3.00000000e+00  9.00000000e+00 -1.00000000e+00 -4.17443857e-14]\n",
            "Υπόλοιπα για B: []\n"
          ]
        }
      ],
      "source": [
        "import numpy as np\n",
        "\n",
        "# Ορισμός των πινάκων A και του διανύσματος v\n",
        "A = np.array([[1, 2, 3, 4],\n",
        "              [-1, 1, 2, 3],\n",
        "              [4, 3, 2, 1],\n",
        "              [0, 0, 1, 1]])\n",
        "\n",
        "B = np.array([[5, 8, 11, 13],\n",
        "              [4, 6, 8, 9],\n",
        "              [8, 9, 10, 10],\n",
        "              [4, 6, 9, 10]])\n",
        "\n",
        "v = np.array([43, 69, 95, 110])\n",
        "\n",
        "# Λύση για το σύστημα εξισώσεων A * x = v (γραμμικός συνδυασμός των γραμμών του A)\n",
        "coefficients_A, resids, rank, s = np.linalg.lstsq(A.T, v, rcond=None)\n",
        "\n",
        "# Έλεγχος αν το διάνυσμα ανήκει στο πλέγμα του A (αν τα υπόλοιπα είναι πολύ μικρά)\n",
        "print(\"Συντελεστές για τις γραμμές του πίνακα A:\", coefficients_A)\n",
        "print(\"Υπόλοιπα για A:\", resids)\n",
        "\n",
        "# Λύση για το σύστημα εξισώσεων B * x = v (γραμμικός συνδυασμός των γραμμών του B)\n",
        "coefficients_B, resids_b, rank_b, s_b = np.linalg.lstsq(B.T, v, rcond=None)\n",
        "\n",
        "# Έλεγχος αν το διάνυσμα ανήκει στο πλέγμα του B (αν τα υπόλοιπα είναι πολύ μικρά)\n",
        "print(\"\\nΣυντελεστές για τις γραμμές του πίνακα B:\", coefficients_B)\n",
        "print(\"Υπόλοιπα για B:\", resids_b)\n"
      ]
    },
    {
      "cell_type": "markdown",
      "source": [
        "## Βρες ορίζουσα πίνακα Α"
      ],
      "metadata": {
        "id": "OJvP9UX4I5Mj"
      }
    },
    {
      "cell_type": "code",
      "source": [
        "import numpy as np\n",
        "\n",
        "# Ορισμός του πίνακα A (ή B)\n",
        "A = np.array([[1, 2, 3, 4],\n",
        "              [-1, 1, 2, 3],\n",
        "              [4, 3, 2, 1],\n",
        "              [0, 0, 1, 1]])\n",
        "\n",
        "# Υπολογισμός του όγκου του πλέγματος (ορίζουσα του πίνακα A)\n",
        "volume_A = np.abs(np.linalg.det(A))\n",
        "\n",
        "print(\"Ο όγκος του πλέγματος που παράγεται από τις γραμμές του πίνακα A είναι:\", volume_A)"
      ],
      "metadata": {
        "colab": {
          "base_uri": "https://localhost:8080/"
        },
        "id": "2Mqh1ET09eNl",
        "outputId": "e10c3e44-9201-4500-f4f9-928515af8ef3"
      },
      "execution_count": 38,
      "outputs": [
        {
          "output_type": "stream",
          "name": "stdout",
          "text": [
            "Ο όγκος του πλέγματος που παράγεται από τις γραμμές του πίνακα A είναι: 5.000000000000001\n"
          ]
        }
      ]
    },
    {
      "cell_type": "markdown",
      "source": [
        "## Σημεία πλέγματος μέσα σε κύκλο και τετράγωνο"
      ],
      "metadata": {
        "id": "jUTAaGIeI-PL"
      }
    },
    {
      "cell_type": "code",
      "source": [
        "import numpy as np\n",
        "\n",
        "# Ορισμός του πίνακα A\n",
        "A = np.array([[1, 2, 3, 4],\n",
        "              [-1, 1, 2, 3],\n",
        "              [4, 3, 2, 1],\n",
        "              [0, 0, 1, 1]])\n",
        "\n",
        "B = np.array([[5, 8, 11, 13],\n",
        "              [4, 6, 8, 9],\n",
        "              [8, 9, 10, 10],\n",
        "              [4, 6, 9, 10]])\n",
        "\n",
        "\n",
        "# Συνάρτηση για να ελέγξουμε αν ένα διάνυσμα ανήκει στο πλέγμα\n",
        "def is_in_lattice(vector, matrix):\n",
        "    try:\n",
        "        # Λύνουμε το σύστημα A * c = vector\n",
        "        coefficients, resids, rank, s = np.linalg.lstsq(matrix.T, vector, rcond=None)\n",
        "        # Ελέγχουμε αν τα υπόλοιπα (resids) είναι κοντά στο μηδέν\n",
        "        if not np.allclose(np.dot(matrix.T, coefficients), vector):\n",
        "            return False\n",
        "\n",
        "        # Ελέγχουμε αν όλοι οι συντελεστές είναι ακέραιοι\n",
        "        return np.allclose(coefficients, np.round(coefficients))\n",
        "    except:\n",
        "        return False\n",
        "\n",
        "# Συνάρτηση για να υπολογίσουμε τα σημεία εντός του κύκλου\n",
        "def points_in_circle(radius, matrix):\n",
        "    count = 0\n",
        "    for x in range(-radius, radius + 1):\n",
        "        for y in range(-radius, radius + 1):\n",
        "            if x**2 + y**2 < radius**2:  # Εντός του κύκλου\n",
        "                vector = np.array([x, y, 0, 0])  # Μορφή (x, y, 0, 0)\n",
        "                if is_in_lattice(vector, matrix):\n",
        "                    count += 1\n",
        "    return count\n",
        "\n",
        "# Συνάρτηση για να υπολογίσουμε τα σημεία εντός του τετραγώνου\n",
        "def points_in_square(side_length, matrix):\n",
        "    count = 0\n",
        "    half_side = side_length // 2\n",
        "    for x in range(-half_side, half_side + 1):\n",
        "        for y in range(-half_side, half_side + 1):\n",
        "          if abs(x + y) + abs(x - y) < side_length:\n",
        "            vector = np.array([x, y, 0, 0])  # Μορφή (x, y, 0, 0)\n",
        "            if is_in_lattice(vector, matrix):\n",
        "                count += 1\n",
        "    return count\n",
        "\n",
        "# Ρυθμίσεις\n",
        "radius = 10  # Ακτίνα του κύκλου\n",
        "side_length = 10  # Πλευρά του τετραγώνου\n",
        "\n",
        "# Υπολογισμός\n",
        "points_circle = points_in_circle(radius, B)\n",
        "points_square = points_in_square(side_length, B)\n",
        "\n",
        "print(f\"Σημεία του πλέγματος μέσα στον κύκλο με ακτίνα 10: {points_circle}\")\n",
        "print(f\"Σημεία του πλέγματος μέσα στο τετράγωνο με πλευρά 10: {points_square}\")\n"
      ],
      "metadata": {
        "colab": {
          "base_uri": "https://localhost:8080/"
        },
        "id": "PaD9Yu974Pb3",
        "outputId": "1d24e037-e995-4542-e304-74266aea5502"
      },
      "execution_count": 39,
      "outputs": [
        {
          "output_type": "stream",
          "name": "stdout",
          "text": [
            "Σημεία του πλέγματος μέσα στον κύκλο με ακτίνα 10: 61\n",
            "Σημεία του πλέγματος μέσα στο τετράγωνο με πλευρά 10: 17\n"
          ]
        }
      ]
    },
    {
      "cell_type": "markdown",
      "source": [
        "# Θέμα 3"
      ],
      "metadata": {
        "id": "GHBYy0kxOZLh"
      }
    },
    {
      "cell_type": "code",
      "source": [
        "###########################################################\n",
        "#                                                         #\n",
        "#                                                         #\n",
        "#                 AUXILIARY FUNCTIONS                     #\n",
        "#                         V1                              #\n",
        "#                                                         #\n",
        "#                                                         #\n",
        "###########################################################\n",
        "import numpy as np\n",
        "\n",
        "def are_linearly_independent(vec1, vec2):\n",
        "    \"\"\"\n",
        "    Checks if the 2 vectors are linearly independent.\n",
        "\n",
        "    :param vec1: first vector (list or numpy array)\n",
        "    :param vec2: second vector (list or numpy array)\n",
        "    :return: True if they are linearly independent, False otherwise\n",
        "    ~~ function created with chatgpt\n",
        "    \"\"\"\n",
        "    # Μετατροπή σε numpy arrays για ευκολία\n",
        "    vec1 = np.array(vec1)\n",
        "    vec2 = np.array(vec2)\n",
        "\n",
        "    # Έλεγχος αν τα διανύσματα έχουν ίδιο μέγεθος\n",
        "    if vec1.shape != vec2.shape:\n",
        "        raise ValueError(\"Τα διανύσματα πρέπει να έχουν το ίδιο μέγεθος.\")\n",
        "\n",
        "    # Δημιουργία πίνακα από τα δύο διανύσματα\n",
        "    matrix = np.column_stack((vec1, vec2))\n",
        "\n",
        "    # Υπολογισμός ορίζουσας\n",
        "    determinant = np.linalg.det(matrix)\n",
        "\n",
        "    # Τα διανύσματα είναι γραμμικώς ανεξάρτητα αν η ορίζουσα δεν είναι 0\n",
        "    return not np.isclose(determinant, 0)\n",
        "'''\n",
        "# Παράδειγμα χρήσης\n",
        "vec1 = [1, 1]\n",
        "vec2 = [3, 4]\n",
        "\n",
        "print(are_linearly_independent(vec1, vec2))\n",
        "'''\n",
        "\n",
        "def calc_norm_squared(vec):\n",
        "  \"\"\"Calculates the Euclidean norm of a vector squared up.\n",
        "  :param vec: A list or numpy array representing the vector.\n",
        "  :return: The Euclidean norm of the vector squared up.\n",
        "  \"\"\"\n",
        "  vector = np.array(vec)\n",
        "  return np.sum(vector**2)\n",
        "\n",
        "\n",
        "# prompt: create function to calculate the norm of a vector (gemini)\n",
        "def calc_norm(vec):\n",
        "  \"\"\"Calculates the Euclidean norm of a vector.\n",
        "  :param vec: A list or numpy array representing the vector.\n",
        "  :return: The Euclidean norm of the vector.\n",
        "  \"\"\"\n",
        "  vector = np.array(vec)\n",
        "  return np.linalg.norm(vector)\n",
        "\n",
        "def angle_between_vectors(vec1, vec2):\n",
        "    \"\"\" Calculates the angle between two vectors in Z^2.\n",
        "    :param v1: Το πρώτο διάνυσμα (λίστα ή numpy array)\n",
        "    :param v2: Το δεύτερο διάνυσμα (λίστα ή numpy array)\n",
        "    :return: Η γωνία σε μοίρες\n",
        "    \"\"\"\n",
        "    # Transform into numpy arrays\n",
        "    vec1 = np.array(vec1)\n",
        "    vec2 = np.array(vec2)\n",
        "\n",
        "    # Calculation of dot product\n",
        "    dot_product = np.dot(vec1, vec2)\n",
        "\n",
        "    # Calculation of norms of the two vectors\n",
        "    norm_v1 = np.linalg.norm(vec1)\n",
        "    norm_v2 = np.linalg.norm(vec2)\n",
        "\n",
        "    # Calculation of cos(θ)\n",
        "    cos_theta = dot_product / (norm_v1 * norm_v2)\n",
        "\n",
        "    # Check that cos(θ) in in [-1, 1] to avoid numeric errors\n",
        "    cos_theta = np.clip(cos_theta, -1, 1)\n",
        "\n",
        "    # Calculation in radians\n",
        "    theta_radians = np.arccos(cos_theta)\n",
        "\n",
        "    # Transformation in degrees\n",
        "    theta_degrees = np.degrees(theta_radians)\n",
        "\n",
        "    return theta_degrees\n",
        "'''\n",
        "# Example\n",
        "v1 = [1, 2]\n",
        "v2 = [3, 4]\n",
        "\n",
        "angle = angle_between_vectors(v1, v2)\n",
        "print(f\"Η γωνία μεταξύ των διανυσμάτων είναι: {angle:.2f} μοίρες\")\n",
        "'''\n",
        "\n",
        "# prompt: create function that generates a vector in Z^2 without limitations (Gemini)\n",
        "def generate_vector_z2():\n",
        "    \"\"\"Generates a random vector in Z^2.\"\"\"\n",
        "    x = np.random.randint(-100, 101)\n",
        "    y = np.random.randint(-100, 101)\n",
        "    return np.array([x, y])\n",
        "\n",
        "\n",
        "def create_vector_pairs():\n",
        "  \"\"\" Finds two random linear independent vectors in Z^2\n",
        "  :return: vec1, vec2\"\"\"\n",
        "\n",
        "  found = False\n",
        "  vec1 = generate_vector_z2()\n",
        "  while not found:\n",
        "    vec2 = generate_vector_z2()\n",
        "    if are_linearly_independent(vec1,vec2):\n",
        "      found = True\n",
        "\n",
        "  return vec1, vec2\n"
      ],
      "metadata": {
        "colab": {
          "base_uri": "https://localhost:8080/"
        },
        "id": "APPb6XhmOfcA",
        "outputId": "b357c312-2d44-4a47-8cb0-77daee3d1eaf"
      },
      "execution_count": 13,
      "outputs": [
        {
          "output_type": "stream",
          "name": "stdout",
          "text": [
            "True\n"
          ]
        }
      ]
    },
    {
      "cell_type": "markdown",
      "source": [
        "## Αλγόριθμος των Gauss-Lagrange"
      ],
      "metadata": {
        "id": "0DKZ_I7SRU35"
      }
    },
    {
      "cell_type": "code",
      "source": [
        "###########################################################\n",
        "#                                                         #\n",
        "#       MUST FIRST EXECUTE AUXILIARY FUNCTIONS-V1         #\n",
        "#                                                         #\n",
        "###########################################################\n",
        "import math\n",
        "\n",
        "def gauss_lagrange(vec1, vec2):\n",
        "  \"\"\"Outputs a Lagrange-Gauss reduced basis for the lattice L.\n",
        "    :param vec1: The first vector (NumPy array).\n",
        "    :param vec2: The second vector (NumPy array).\n",
        "    :return: Basis (b1, b2) for L such that ||b_i|| = λ_i\n",
        "    \"\"\"\n",
        "\n",
        "  b1 = calc_norm_squared(vec1)\n",
        "  m = np.dot(vec1, vec2)/b1\n",
        "  vec2 = vec2 - math.ceil(m-0.5)*vec1\n",
        "  b2 = calc_norm_squared(vec2)\n",
        "\n",
        "  while calc_norm(vec2) < calc_norm(vec1):\n",
        "      # swap vector\n",
        "      vec1, vec2 = vec2, vec1\n",
        "      b1 = b2\n",
        "      m = np.dot(vec1, vec2)/b1\n",
        "      vec2 = vec2 - math.ceil(m-0.5)*vec1\n",
        "      b2 = calc_norm_squared(vec2)\n",
        "\n",
        "  return vec1, vec2\n",
        "\n",
        "'''\n",
        "# Requesting the vectors as input\n",
        "while True:\n",
        "    try:\n",
        "        vec1_str = input(\"Enter the first vector (e.g., 1,2,3): \")\n",
        "        vec1 = np.array([int(x) for x in vec1_str.split(',')])\n",
        "        vec2_str = input(\"Enter the second vector (e.g., 4,5,6): \")\n",
        "        vec2 = np.array([int(x) for x in vec2_str.split(',')])\n",
        "\n",
        "        if not are_linearly_independent(vec1,vec2):\n",
        "            print(\"Vectors must have the same dimension. Please enter again.\")\n",
        "            continue\n",
        "\n",
        "        break\n",
        "    except ValueError:\n",
        "        print(\"Invalid input. Please enter numbers separated by commas.\")\n",
        "'''\n",
        "\n",
        "vec1 =np.array([1,1])\n",
        "vec2 =np.array([3,4])\n",
        "\n",
        "GL_vec1, GL_vec2 = gauss_lagrange(vec1, vec2)\n",
        "print(\"Gauss-Lagrange b1 =\",GL_vec1)\n",
        "print(\"Gauss-Lagrange b2 =\",GL_vec2)\n",
        "\n",
        "l1 = calc_norm(GL_vec1)\n",
        "print(\"l1 =\",l1)\n",
        "print(\"-\" * 50)\n",
        "\n",
        "vec1 =np.array([-1,1])\n",
        "vec2 =np.array([300,400])\n",
        "\n",
        "GL_vec1, GL_vec2 = gauss_lagrange(vec1, vec2)\n",
        "print(\"Gauss-Lagrange b1 =\",GL_vec1)\n",
        "print(\"Gauss-Lagrange b2 =\",GL_vec2)\n",
        "\n",
        "l1 = calc_norm(GL_vec1)\n",
        "print(\"l1 =\",l1)\n",
        "\n"
      ],
      "metadata": {
        "colab": {
          "base_uri": "https://localhost:8080/"
        },
        "id": "nyMug9OBRbAT",
        "outputId": "5e8bead0-8455-49cc-c268-016ae0e8b107"
      },
      "execution_count": 25,
      "outputs": [
        {
          "output_type": "stream",
          "name": "stdout",
          "text": [
            "Gauss-Lagrange b1 = [0 1]\n",
            "Gauss-Lagrange b2 = [1 0]\n",
            "l1 = 1.0\n",
            "--------------------------------------------------\n",
            "Gauss-Lagrange b1 = [-1  1]\n",
            "Gauss-Lagrange b2 = [350 350]\n",
            "l1 = 1.4142135623730951\n"
          ]
        }
      ]
    },
    {
      "cell_type": "markdown",
      "source": [
        "## Gauss-Lagrange Experiment"
      ],
      "metadata": {
        "id": "aiIJgV1j10jM"
      }
    },
    {
      "cell_type": "markdown",
      "source": [
        "Must first execute ***AUXILIARY FUNCTIONS-V1*** and ***gauss_lagrange*** algorithm"
      ],
      "metadata": {
        "id": "v-OVS8bD164E"
      }
    },
    {
      "cell_type": "code",
      "source": [
        "angle_list = []\n",
        "\n",
        "for i in range(50):\n",
        "  # find two linearly independent vectors in Z^2\n",
        "  vec1, vec2 = create_vector_pairs()\n",
        "  # calculate the Gauss-Lagrange vectors\n",
        "  GL_vec1, GL_vec2 = gauss_lagrange(vec1, vec2)\n",
        "\n",
        "  # Calulate the angle between the two vectors\n",
        "  angle = angle_between_vectors(GL_vec1, GL_vec2)\n",
        "  angle_list.append(angle)\n",
        "\n",
        "\n",
        "angle_array = np.array(angle_list)\n",
        "print(\"50 executions of Gauss-Lagrange:\")\n",
        "print(angle_array)\n",
        "print(\"Average angle found:\",angle_array.mean())\n",
        "\n"
      ],
      "metadata": {
        "colab": {
          "base_uri": "https://localhost:8080/"
        },
        "id": "dqIpFsYnyZzT",
        "outputId": "a5f4ab21-b51d-4f55-a66c-af2aabb468bb"
      },
      "execution_count": 26,
      "outputs": [
        {
          "output_type": "stream",
          "name": "stdout",
          "text": [
            "50 executions of Gauss-Lagrange:\n",
            "[ 84.85176962 101.09372301  93.27645023  82.65534591  81.16151833\n",
            "  98.00318599 106.26020471  85.66311904  72.83887832  97.14342759\n",
            "  88.34542381 100.87166985  92.6025622  110.13902312  95.50547786\n",
            " 102.43221532  93.00350583 108.24915623  92.40260947  80.68052157\n",
            "  87.35745471  91.03535319  70.43932855  81.96834391 104.03624347\n",
            " 101.23813329  92.55939246 108.31120003 105.88069671 111.27232848\n",
            "  93.00191131 104.11444512 106.96271784  85.62162672  90.80920861\n",
            "  73.02359014  88.50566641  78.594495    68.3566222   74.04258359\n",
            "  81.81977012  98.64189871  89.85194922  90.86805145  72.95687429\n",
            "  67.74135749  80.01139465 114.24048394  84.29934197  98.09589964]\n",
            "Average angle found: 91.25676302447029\n"
          ]
        }
      ]
    },
    {
      "cell_type": "markdown",
      "source": [
        "# Θέμα 4"
      ],
      "metadata": {
        "id": "_sSSNYk1rZ8p"
      }
    },
    {
      "cell_type": "markdown",
      "source": [
        "## Αλγόριθμος Gram-Schmidt"
      ],
      "metadata": {
        "id": "fl7cux4hyqjd"
      }
    },
    {
      "cell_type": "code",
      "source": [
        "import numpy as np\n",
        "\n",
        "def gram_schmidt(basis):\n",
        "    \"\"\"\n",
        "    Gram-Schmidt Algorithm to create an orthogonal basis.\n",
        "    :param basis: a list of vecotrs (NumPy arrays) which create the basis B.\n",
        "    :return orthogonal_basis: list of orthogonal vectors\n",
        "    :return mu: Gram-Schmidt matrix (numpy array) with μ_ij cofacotrs\n",
        "\n",
        "    ~ used chatgpt as a reference based on Alrgorithm 24 from Chapter 17\n",
        "    Lattice Basis Reduction  of the book “Mathematics of Public Key Cryptography” by Steven Galbraithv\n",
        "    \"\"\"\n",
        "    n = len(basis)\n",
        "    # Initialize the orthogonal basis and the Gram-Schmidt matrix\n",
        "    b_star = np.zeros_like(basis, dtype=float)\n",
        "    mu = np.zeros((n, n), dtype=float)\n",
        "\n",
        "    for i in range(n):\n",
        "        b_star[i] = basis[i]\n",
        "        for j in range(i):\n",
        "          # Check for small norms to avoid division by zero added with chatgpt after debugging\n",
        "          norm_b_star_j = np.dot(b_star[j], b_star[j])\n",
        "          if np.abs(norm_b_star_j) < 1e-10:\n",
        "            raise ValueError(f\"Basis vector {j} is too small or degenerate.\")\n",
        "          mu[i, j] = np.dot(basis[i], b_star[j]) / np.dot(b_star[j], b_star[j])\n",
        "          b_star[i] -= mu[i, j] * b_star[j]\n",
        "\n",
        "    return b_star, mu\n",
        "\n",
        "# Παράδειγμα χρήσης\n",
        "basis = [\n",
        "    np.array([1.0, 1.0]),\n",
        "    np.array([1.0, 0.0])\n",
        "]\n",
        "\n",
        "orthogonal_basis, mu = gram_schmidt(basis)\n",
        "\n",
        "# Εκτύπωση αποτελεσμάτων\n",
        "print(\"Ορθογώνια βάση:\")\n",
        "for vec in orthogonal_basis:\n",
        "    print(vec)\n",
        "\n",
        "print(\"\\nGram-Schmidt πίνακας (μ):\")\n",
        "print(mu)\n"
      ],
      "metadata": {
        "colab": {
          "base_uri": "https://localhost:8080/"
        },
        "id": "ylfNhYCobLhU",
        "outputId": "ff3fcfcd-5d34-4655-a35a-ebdb0bdba90b"
      },
      "execution_count": 27,
      "outputs": [
        {
          "output_type": "stream",
          "name": "stdout",
          "text": [
            "Ορθογώνια βάση:\n",
            "[1. 1.]\n",
            "[ 0.5 -0.5]\n",
            "\n",
            "Gram-Schmidt πίνακας (μ):\n",
            "[[0.  0. ]\n",
            " [0.5 0. ]]\n"
          ]
        }
      ]
    },
    {
      "cell_type": "markdown",
      "source": [
        "## Αλγόριθμος LLL"
      ],
      "metadata": {
        "id": "kwGY7cRV-Rgg"
      }
    },
    {
      "cell_type": "code",
      "source": [
        "###########################################################\n",
        "#                                                         #\n",
        "#       MUST FIRST EXECUTE gram_schmidt()                 #\n",
        "#                                                         #\n",
        "###########################################################\n",
        "import math\n",
        "import numpy as np\n",
        "\n",
        "def lll_algorithm(basis, delta):\n",
        "  \"\"\"\n",
        "    LLL algorithm with Euclidean norm\n",
        "    :param orthogonal_basis: a list of vecotrs (NumPy arrays) which the basis B.\n",
        "    :param delta: typically choose δ = 3/4\n",
        "    :return basis: LLL reduced basis b1, . . . , bn (numpy array)\n",
        "  \"\"\"\n",
        "  n = len(basis)\n",
        "  orthogonal_basis, mu = gram_schmidt(basis)\n",
        "  # Compute Bi = <{b_i}*,{b_i}*> = ||{b_i}*||^2\n",
        "  B = np.array([np.dot(orthogonal_basis[i], orthogonal_basis[i]) for i in range(n)])\n",
        "\n",
        "  k=1\n",
        "  while k < n:\n",
        "    # Perform size reduction\n",
        "    for j in range(k - 1, -1, -1):\n",
        "      q = round(mu[k, j])\n",
        "      basis[k] -= q * basis[j]\n",
        "      orthogonal_basis, mu = gram_schmidt(basis)\n",
        "      #B = np.array([np.dot(orthogonal_basis[i], orthogonal_basis[i]) for i in range(n)])\n",
        "\n",
        "    # Check Lov´asz condition\n",
        "    if B[k] < (delta-mu[k,k-1]**2)*B[k-1]:\n",
        "        # Swap basis[k] and basis[k-1]\n",
        "        basis[k], basis[k-1] = basis[k-1], basis[k].copy()\n",
        "        orthogonal_basis, mu = gram_schmidt(basis)\n",
        "        B = np.array([np.dot(orthogonal_basis[i], orthogonal_basis[i]) for i in range(n)])\n",
        "        k = max(1, k - 1)\n",
        "    else:\n",
        "      k+=1\n",
        "  return basis\n",
        "\n",
        "\n",
        "delta = 0.99\n",
        "basis = np.array([[10,1], [1, 9]])\n",
        "lll_reduced_basis = lll_algorithm(basis.copy(),delta)\n",
        "print(\"LLL Reduced Basis:\")\n",
        "print(lll_reduced_basis)"
      ],
      "metadata": {
        "colab": {
          "base_uri": "https://localhost:8080/"
        },
        "id": "l7pRMhGI-QfB",
        "outputId": "f4fe1897-f5c8-42d5-88a6-72d7daa690b6"
      },
      "execution_count": 28,
      "outputs": [
        {
          "output_type": "stream",
          "name": "stdout",
          "text": [
            "LLL Reduced Basis:\n",
            "[[ 1  9]\n",
            " [10  1]]\n"
          ]
        }
      ]
    },
    {
      "cell_type": "code",
      "source": [
        "# Examples\n",
        "delta = 0.99\n",
        "basis = np.array([[1, 1, 1], [1, 0, 2], [0, 1, 1]])\n",
        "lll_reduced_basis = lll_algorithm(basis.copy(),delta)\n",
        "print(\"LLL Reduced Basis:\")\n",
        "print(lll_reduced_basis)\n",
        "\n",
        "basis = np.array([[10,1], [1, 9]])\n",
        "lll_reduced_basis = lll_algorithm(basis.copy(),delta)\n",
        "print(\"LLL Reduced Basis:\")\n",
        "print(lll_reduced_basis)\n",
        "\n",
        "basis = np.array([[1, -1, 3], [1, 0, 5], [1, 2, 6]])\n",
        "lll_reduced_basis = lll_algorithm(basis.copy(),delta)\n",
        "print(\"LLL Reduced Basis:\")\n",
        "print(lll_reduced_basis)\n",
        "\n",
        "basis = np.array([[-36,32], [-32, -27]])\n",
        "lll_reduced_basis = lll_algorithm(basis.copy(),delta)\n",
        "print(\"LLL Reduced Basis:\")\n",
        "print(lll_reduced_basis)\n",
        "\n",
        "basis = np.array([[-1, -1, -2, -4, -1], [-2, -2, 4, -4, 2], [4, 2, -1, 1, 4], [1, -1, 1, -1, -1],[-1, 1, -1, 1, -30]])\n",
        "lll_reduced_basis = lll_algorithm(basis.copy(),delta)\n",
        "print(\"LLL Reduced Basis:\")\n",
        "print(lll_reduced_basis)\n",
        "\n",
        "basis = np.array([[42, -36, -5], [-13, 9, 30]])\n",
        "lll_reduced_basis = lll_algorithm(basis.copy(),delta)\n",
        "print(\"LLL Reduced Basis:\")\n",
        "print(lll_reduced_basis)"
      ],
      "metadata": {
        "colab": {
          "base_uri": "https://localhost:8080/"
        },
        "id": "vh_Ao3EjUc3w",
        "outputId": "927093c4-4b89-40a6-d6bf-68a11cb0a2e0"
      },
      "execution_count": 29,
      "outputs": [
        {
          "output_type": "stream",
          "name": "stdout",
          "text": [
            "LLL Reduced Basis:\n",
            "[[-1  0  0]\n",
            " [ 0 -1  1]\n",
            " [ 0  1  1]]\n",
            "LLL Reduced Basis:\n",
            "[[ 1  9]\n",
            " [10  1]]\n",
            "LLL Reduced Basis:\n",
            "[[ 1 -1  0]\n",
            " [-1  0  1]\n",
            " [ 1  1  1]]\n",
            "LLL Reduced Basis:\n",
            "[[-32 -27]\n",
            " [-36  32]]\n",
            "LLL Reduced Basis:\n",
            "[[ 1 -1  1 -1 -1]\n",
            " [-2  0 -3 -3  0]\n",
            " [ 5  1  0  0  3]\n",
            " [-3 -1  3 -3  3]\n",
            " [-1  7  2 -2 -6]]\n",
            "LLL Reduced Basis:\n",
            "[[-13   9  30]\n",
            " [ 29 -27  25]]\n"
          ]
        }
      ]
    },
    {
      "cell_type": "markdown",
      "source": [
        "## Πρώτο διάνυσμα που δίνει ο LLL έχει μεγαλύτερο μήκος από το δεύτερο διάνυσμα"
      ],
      "metadata": {
        "id": "xOUAStZoKhUS"
      }
    },
    {
      "cell_type": "code",
      "source": [
        "###########################################################\n",
        "#                                                         #\n",
        "#       MUST FIRST EXECUTE AUXILIARY FUNCTIONS-V1         #\n",
        "#                 and  lll_algorithm                      #\n",
        "###########################################################\n",
        "def generate_random_lattice(dim, max_val=10000):\n",
        "    \"\"\"\n",
        "    Generates a random basis for an dim-dimensional lattice.\n",
        "    :parm dim: dimention of the lattice.\n",
        "    :parm max_val (int): The maximum absolute value of the elements in the basis matrix.\n",
        "    :returns a numpy array representing the lattice basis.\n",
        "    ~ created with chatgpt\n",
        "    \"\"\"\n",
        "    while True:\n",
        "      # Generate a random n x n matrix with integers\n",
        "      basis = np.random.randint(-max_val, max_val + 1, size=(dim, dim))\n",
        "\n",
        "      # Check if the rows are linearly independent (determinant is non-zero)\n",
        "      if np.linalg.det(basis) != 0:\n",
        "        return basis\n",
        "\n",
        "def check_lll_norm_condition(max_iterations=100):\n",
        "  \"\"\"\n",
        "  Checks random lattices (up to max_iterations) until it finds one where the\n",
        "  norm of the first vector of the LLL-reduced lattice is greater than the second.\n",
        "  :parm max_iterations: The maximum number of iterations to perform.\n",
        "  :returns a tuple containing the original base, the LLL-reduced basis and the norms if the condition is met,\n",
        "    None otherwise.\n",
        "\n",
        "  ~ used Gemini as reference for naming\n",
        "  \"\"\"\n",
        "\n",
        "  for _ in range(max_iterations):\n",
        "    basis = generate_random_lattice(4)\n",
        "\n",
        "    # Apply the LLL algorithm\n",
        "    lll_basis = lll_algorithm(basis.copy(), delta=0.75)\n",
        "\n",
        "    # Check the condition\n",
        "    norm_first = calc_norm(lll_basis[0])\n",
        "    norm_second = calc_norm(lll_basis[1])\n",
        "\n",
        "    if norm_first > norm_second:\n",
        "        return  basis, lll_basis, (norm_first, norm_second)\n",
        "\n",
        "  return None\n",
        "\n",
        "\n",
        "result = check_lll_norm_condition()\n",
        "\n",
        "if result:\n",
        "    basis, lll_basis, norms = result\n",
        "    print(\"Original basis found satisfying the condition:\")\n",
        "    print(basis)\n",
        "    print(\"LLL-reduced basis found satisfying the condition:\")\n",
        "    print(lll_basis)\n",
        "    print(\"Norms:\", norms)\n",
        "else:\n",
        "    print(\"No LLL-reduced basis found satisfying the condition within the given iterations.\")"
      ],
      "metadata": {
        "colab": {
          "base_uri": "https://localhost:8080/"
        },
        "id": "LkJ3ZIQyKuIo",
        "outputId": "3de32b76-202b-4d08-e0b0-eeb77943805e"
      },
      "execution_count": 30,
      "outputs": [
        {
          "output_type": "stream",
          "name": "stdout",
          "text": [
            "Original basis found satisfying the condition:\n",
            "[[-5576 -9677 -4263  4281]\n",
            " [-9604 -7497 -3527 -9617]\n",
            " [ 9709 -4638 -2658  1833]\n",
            " [-1044  7527 -6695 -9673]]\n",
            "LLL-reduced basis found satisfying the condition:\n",
            "[[-5576 -9677 -4263  4281]\n",
            " [ 9709 -4638 -2658  1833]\n",
            " [ 2984  5347 -7431  4225]\n",
            " [-1044  7527 -6695 -9673]]\n",
            "Norms: (12697.883091287304, 11233.90306171457)\n"
          ]
        }
      ]
    },
    {
      "cell_type": "markdown",
      "source": [
        "## Τυχαία εκτέλεση LLL και Gauss-Lagrange σε πλέγματα βαθμίδας 2"
      ],
      "metadata": {
        "id": "olfC5m2KQKZH"
      }
    },
    {
      "cell_type": "code",
      "source": [
        "###########################################################\n",
        "#                                                         #\n",
        "#       MUST FIRST EXECUTE AUXILIARY FUNCTIONS-V1,        #\n",
        "#           lll_algorithm and gauss_lagrange              #\n",
        "###########################################################\n",
        "def random_executions(iterations):\n",
        "  \"\"\"\n",
        "  Checks <iterations> random lattices\n",
        "  :parm iterations: The number of iterations to perform.\n",
        "  \"\"\"\n",
        "  counter = 0\n",
        "  for _ in range(iterations):\n",
        "    # Generate two random linearly independent vectors in Z^2\n",
        "    vec1, vec2 = create_vector_pairs()\n",
        "    basis = np.array([vec1, vec2])\n",
        "\n",
        "    # Apply the LLL algorithm\n",
        "    lll_basis = lll_algorithm(basis.copy(), delta=0.75)\n",
        "\n",
        "    # Apply the Gauss-Lagrance algorithm\n",
        "    GL_vec1, GL_vec2 = gauss_lagrange(vec1, vec2)\n",
        "    gauss_basis = np.array([GL_vec1, GL_vec2])\n",
        "\n",
        "    \"\"\"\n",
        "    print(\"Original basis:\")\n",
        "    print(basis)\n",
        "    print(\"LLL-reduced basis:\")\n",
        "    print(lll_basis)\n",
        "    print(\"Gauss-Lagrange-reduced basis:\")\n",
        "    print(gauss_basis)\n",
        "    \"\"\"\n",
        "    if  np.array_equal(lll_basis, gauss_basis):\n",
        "      #print(\"The reduced bases are the same\")\n",
        "      counter += 1\n",
        "    #else:\n",
        "      #print(\"The reduced bases are NOT the same\")\n",
        "    #print(\"----------------------------------------\")\n",
        "  print(counter, \"out of \",iterations, \"exapmles were the same\")\n",
        "\n",
        "  return None\n",
        "\n",
        "\n",
        "run = random_executions(100)"
      ],
      "metadata": {
        "colab": {
          "base_uri": "https://localhost:8080/"
        },
        "id": "qqrg_EMHQJUQ",
        "outputId": "bace39bc-d7d6-4ad4-c226-b50038ddc4d0"
      },
      "execution_count": 31,
      "outputs": [
        {
          "output_type": "stream",
          "name": "stdout",
          "text": [
            "92 out of  100 exapmles were the same\n"
          ]
        }
      ]
    },
    {
      "cell_type": "markdown",
      "source": [
        "# Θέμα 10\n",
        "## Αλγόριθμος του Bambai"
      ],
      "metadata": {
        "id": "3gJYIMk7tuOr"
      }
    },
    {
      "cell_type": "code",
      "source": [
        "###########################################################\n",
        "#                                                         #\n",
        "#       MUST FIRST EXECUTE AUXILIARY FUNCTIONS-V1,        #\n",
        "#           lll_algorithm and gram_schmidt                #\n",
        "###########################################################\n",
        "def bambai_algorithm(basis, t):\n",
        "  \"\"\"\n",
        "  Babai’s nearest plane algorithm\n",
        "\n",
        "  :param basis: Basis matrix (n x m) (NumPy arrays) describing the lattice.\n",
        "  :param t: Target vector (NumPy arrays), m-dimensional\n",
        "  :return x: The closest lattice point to t.\n",
        "  \"\"\"\n",
        "  n = len(basis)\n",
        "  # Apply the LLL algorithm\n",
        "  lll_basis = lll_algorithm(basis.copy(), delta=0.75)\n",
        "\n",
        "  # Apply Gram-Schmidt Algorithm to create an orthogonal basis\n",
        "  orthogonal_basis, mu = gram_schmidt(lll_basis.copy())\n",
        "\n",
        "  b = t.copy()\n",
        "  for j in range(n - 1, -1, -1):\n",
        "    c_j = round(np.dot(b,orthogonal_basis[j])/np.dot(orthogonal_basis[j],orthogonal_basis[j]))\n",
        "    b -= c_j* lll_basis[j]\n",
        "  return t-b\n",
        "\n",
        "\n",
        "# Examples\n",
        "#B = np.array([[1, 0], [0, 1]])\n",
        "#t = np.array([2.7, 3.4])\n",
        "#closest_point = bambai_algorithm(B, t)\n",
        "#print(\"The closest lattice point is:\", closest_point)\n",
        "\n",
        "B = np.array([[137, 312], [215, -187]])\n",
        "t = np.array([53172, 81743])\n",
        "closest_point = bambai_algorithm(B, t)\n",
        "print(\"The closest lattice point is:\", closest_point)\n"
      ],
      "metadata": {
        "colab": {
          "base_uri": "https://localhost:8080/"
        },
        "id": "jJn5-U15t4sG",
        "outputId": "a61367aa-0ba5-46ad-92cf-6cfcf874ce77"
      },
      "execution_count": 40,
      "outputs": [
        {
          "output_type": "stream",
          "name": "stdout",
          "text": [
            "The closest lattice point is: [53159 81818]\n"
          ]
        }
      ]
    },
    {
      "cell_type": "markdown",
      "source": [
        "# Θέμα 11\n",
        "## Αλγόριθμος KFP"
      ],
      "metadata": {
        "id": "h48MwKvicFy4"
      }
    },
    {
      "cell_type": "code",
      "source": [
        "###########################################################\n",
        "#                                                         #\n",
        "#       MUST FIRST EXECUTE AUXILIARY FUNCTIONS-V1,        #\n",
        "#                 and gram_schmidt                        #\n",
        "###########################################################\n",
        "\n",
        "def kfp_enumeration(basis, R):\n",
        "    \"\"\"\n",
        "    KFP enumeration algorithm returns all vectors of L which are smaller than R\n",
        "\n",
        "    :param basis: Basis matrix (n x n) (NumPy arrays) describing the lattice.\n",
        "    :param R: possitive number constraint for the norm\n",
        "    :return:  A set of lattice vectors satisfying ||x|| <= R\n",
        "    \"\"\"\n",
        "    n = len(basis)\n",
        "    # compute {μ_{ij}}\n",
        "    b_star, mu = gram_schmidt(basis.copy())\n",
        "    # Compute Bi = ||{b_i}*||^2\n",
        "    B = np.array([np.dot(b_star[i], b_star[i]) for i in range(n)])\n",
        "\n",
        "    x = np.zeros(n, dtype=int)      # Initialize x vector\n",
        "    c = np.zeros(n, dtype=float)    # Initialize c vector\n",
        "    l = np.zeros(n, dtype=float)    # Initialize l vector\n",
        "    sumli = 0\n",
        "    S = set()                       # Set to store lattice vectors\n",
        "    i = 0\n",
        "\n",
        "    while i < n:\n",
        "        # Update c[i] as the summation of μ[j, i] * x[j] for j=i+1 to n\n",
        "        c[i] = -sum(x[j] * mu[j][i] for j in range(i+1, n))\n",
        "\n",
        "        l[i] = B[i] * ((x[i] - c[i])**2)\n",
        "        sumli = sum(l[i:n])\n",
        "\n",
        "        if sumli <= R**2:\n",
        "            if i == 0:\n",
        "                S.add(tuple(sum(x[j] * basis[j] for j in range(n))))\n",
        "                x[0] += 1\n",
        "            else:\n",
        "                i -= 1\n",
        "                summation = sum(mu[j, i] * x[j] for j in range(i + 1, n))\n",
        "                # xi ← left part of the interval Ii\n",
        "                x[i] = math.ceil(-summation - np.sqrt((R**2 - sum(l[i+1:n])) / B[i]))\n",
        "        else:\n",
        "            i += 1\n",
        "            if i < n:\n",
        "              x[i] += 1\n",
        "    return S\n",
        "\n",
        "# Example\n",
        "basis = np.array([[3, 6, 13], [11, 3, 15], [12, 12, 0]])\n",
        "R = np.sqrt(214)\n",
        "\n",
        "result = kfp_enumeration(basis, R)\n",
        "print(\"Lattice vectors satisfying ||x|| <= R:\")\n",
        "for vector in result:\n",
        "    print(vector)\n"
      ],
      "metadata": {
        "colab": {
          "base_uri": "https://localhost:8080/"
        },
        "id": "rZuBYn22zxhp",
        "outputId": "5d189e2f-03dc-4877-93d0-0700231ac96b"
      },
      "execution_count": 42,
      "outputs": [
        {
          "output_type": "stream",
          "name": "stdout",
          "text": [
            "Lattice vectors satisfying ||x|| <= R:\n",
            "(8, -3, 2)\n",
            "(0, 0, 0)\n",
            "(3, 6, 13)\n"
          ]
        }
      ]
    },
    {
      "cell_type": "code",
      "source": [
        "# Παράδειγμα χρήσης\n",
        "basis = np.array([[-1, -1, -2, -4, -1], [-2, -2, 4, -4, 2], [4, 2, -1, 1, 4], [1, -1, 1, -1, -1], [-1, 1, -1, 1, 30]])\n",
        "R = np.sqrt(40)\n",
        "\n",
        "result = kfp_enumeration(basis, R)\n",
        "print(\"Vectors satisfying the condition:\")\n",
        "for vector in result:\n",
        "    print(vector)"
      ],
      "metadata": {
        "colab": {
          "base_uri": "https://localhost:8080/"
        },
        "id": "i6AU_YtPV9AH",
        "outputId": "32c10601-848b-4146-e9b6-222f7d5ddd19"
      },
      "execution_count": null,
      "outputs": [
        {
          "output_type": "stream",
          "name": "stdout",
          "text": [
            "Vectors satisfying the condition:\n",
            "(5, 1, 0, 0, 3)\n",
            "(3, 1, -3, -3, 3)\n",
            "(1, -1, 1, -1, -1)\n",
            "(0, -2, -1, -5, -2)\n",
            "(2, 0, 3, 3, 0)\n",
            "(3, -1, 4, 2, -1)\n",
            "(-1, -1, -2, -4, -1)\n",
            "(4, 2, -1, 1, 4)\n",
            "(0, 0, 0, 0, 0)\n",
            "(4, 0, -2, 2, -4)\n",
            "(2, -2, 2, -2, -2)\n",
            "(4, 0, -2, -4, 2)\n",
            "(3, 1, -3, 3, -3)\n"
          ]
        }
      ]
    },
    {
      "cell_type": "markdown",
      "source": [
        "# Θέμα 12\n",
        "## ́Αλγόριθμος Schnorr-Euchner"
      ],
      "metadata": {
        "id": "m_40KjPvd_I-"
      }
    },
    {
      "cell_type": "code",
      "source": [
        "def schnorr_euchner_algorithm(basis, R):\n",
        "  \"\"\"\n",
        "  KFP enumeration algorithm returns all vectors of L which are smaller than R\n",
        "\n",
        "    :param basis: Basis matrix (n x n) (NumPy arrays) describing the lattice.\n",
        "    :param R: possitive number constraint for the norm\n",
        "    :return:  A set of lattice vectors satisfying ||x|| <= R\n",
        "  \"\"\"\n",
        "  n = len(basis)\n",
        "  # compute {μ_{ij}}\n",
        "  b_star, mu = gram_schmidt(basis.copy())\n",
        "  # Compute Bi = ||{b_i}*||^2\n",
        "  B = np.array([np.dot(b_star[i], b_star[i]) for i in range(n)])\n",
        "\n",
        "  x = np.zeros(n, dtype=int)      # Initialize x vector\n",
        "  c = np.zeros(n, dtype=float)    # Initialize c vector\n",
        "  l = np.zeros(n, dtype=float)    # Initialize l vector\n",
        "\n",
        "  # Δx ← (1, 0n−1)\n",
        "  delta_x = np.zeros(n)\n",
        "  delta_x[0] = 1\n",
        "\n",
        "  # Δ2x ← (1, (−1)n−1)\n",
        "  delta_2x = np.ones(n)\n",
        "  delta_2x[1:] = -1\n",
        "\n",
        "  sumli = 0\n",
        "  S = set()                       # Set to store lattice vectors\n",
        "  i = 0\n",
        "\n",
        "  while i < n:\n",
        "    c[i] = -sum(x[j]*mu[j][i] for j in range(i+1, n))\n",
        "    l[i] = B[i]*((x[i]-c[i])**2)\n",
        "    sumli = sum(l[i:n])\n",
        "    if sumli <= R**2 and i == 0:\n",
        "      S.add(tuple(sum(x[j]*basis[j] for j in range(n))))\n",
        "    if sumli <= R**2 and i > 0:\n",
        "      i -= 1\n",
        "      c[i] = -sum(x[j]*mu[j][i] for j in range(i+1, n)) # center of the interval In+1−i\n",
        "      x[i] = round(c[i])\n",
        "      delta_x[i] = 0\n",
        "      if c[i] < x[i]:\n",
        "        delta_2x[i] = 1\n",
        "      else:\n",
        "        delta_2x[i] = -1\n",
        "    elif i ==n:         # i.e. if sumli > R2 and i = n\n",
        "      break\n",
        "    else:               # i.e. if sumli > R2 or i = 1\n",
        "      i +=1\n",
        "      if i < n:\n",
        "        delta_2x[i] = -delta_2x[i]\n",
        "        delta_x[i] = -delta_x[i] + delta_2x[i]\n",
        "        x[i] = x[i] + delta_x[i]\n",
        "  return S\n",
        "\n",
        "\n",
        "# Example\n",
        "basis = np.array([[3, 6, 13], [11, 3, 15], [12, 12, 0]])\n",
        "R = np.sqrt(214)\n",
        "\n",
        "result = schnorr_euchner_algorithm(basis, R)\n",
        "print(\"Lattice vectors satisfying ||x|| <= R:\")\n",
        "for vector in result:\n",
        "    print(vector)\n"
      ],
      "metadata": {
        "colab": {
          "base_uri": "https://localhost:8080/"
        },
        "id": "g8y46mIsd9vO",
        "outputId": "f509920f-7ea2-4b1a-e4b5-d73d1c580d31"
      },
      "execution_count": null,
      "outputs": [
        {
          "output_type": "stream",
          "name": "stdout",
          "text": [
            "Lattice vectors satisfying ||x|| <= R:\n",
            "(8, -3, 2)\n",
            "(0, 0, 0)\n",
            "(-8, 3, -2)\n"
          ]
        }
      ]
    },
    {
      "cell_type": "code",
      "source": [
        "# Παράδειγμα χρήσης\n",
        "basis = np.array([[-1, -1, -2, -4, -1], [-2, -2, 4, -4, 2], [4, 2, -1, 1, 4], [1, -1, 1, -1, -1], [-1, 1, -1, 1, 30]])\n",
        "R = np.sqrt(40)\n",
        "\n",
        "result = schnorr_euchner_algorithm(basis, R)\n",
        "print(\"Vectors satisfying the condition:\")\n",
        "for vector in result:\n",
        "    print(vector)"
      ],
      "metadata": {
        "colab": {
          "base_uri": "https://localhost:8080/"
        },
        "id": "BH3IOa6SlWxw",
        "outputId": "4f986bbf-31e6-40f2-c7bc-aa4af53b6616"
      },
      "execution_count": null,
      "outputs": [
        {
          "output_type": "stream",
          "name": "stdout",
          "text": [
            "Vectors satisfying the condition:\n",
            "(-1, 1, -1, 1, 1)\n",
            "(-3, -1, 3, 3, -3)\n",
            "(5, 1, 0, 0, 3)\n",
            "(1, -1, 1, -1, -1)\n",
            "(3, 1, -3, -3, 3)\n",
            "(-2, 2, -2, 2, 2)\n",
            "(-4, 0, 2, -2, 4)\n",
            "(-5, -1, 0, 0, -3)\n",
            "(-3, -1, 3, -3, 3)\n",
            "(0, 0, 0, 0, 0)\n",
            "(4, 0, -2, 2, -4)\n",
            "(2, -2, 2, -2, -2)\n",
            "(3, 1, -3, 3, -3)\n"
          ]
        }
      ]
    },
    {
      "cell_type": "markdown",
      "source": [
        "## Εnumeration with prunning και prunning vector"
      ],
      "metadata": {
        "id": "csWMNjawXqXT"
      }
    },
    {
      "cell_type": "code",
      "source": [
        "###########################################################\n",
        "#                                                         #\n",
        "#       MUST FIRST EXECUTE AUXILIARY FUNCTIONS-V1,        #\n",
        "#                 and gram_schmidt                        #\n",
        "###########################################################\n",
        "\n",
        "import math\n",
        "\n",
        "def compute_pruning_vector(n):\n",
        "    \"\"\"\n",
        "    Computes the pruning vector a_i = min(1, sqrt(1.05^(i/n))).\n",
        "        :param n (int): Dimension of the lattice.\n",
        "        :return: list of float: Pruning vector.\n",
        "    \"\"\"\n",
        "    return [min(1, math.sqrt(1.05**(i/n))) for i in range(n)]\n",
        "\n",
        "def schnorr_euchner_algorithm_with_prunning(basis, R):\n",
        "  \"\"\"\n",
        "  KFP enumeration algorithm returns all vectors of L which are smaller than R\n",
        "\n",
        "    :param basis: Basis matrix (n x n) (NumPy arrays) describing the lattice.\n",
        "    :param R: possitive number constraint for the norm\n",
        "    :return:  A set of lattice vectors satisfying ||x|| <= R\n",
        "  \"\"\"\n",
        "  n = len(basis)\n",
        "  # compute {μ_{ij}}\n",
        "  b_star, mu = gram_schmidt(basis.copy())\n",
        "  # Compute Bi = ||{b_i}*||^2\n",
        "  B = np.array([np.dot(b_star[i], b_star[i]) for i in range(n)])\n",
        "\n",
        "  x = np.zeros(n, dtype=int)      # Initialize x vector\n",
        "  c = np.zeros(n)                 # Initialize c vector\n",
        "  l = np.zeros(n)                 # Initialize l vector\n",
        "\n",
        "  # Δx ← (1, 0n−1)\n",
        "  delta_x = np.zeros(n)\n",
        "  delta_x[0] = 1\n",
        "\n",
        "  # Δ2x ← (1, (−1)n−1)\n",
        "  delta_2x = np.ones(n)\n",
        "  delta_2x[1:] = -1\n",
        "\n",
        "  sumli = 0\n",
        "  S = set()                       # Set to store lattice vectors\n",
        "  i = 0\n",
        "\n",
        "  # compute prunning vvector\n",
        "  a = compute_pruning_vector(n)\n",
        "\n",
        "  while i < n:\n",
        "    c[i] = -sum(x[j]*mu[j][i] for j in range(i+1, n))\n",
        "    l[i] = B[i]*((x[i]-c[i])**2)\n",
        "    sumli = sum(l[i:n])\n",
        "    if sumli <= (a[n-1-i]*R)**2 and i == 0:\n",
        "      S.add(tuple(sum(x[j]*basis[j] for j in range(n))))\n",
        "    if sumli <= (a[n-1-i]*R)**2 and i > 0:\n",
        "      i -= 1\n",
        "      c[i] = -sum(x[j]*mu[j][i] for j in range(i+1, n)) # center of the interval In+1−i\n",
        "      x[i] = round(c[i])\n",
        "      delta_x[i] = 0\n",
        "      if c[i] < x[i]:\n",
        "        delta_2x[i] = 1\n",
        "      else:\n",
        "        delta_2x[i] = -1\n",
        "    elif i ==n:         # i.e. if sumli > R2 and i = n\n",
        "      break\n",
        "    else:               # i.e. if sumli > R2 or i = 1\n",
        "      i +=1\n",
        "      if i < n:\n",
        "        delta_2x[i] = -delta_2x[i]\n",
        "        delta_x[i] = -delta_x[i] + delta_2x[i]\n",
        "        x[i] = x[i] + delta_x[i]\n",
        "  return S\n",
        "\n",
        "\n",
        "# Example\n",
        "basis = np.array([[3, 6, 13], [11, 3, 15], [12, 12, 0]])\n",
        "R = np.sqrt(214)\n",
        "\n",
        "result = schnorr_euchner_algorithm_with_prunning(basis, R)\n",
        "print(\"Lattice vectors satisfying ||x|| <= R:\")\n",
        "for vector in result:\n",
        "    print(vector)\n"
      ],
      "metadata": {
        "colab": {
          "base_uri": "https://localhost:8080/"
        },
        "id": "Wj8qP1zhXxO7",
        "outputId": "a91ebc1e-985f-4427-a0b0-6a4dca56dce1"
      },
      "execution_count": 43,
      "outputs": [
        {
          "output_type": "stream",
          "name": "stdout",
          "text": [
            "Lattice vectors satisfying ||x|| <= R:\n",
            "(8, -3, 2)\n",
            "(0, 0, 0)\n",
            "(-8, 3, -2)\n"
          ]
        }
      ]
    },
    {
      "cell_type": "markdown",
      "source": [
        "# Θέμα 4 - vol.2"
      ],
      "metadata": {
        "id": "QRYWWK0j1tS7"
      }
    },
    {
      "cell_type": "code",
      "source": [
        "###########################################################\n",
        "#                                                         #\n",
        "#       MUST FIRST EXECUTE AUXILIARY FUNCTIONS-V1,        #\n",
        "#           lll_algorithm  and  kfp_enumeration           #\n",
        "###########################################################\n",
        "import numpy as np\n",
        "import random\n",
        "\n",
        "iterations = 1\n",
        "\n",
        "def is_lll_first_vector_lambda1(basis, delta=0.75):\n",
        "    \"\"\"\n",
        "    Check if the first vector of the LLL-reduced basis is λ1(L).\n",
        "\n",
        "      :param basis: Input lattice basis (numpy array).\n",
        "      :param delta: Delta parameter for LLL (default 0.75).\n",
        "      :return: True if the first vector is λ1(L), otherwise False.\n",
        "    \"\"\"\n",
        "    # Compute the LLL-reduced basis\n",
        "    lll_reduced_basis = lll_algorithm(basis.copy(),delta)\n",
        "    lll_shortest_norm = np.linalg.norm(lll_reduced_basis[0])\n",
        "    #print(\"LLL Reduced Basis:\")\n",
        "    #print(lll_reduced_basis)\n",
        "    #print(\"LLL First Vector Norm:\", lll_shortest_norm)\n",
        "\n",
        "    # Use KFP to find λ1(L)\n",
        "    R = lll_shortest_norm + 0.01  # Slightly above the LLL first vector's norm\n",
        "    enumerated_vectors  = kfp_enumeration(basis, R)\n",
        "\n",
        "    # Find the shortest norm among enumerated vectors ~ used chatgpt\n",
        "    min_enumerated_norm = float('inf')\n",
        "    for vec in enumerated_vectors:\n",
        "      norm = np.linalg.norm(vec)\n",
        "      if norm > 0:  # Exclude the zero vector\n",
        "        min_enumerated_norm = min(min_enumerated_norm, norm)\n",
        "\n",
        "    # Compare norms\n",
        "    return np.isclose(lll_shortest_norm, min_enumerated_norm), lll_reduced_basis[0], min_enumerated_norm\n"
      ],
      "metadata": {
        "id": "aRcNghb97Xgf"
      },
      "execution_count": 35,
      "outputs": []
    },
    {
      "cell_type": "code",
      "source": [
        "# Example\n",
        "true_counter = 0\n",
        "iterations = 50\n",
        "for _ in range(iterations):\n",
        "  lattice = generate_random_lattice(4)\n",
        "  result, lll_vector, lambda1 = is_lll_first_vector_lambda1(lattice)\n",
        "  if result:\n",
        "    true_counter += 1\n",
        "  #print(\"Lattice:\")\n",
        "  #print(lattice)\n",
        "  #print(\"LLL First Vector:\", lll_vector)\n",
        "  print(\"λ1(L) from Enumeration:\", lambda1)\n",
        "  print(\"Is LLL first vector λ1(L)?\", result)\n",
        "  print(\"-\" * 50)\n",
        "print(true_counter, \"cases out of \", iterations, \"were correct\")"
      ],
      "metadata": {
        "id": "j9ZhjYlJ0FDj"
      },
      "execution_count": null,
      "outputs": []
    },
    {
      "cell_type": "code",
      "source": [
        "import numpy as np\n",
        "\n",
        "# Example to find approximation\n",
        "counter_list = []\n",
        "iterations = 50\n",
        "for _ in range(10):\n",
        "  true_counter = 0\n",
        "  for _ in range(iterations):\n",
        "    # Generate random Lattice of max dimention 4\n",
        "    lattice = generate_random_lattice(random.randint(2, 4))\n",
        "    result, lll_vector, lambda1 = is_lll_first_vector_lambda1(lattice)\n",
        "    if result:\n",
        "      true_counter += 1\n",
        "  counter_list.append(true_counter)\n",
        "  print(true_counter, \"cases out of \", iterations, \"were correct\")\n",
        "counter_list=np.array(counter_list)\n",
        "#print(counter_list)\n",
        "print(\"Average:\", np.mean(counter_list))\n"
      ],
      "metadata": {
        "colab": {
          "base_uri": "https://localhost:8080/"
        },
        "id": "HVNgfzce0JJx",
        "outputId": "d8fd1487-a4f4-4de2-b8b9-f8755529e935"
      },
      "execution_count": 36,
      "outputs": [
        {
          "output_type": "stream",
          "name": "stdout",
          "text": [
            "44 cases out of  50 were correct\n",
            "41 cases out of  50 were correct\n",
            "41 cases out of  50 were correct\n",
            "43 cases out of  50 were correct\n",
            "42 cases out of  50 were correct\n",
            "40 cases out of  50 were correct\n",
            "43 cases out of  50 were correct\n",
            "41 cases out of  50 were correct\n",
            "45 cases out of  50 were correct\n",
            "41 cases out of  50 were correct\n",
            "Average: 42.1\n"
          ]
        }
      ]
    },
    {
      "cell_type": "markdown",
      "source": [
        "# Θέμα 6"
      ],
      "metadata": {
        "id": "yBWAzIzDQvKH"
      }
    },
    {
      "cell_type": "code",
      "source": [
        "import numpy as np\n",
        "from sympy import Poly, ceiling, roots\n",
        "from sympy.abc import x\n",
        "from scipy.linalg import lu\n",
        "\n",
        "def univariate_coppersmith(f_coeffs, N, epsilon):\n",
        "    \"\"\"\n",
        "    Implements the Univariate Coppersmith method in Python.\n",
        "\n",
        "    Parameters:\n",
        "    - f_coeffs: Coefficients of the polynomial (highest degree first).\n",
        "    - N: The modulus.\n",
        "    - epsilon: Small positive value for the bound X.\n",
        "\n",
        "    Returns:\n",
        "    - Roots of the polynomial f modulo N.\n",
        "    \"\"\"\n",
        "    f = Poly(f_coeffs, x, domain='ZZ')\n",
        "    d = f.degree()\n",
        "\n",
        "    # Compute h using Galbraith's formula\n",
        "    h = ceiling(1 / (d * epsilon))\n",
        "    print(f\"h = {h}\")\n",
        "    if h == 1:\n",
        "        raise ValueError(\"Choose a new value for epsilon.\")\n",
        "\n",
        "    # Compute bound X\n",
        "    X = ceiling(0.5 * N**(1 / d - epsilon))\n",
        "    print(f\"X = {X}\")\n",
        "\n",
        "    # Compute lattice rank (n)\n",
        "    n = d * h\n",
        "    print(f\"Rank of lattice (n) = {n}\")\n",
        "\n",
        "    # Construct the lattice basis matrix\n",
        "    L = []\n",
        "    #scaled_x = x * X  # Scale the variable x by X\n",
        "    for j in range(h):\n",
        "      for i in range(d):\n",
        "        #term = N**(h - 1 - j) * (scaled_x)**i * f(scaled_x)**j # removed scaled_x\n",
        "        term = N**(h - 1 - j) * (x * X)**i * f.subs({x: x * X})**j # Using .subs to avoid type mismatch.\n",
        "        # Changed to ensure that when evaluating the polynomial f, instead of\n",
        "        # calling f with the scaled_x (which introduced symbolic x in the coefficients),\n",
        "        # we explicitly substitute x with x * X using .subs({x: x * X})\n",
        "        # This keeps the coefficients as integers.\n",
        "        term_poly = Poly(term.as_expr().expand(), x, domain='ZZ')\n",
        "        row = [term_poly.coeff_monomial(x**k) if k <= term_poly.degree() else 0 for k in range(n)]\n",
        "        L.append(row)\n",
        "\n",
        "    # Convert lattice basis to numpy array\n",
        "    L = np.array(L, dtype=object)\n",
        "\n",
        "    # Perform LLL reduction using scipy's LU decomposition (approximation)\n",
        "    P, L_, U = lu(L.astype(np.float64))\n",
        "    reduced_basis = U.astype(object)\n",
        "\n",
        "    # Construct polynomial from the first basis vector\n",
        "    g_coeffs = [reduced_basis[0, i] / (X**i) for i in range(n)]\n",
        "    g = Poly(g_coeffs, x, domain='QQ')\n",
        "\n",
        "    # Find roots of the polynomial modulo N\n",
        "    g_roots = roots(g, multiple=True)\n",
        "\n",
        "    return [int(r) for r in g_roots if isinstance(r, int) and 0 <= r < N]\n",
        "\n",
        "# Example usage:\n",
        "# Coefficients of the polynomial (highest degree first)\n",
        "f_coeffs = [987654321987654321, 1234567890123456789, 1942528644709637042, 1]\n",
        "N = (2**30 + 3) * (2**32 + 15)\n",
        "epsilon = 0.09\n",
        "\n",
        "roots = univariate_coppersmith(f_coeffs, N, epsilon)\n",
        "print(\"Roots:\", roots)\n"
      ],
      "metadata": {
        "colab": {
          "base_uri": "https://localhost:8080/"
        },
        "id": "9p7m08BAQyTe",
        "outputId": "970891b4-4c9e-47d7-a885-1132761fd889"
      },
      "execution_count": null,
      "outputs": [
        {
          "output_type": "stream",
          "name": "stdout",
          "text": [
            "h = 4\n",
            "X = 17399\n",
            "Rank of lattice (n) = 12\n",
            "[0, 0, 0, 0, 0, 0, 0, 0, 0, 0, 0]\n",
            "Roots: []\n"
          ]
        }
      ]
    },
    {
      "cell_type": "code",
      "source": [
        "import numpy as np\n",
        "from sympy import Poly, ceiling, symbols, Matrix\n",
        "from sympy.abc import x\n",
        "#!pip install fpylll\n",
        "\n",
        "\n",
        "def univariate_coppersmith(f_coeffs, N, epsilon):\n",
        "    \"\"\"\n",
        "    Implements the Univariate Coppersmith method in Python.\n",
        "\n",
        "    Parameters:\n",
        "    - f_coeffs: Coefficients of the polynomial (highest degree first).\n",
        "    - N: The modulus.\n",
        "    - epsilon: Small positive value for the bound X.\n",
        "\n",
        "    Returns:\n",
        "    - Roots of the polynomial f modulo N.\n",
        "    \"\"\"\n",
        "    f = Poly(f_coeffs, x, domain='ZZ')\n",
        "    d = f.degree()\n",
        "\n",
        "    # Compute h using Galbraith's formula\n",
        "    h = ceiling(1 / (d * epsilon))\n",
        "    print(f\"h = {h}\")\n",
        "    if h == 1:\n",
        "        raise ValueError(\"Choose a new value for epsilon.\")\n",
        "\n",
        "    # Compute bound X\n",
        "    X = ceiling(0.5 * N**(1 / d - epsilon))\n",
        "    print(f\"X = {X}\")\n",
        "\n",
        "    # Compute lattice rank (n)\n",
        "    n = d * h\n",
        "    print(f\"Rank of lattice (n) = {n}\")\n",
        "\n",
        "    # Construct the lattice basis matrix\n",
        "    L = []\n",
        "    for j in range(h):\n",
        "        for i in range(d):\n",
        "            term = N**(h - 1 - j) * (x * X)**i * f.subs({x: x * X})**j\n",
        "            term_poly = Poly(term.as_expr().expand(), x, domain='ZZ')\n",
        "            row = [term_poly.coeff_monomial(x**k) if k <= term_poly.degree() else 0 for k in range(n)]\n",
        "            L.append(row)\n",
        "\n",
        "    # Convert lattice basis to fpylll IntegerMatrix\n",
        "    L_matrix = np.array(L)\n",
        "\n",
        "    # Perform LLL reduction\n",
        "    lll_reduced = lll_algorithm(L_matrix,0.99)\n",
        "\n",
        "    # Extract the first row of the reduced basis\n",
        "    reduced_basis = np.array(lll_reduced, dtype=object)\n",
        "    g_coeffs = [reduced_basis[0, i] // (X**i) for i in range(n)]\n",
        "    g = Poly(g_coeffs, x, domain='ZZ')\n",
        "\n",
        "    # Find roots of the polynomial modulo N\n",
        "    g_roots = g.nroots()  # Numerical roots\n",
        "\n",
        "    return [int(round(r)) for r in g_roots if r.is_real and 0 <= round(r) < N]\n",
        "\n",
        "# Example usage:\n",
        "# Coefficients of the polynomial (highest degree first)\n",
        "f_coeffs = [1, 1234567890123456789, 987654321987654321, 1942528644709637042]\n",
        "N = (2**30 + 3) * (2**32 + 15)\n",
        "epsilon = 0.09\n",
        "\n",
        "roots = univariate_coppersmith(f_coeffs, N, epsilon)\n",
        "print(\"Roots:\", roots)\n"
      ],
      "metadata": {
        "colab": {
          "base_uri": "https://localhost:8080/",
          "height": 564
        },
        "id": "avVv8TcqlBxz",
        "outputId": "1a15abf1-5c30-471c-8688-472e193073dd"
      },
      "execution_count": null,
      "outputs": [
        {
          "output_type": "stream",
          "name": "stdout",
          "text": [
            "h = 4\n",
            "X = 17399\n",
            "Rank of lattice (n) = 12\n"
          ]
        },
        {
          "output_type": "error",
          "ename": "NoConvergence",
          "evalue": "convergence to root failed; try n < 15 or maxsteps > 50",
          "traceback": [
            "\u001b[0;31m---------------------------------------------------------------------------\u001b[0m",
            "\u001b[0;31mNoConvergence\u001b[0m                             Traceback (most recent call last)",
            "\u001b[0;32m/usr/local/lib/python3.11/dist-packages/sympy/polys/polytools.py\u001b[0m in \u001b[0;36mnroots\u001b[0;34m(f, n, maxsteps, cleanup)\u001b[0m\n\u001b[1;32m   3728\u001b[0m             \u001b[0;31m# 10 times the degree of the polynomial seems to work well.\u001b[0m\u001b[0;34m\u001b[0m\u001b[0;34m\u001b[0m\u001b[0m\n\u001b[0;32m-> 3729\u001b[0;31m             roots = mpmath.polyroots(coeffs, maxsteps=maxsteps,\n\u001b[0m\u001b[1;32m   3730\u001b[0m                     cleanup=cleanup, error=False, extraprec=f.degree()*10)\n",
            "\u001b[0;32m/usr/local/lib/python3.11/dist-packages/mpmath/calculus/polynomials.py\u001b[0m in \u001b[0;36mpolyroots\u001b[0;34m(ctx, coeffs, maxsteps, cleanup, extraprec, error, roots_init)\u001b[0m\n\u001b[1;32m    195\u001b[0m         \u001b[0;32mif\u001b[0m \u001b[0mabs\u001b[0m\u001b[0;34m(\u001b[0m\u001b[0mmax\u001b[0m\u001b[0;34m(\u001b[0m\u001b[0merr\u001b[0m\u001b[0;34m)\u001b[0m\u001b[0;34m)\u001b[0m \u001b[0;34m>=\u001b[0m \u001b[0mtol\u001b[0m\u001b[0;34m:\u001b[0m\u001b[0;34m\u001b[0m\u001b[0;34m\u001b[0m\u001b[0m\n\u001b[0;32m--> 196\u001b[0;31m             raise ctx.NoConvergence(\"Didn't converge in maxsteps=%d steps.\" \\\n\u001b[0m\u001b[1;32m    197\u001b[0m                     % maxsteps)\n",
            "\u001b[0;31mNoConvergence\u001b[0m: Didn't converge in maxsteps=50 steps.",
            "\nDuring handling of the above exception, another exception occurred:\n",
            "\u001b[0;31mNoConvergence\u001b[0m                             Traceback (most recent call last)",
            "\u001b[0;32m/usr/local/lib/python3.11/dist-packages/sympy/polys/polytools.py\u001b[0m in \u001b[0;36mnroots\u001b[0;34m(f, n, maxsteps, cleanup)\u001b[0m\n\u001b[1;32m   3738\u001b[0m                 \u001b[0;31m# If roots did not converge try again with more extra precision.\u001b[0m\u001b[0;34m\u001b[0m\u001b[0;34m\u001b[0m\u001b[0m\n\u001b[0;32m-> 3739\u001b[0;31m                 roots = mpmath.polyroots(coeffs, maxsteps=maxsteps,\n\u001b[0m\u001b[1;32m   3740\u001b[0m                     cleanup=cleanup, error=False, extraprec=f.degree()*15)\n",
            "\u001b[0;32m/usr/local/lib/python3.11/dist-packages/mpmath/calculus/polynomials.py\u001b[0m in \u001b[0;36mpolyroots\u001b[0;34m(ctx, coeffs, maxsteps, cleanup, extraprec, error, roots_init)\u001b[0m\n\u001b[1;32m    195\u001b[0m         \u001b[0;32mif\u001b[0m \u001b[0mabs\u001b[0m\u001b[0;34m(\u001b[0m\u001b[0mmax\u001b[0m\u001b[0;34m(\u001b[0m\u001b[0merr\u001b[0m\u001b[0;34m)\u001b[0m\u001b[0;34m)\u001b[0m \u001b[0;34m>=\u001b[0m \u001b[0mtol\u001b[0m\u001b[0;34m:\u001b[0m\u001b[0;34m\u001b[0m\u001b[0;34m\u001b[0m\u001b[0m\n\u001b[0;32m--> 196\u001b[0;31m             raise ctx.NoConvergence(\"Didn't converge in maxsteps=%d steps.\" \\\n\u001b[0m\u001b[1;32m    197\u001b[0m                     % maxsteps)\n",
            "\u001b[0;31mNoConvergence\u001b[0m: Didn't converge in maxsteps=50 steps.",
            "\nDuring handling of the above exception, another exception occurred:\n",
            "\u001b[0;31mNoConvergence\u001b[0m                             Traceback (most recent call last)",
            "\u001b[0;32m<ipython-input-25-c3583c74fdb1>\u001b[0m in \u001b[0;36m<cell line: 0>\u001b[0;34m()\u001b[0m\n\u001b[1;32m     65\u001b[0m \u001b[0mepsilon\u001b[0m \u001b[0;34m=\u001b[0m \u001b[0;36m0.09\u001b[0m\u001b[0;34m\u001b[0m\u001b[0;34m\u001b[0m\u001b[0m\n\u001b[1;32m     66\u001b[0m \u001b[0;34m\u001b[0m\u001b[0m\n\u001b[0;32m---> 67\u001b[0;31m \u001b[0mroots\u001b[0m \u001b[0;34m=\u001b[0m \u001b[0munivariate_coppersmith\u001b[0m\u001b[0;34m(\u001b[0m\u001b[0mf_coeffs\u001b[0m\u001b[0;34m,\u001b[0m \u001b[0mN\u001b[0m\u001b[0;34m,\u001b[0m \u001b[0mepsilon\u001b[0m\u001b[0;34m)\u001b[0m\u001b[0;34m\u001b[0m\u001b[0;34m\u001b[0m\u001b[0m\n\u001b[0m\u001b[1;32m     68\u001b[0m \u001b[0mprint\u001b[0m\u001b[0;34m(\u001b[0m\u001b[0;34m\"Roots:\"\u001b[0m\u001b[0;34m,\u001b[0m \u001b[0mroots\u001b[0m\u001b[0;34m)\u001b[0m\u001b[0;34m\u001b[0m\u001b[0;34m\u001b[0m\u001b[0m\n",
            "\u001b[0;32m<ipython-input-25-c3583c74fdb1>\u001b[0m in \u001b[0;36munivariate_coppersmith\u001b[0;34m(f_coeffs, N, epsilon)\u001b[0m\n\u001b[1;32m     55\u001b[0m \u001b[0;34m\u001b[0m\u001b[0m\n\u001b[1;32m     56\u001b[0m     \u001b[0;31m# Find roots of the polynomial modulo N\u001b[0m\u001b[0;34m\u001b[0m\u001b[0;34m\u001b[0m\u001b[0m\n\u001b[0;32m---> 57\u001b[0;31m     \u001b[0mg_roots\u001b[0m \u001b[0;34m=\u001b[0m \u001b[0mg\u001b[0m\u001b[0;34m.\u001b[0m\u001b[0mnroots\u001b[0m\u001b[0;34m(\u001b[0m\u001b[0;34m)\u001b[0m  \u001b[0;31m# Numerical roots\u001b[0m\u001b[0;34m\u001b[0m\u001b[0;34m\u001b[0m\u001b[0m\n\u001b[0m\u001b[1;32m     58\u001b[0m \u001b[0;34m\u001b[0m\u001b[0m\n\u001b[1;32m     59\u001b[0m     \u001b[0;32mreturn\u001b[0m \u001b[0;34m[\u001b[0m\u001b[0mint\u001b[0m\u001b[0;34m(\u001b[0m\u001b[0mround\u001b[0m\u001b[0;34m(\u001b[0m\u001b[0mr\u001b[0m\u001b[0;34m)\u001b[0m\u001b[0;34m)\u001b[0m \u001b[0;32mfor\u001b[0m \u001b[0mr\u001b[0m \u001b[0;32min\u001b[0m \u001b[0mg_roots\u001b[0m \u001b[0;32mif\u001b[0m \u001b[0mr\u001b[0m\u001b[0;34m.\u001b[0m\u001b[0mis_real\u001b[0m \u001b[0;32mand\u001b[0m \u001b[0;36m0\u001b[0m \u001b[0;34m<=\u001b[0m \u001b[0mround\u001b[0m\u001b[0;34m(\u001b[0m\u001b[0mr\u001b[0m\u001b[0;34m)\u001b[0m \u001b[0;34m<\u001b[0m \u001b[0mN\u001b[0m\u001b[0;34m]\u001b[0m\u001b[0;34m\u001b[0m\u001b[0;34m\u001b[0m\u001b[0m\n",
            "\u001b[0;32m/usr/local/lib/python3.11/dist-packages/sympy/polys/polytools.py\u001b[0m in \u001b[0;36mnroots\u001b[0;34m(f, n, maxsteps, cleanup)\u001b[0m\n\u001b[1;32m   3742\u001b[0m                     sorted(roots, key=lambda r: (1 if r.imag else 0, r.real, abs(r.imag), sign(r.imag)))))\n\u001b[1;32m   3743\u001b[0m             \u001b[0;32mexcept\u001b[0m \u001b[0mNoConvergence\u001b[0m\u001b[0;34m:\u001b[0m\u001b[0;34m\u001b[0m\u001b[0;34m\u001b[0m\u001b[0m\n\u001b[0;32m-> 3744\u001b[0;31m                 raise NoConvergence(\n\u001b[0m\u001b[1;32m   3745\u001b[0m                     'convergence to root failed; try n < %s or maxsteps > %s' % (\n\u001b[1;32m   3746\u001b[0m                     n, maxsteps))\n",
            "\u001b[0;31mNoConvergence\u001b[0m: convergence to root failed; try n < 15 or maxsteps > 50"
          ]
        }
      ]
    },
    {
      "cell_type": "markdown",
      "source": [
        "# Θέμα 5"
      ],
      "metadata": {
        "id": "rFQVAWkkg-P-"
      }
    },
    {
      "cell_type": "code",
      "source": [
        "###########################################################\n",
        "#                                                         #\n",
        "#                                                         #\n",
        "#               YOU MUST RUN θΕΜΑ 4 FIRST                 #\n",
        "#                  FOR LLL ALGORITHM                      #\n",
        "#                                                         #\n",
        "#                                                         #\n",
        "###########################################################\n",
        "\n",
        "\n",
        "import numpy as np\n",
        "import random, operator, math\n",
        "import sys\n",
        "\n",
        "# Dot product function\n",
        "def dot_product(a, b):\n",
        "    return sum(map(operator.mul, a, b))\n",
        "\n",
        "# Generate random binary array\n",
        "def rand_bin_array(K, N):  # K zeros, N-K ones\n",
        "    arr = np.array([0] * K + [1] * (N - K))\n",
        "    np.random.shuffle(arr)\n",
        "    return arr\n",
        "\n",
        "# Function to create a knapsack problem\n",
        "def find(n,d,hamming):                                            #balanced hamming weight\n",
        "    if n%2==1:\n",
        "        return \"enter an even integer\"\n",
        "    a =  [random.randint(1,math.floor(2**((2-d)*n))) for _ in range(n)]\n",
        "    density=float(len(a)/math.log(max(a),2));\n",
        "    solution = rand_bin_array(n-hamming,n)\n",
        "    a0 = dot_product(solution,a);\n",
        "    aold=a;\n",
        "    a0old=a0;\n",
        "    return a,a0,density,sum(solution),len(solution),solution\n",
        "\n",
        "# Knapsack Lemma Lattice Construction\n",
        "def construct_lattice(a, a0, N, H):\n",
        "    n = len(a)\n",
        "    B = np.zeros((n + 1, n + 3), dtype=int)\n",
        "\n",
        "    # Fill the n-rows of the lattice matrix\n",
        "    for i in range(n):\n",
        "      B[i, i] = 2\n",
        "      B[i, -1] = N\n",
        "      B[i, -3] = a[i]*N\n",
        "\n",
        "    # Fill the last row of the lattice matrix\n",
        "    for i in range(n + 3):\n",
        "      B[n, i] = 1\n",
        "\n",
        "    B[n, -1] = H*N\n",
        "    B[n, -3] = a0*N\n",
        "\n",
        "    return B\n",
        "\n",
        "def generate_b(n, x, sign):\n",
        "    \"\"\"\n",
        "    Δημιουργεί το διάνυσμα b μήκους n+3 με τις εξής προϋποθέσεις:\n",
        "    - |b_(n+2)| = 1\n",
        "    - Για 14 από τα πρώτα n στοιχεία: b_i ≠ b_(n+2)\n",
        "    - Για τα υπόλοιπα από τα πρώτα n στοιχεία: b_i = b_(n+2)\n",
        "    - b_(n+1) = 0\n",
        "    - b_(n+3) = 0\n",
        "\n",
        "    Parameters:\n",
        "        n (int)   : Το μήκος του διανύσματος b είναι n+3.\n",
        "        x         : Διάνυσμα λύσης\n",
        "\n",
        "    Returns:\n",
        "        numpy.ndarray: Το διάνυσμα b με τις ιδιότητες που ορίζονται στο πρόβλημα.\n",
        "    \"\"\"\n",
        "    # Δημιουργία του διανύσματος b με μηδενικά στοιχεία αρχικά\n",
        "    b = np.zeros(n + 3)\n",
        "\n",
        "    # Επιλογή τυχαίας τιμής για b_(n+2)\n",
        "    #b[-2] = np.random.choice([-1, 1])\n",
        "    b[-2] = sign\n",
        "\n",
        "    for i in range(n):\n",
        "      if x[i] == 1:\n",
        "        # αν το i είναι μέρος της λύσης τότε πρέπει το bi!=bn-2\n",
        "        b[i] = -b[-2]\n",
        "      else:\n",
        "        b[i] = b[-2]\n",
        "\n",
        "    return b\n",
        "\n",
        "\n",
        "def find_vector_b(reduced_basis, n):\n",
        "    \"\"\"\n",
        "    Find a vector b in the lattice satisfying the given conditions.\n",
        "\n",
        "    Args:\n",
        "        reduced_basis (numpy.ndarray): The LLL-reduced lattice basis matrix.\n",
        "        n (int): The dimension of the knapsack problem.\n",
        "\n",
        "    Returns:\n",
        "        numpy.ndarray: The vector b satisfying the conditions.\n",
        "    \"\"\"\n",
        "    rows, cols = reduced_basis.shape\n",
        "    for combination in range(1, 2**rows):  # Try all combinations of rows\n",
        "        # Generate coefficients for the linear combination\n",
        "        coefficients = [(combination >> i) & 1 for i in range(rows)]\n",
        "        b = sum(coeff * row for coeff, row in zip(coefficients, reduced_basis))\n",
        "\n",
        "        # Check conditions\n",
        "        if all(abs(b[i]) == 1 for i in range(n)):  # |b1| = |b2| = ... = |bn| = 1\n",
        "            if abs(b[n+1]) == 1:  # |bn+2| = 1\n",
        "                if b[n] == 0 and b[n+2] == 0:  # bn+1 = 0, bn+3 = 0\n",
        "                    return b\n",
        "\n",
        "    raise ValueError(\"No valid vector b found in the lattice.\")\n",
        "\n",
        "\n",
        "def check_vector_b(b):\n",
        "    \"\"\"\n",
        "    Checks if Knapsack Lemma holds for a given vector.\n",
        "    :param b (numpy.ndarray): The vector to check.\n",
        "    :returns bool: True if the vector satisfies the conditions, False otherwise.\n",
        "    \"\"\"\n",
        "    n = len(b) - 3\n",
        "    if not all(abs(b_i) == 1 for b_i in b[:n]):\n",
        "      return False\n",
        "    if abs(b[n + 1]) != 1 :\n",
        "      return False\n",
        "    if b[n] != 0 or b[n + 2] != 0:\n",
        "        return False\n",
        "    return True\n",
        "\n",
        "\n",
        "# Solve knapsack with LLL\n",
        "def solve_knapsack_with_lll(n, d, hamming):\n",
        "    # Step 1: Create knapsack problem\n",
        "    a, a0, density, solution_weight, _, solution = find(n, d, hamming)\n",
        "    N = math.ceil(np.sqrt(n)) + 1\n",
        "    print(\"################################# STEP 1 - Create knapsack problem #################################\")\n",
        "    print(\"Knapsack Problem:\")\n",
        "    print(\"a:\", a)\n",
        "    print(\"a0:\", a0)\n",
        "    print(\"Density:\", density)\n",
        "    print(\"Solution Weight:\", solution_weight)\n",
        "    np.set_printoptions(threshold=sys.maxsize)\n",
        "    print(\"Solution:\", solution)\n",
        "    np.set_printoptions(threshold = False)\n",
        "    print(\"N:\", N)\n",
        "\n",
        "    # Step 2: Construct lattice\n",
        "    print(\"################################# STEP 2 - Construct lattice #################################\")\n",
        "    lattice = construct_lattice(a, a0, N, hamming)\n",
        "    print(\"Lattice:\")\n",
        "    print(lattice)\n",
        "\n",
        "    # Step 3: Apply LLL reduction\n",
        "    print(\"################################# STEP 3 - Apply LLL reduction #################################\")\n",
        "    reduced_lattice = lll_algorithm(lattice.copy(),0.99)\n",
        "    print(\"Reduced Lattice:\")\n",
        "    print(reduced_lattice)\n",
        "\n",
        "\n",
        "    # Step 4: Recover solution\n",
        "    print(\"################################# STEP 4 - Extract and verify solution #################################\")\n",
        "    for vector in reduced_lattice:\n",
        "      lll_solution = 0\n",
        "      for i in range(n):\n",
        "        lll_solution += a[i]*abs(vector[i]-vector[-2])/2\n",
        "      #print(\"LLL Solution:\", lll_solution)\n",
        "      #print(\"Original  S :\", a0)\n",
        "      #print(\"LLL Solution 2:\", lll_solution2)\n",
        "      if(lll_solution == a0):\n",
        "        return lll_solution, vector, a0\n",
        "    return None, None, a0\n",
        "\n",
        "\n",
        "# Parameters\n",
        "n = 30\n",
        "d = 1\n",
        "hamming = 15\n",
        "\n",
        "# Solve the knapsack problem with LLL\n",
        "recovered_solution, vector, true_solution = solve_knapsack_with_lll(n, d, hamming)\n",
        "\n",
        "# Output results\n",
        "print(\"################################# RESULTS #################################\")\n",
        "if recovered_solution is not None:\n",
        "    print(\"Recovered LLL solution:\", recovered_solution)\n",
        "    print(\"True solution:\", true_solution)\n",
        "    print(\"Match:\", recovered_solution == true_solution)\n",
        "    np.set_printoptions(threshold=sys.maxsize)\n",
        "    print(\"Vector:\", vector)\n",
        "    np.set_printoptions(threshold = False)\n",
        "    if check_vector_b(vector):\n",
        "      print(\"Vector satisfies the Knapsack Lemma.\")\n",
        "    else:\n",
        "      print(\"Vector does not satisfy the Knapsack Lemma.\")\n",
        "else:\n",
        "    print(\"No solution found.\")"
      ],
      "metadata": {
        "colab": {
          "base_uri": "https://localhost:8080/"
        },
        "id": "Zegm0YE36EYJ",
        "outputId": "e3e9c6a7-673b-461d-e384-4be6f48badc1"
      },
      "execution_count": null,
      "outputs": [
        {
          "output_type": "stream",
          "name": "stdout",
          "text": [
            "################################# STEP 1 - Create knapsack problem #################################\n",
            "Knapsack Problem:\n",
            "a: [654966885, 900724656, 444390706, 771075754, 571803029, 882008365, 680566386, 820652717, 626379552, 2694287, 1068893872, 402591187, 393569177, 315129706, 515096595, 472665278, 107466266, 885195181, 600854427, 808826892, 1069447946, 582747524, 75190884, 855091317, 26584886, 734114269, 680342077, 381922143, 947219285, 818112506]\n",
            "a0: 10306258447\n",
            "Density: 1.0001927332430454\n",
            "Solution Weight: 15\n",
            "Solution: [0 1 1 1 1 0 0 1 1 0 0 0 0 1 1 1 0 0 0 1 1 1 0 1 0 1 0 0 0 1]\n",
            "N: 7\n",
            "################################# STEP 2 - Construct lattice #################################\n",
            "Lattice:\n",
            "[[          2           0           0 ...  4584768195           0\n",
            "            7]\n",
            " [          0           2           0 ...  6305072592           0\n",
            "            7]\n",
            " [          0           0           2 ...  3110734942           0\n",
            "            7]\n",
            " ...\n",
            " [          0           0           0 ...  6630534995           0\n",
            "            7]\n",
            " [          0           0           0 ...  5726787542           0\n",
            "            7]\n",
            " [          1           1           1 ... 72143809129           1\n",
            "          105]]\n",
            "################################# STEP 3 - Apply LLL reduction #################################\n",
            "Reduced Lattice:\n",
            "[[ 0 -2  0 ...  0  0  0]\n",
            " [ 0  4  0 ...  0  0  0]\n",
            " [ 0  0  0 ...  0  0  0]\n",
            " ...\n",
            " [-1 -3  1 ...  0 -1  0]\n",
            " [ 0  2  0 ...  7  0  0]\n",
            " [-2  0  0 ...  0  0 -7]]\n",
            "################################# STEP 4 - Extract and verify solution #################################\n",
            "################################# RESULTS #################################\n",
            "Recovered LLL solution: 10306258447.0\n",
            "True solution: 10306258447\n",
            "Match: True\n",
            "Vector: [-1  1  1  1  1 -1 -1  1  1 -1 -1 -1 -1  1  1  1 -1 -1 -1  1  1  1 -1  1\n",
            " -1  1 -1 -1 -1  1  0 -1  0]\n",
            "Vector satisfies the Knapsack Lemma.\n"
          ]
        }
      ]
    }
  ]
}